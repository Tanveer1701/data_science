{
 "cells": [
  {
   "cell_type": "code",
   "execution_count": null,
   "id": "cd795c90-90ce-4e2a-8d3b-2145ba80f9c8",
   "metadata": {},
   "outputs": [],
   "source": [
    "1 .Explain thK following with an example\n",
    " Artificial Intelligence\n",
    " Machine Learning,\n",
    " Deep LKarning\n",
    "ans-Artificial Intelligence (AI) is a field of computer science that aims to create intelligent machines that can perform tasks that typically require human intelligence, such as recognizing speech, making decisions, and solving problems.\n",
    "Machine Learning (ML) is a subset of AI that involves training machines to learn from data, rather than being explicitly programmed.\n",
    "eg: email spam filtering\n",
    "Deep Learning (DL) is a type of ML that involves training artificial neural networks with multiple layers.\n",
    "eg:image recognition"
   ]
  },
  {
   "cell_type": "code",
   "execution_count": null,
   "id": "296564f4-cc79-471c-b9e9-29134b1a3295",
   "metadata": {},
   "outputs": [],
   "source": [
    "Q2- What is supKrvisKd lKarnin*? List somK K=amplKs of supKrvisKd lKarnin*.\n",
    "ans-Supervised learning is a type of machine learning in which the algorithm is trained on labeled data\n",
    "  eg:image classification,regression"
   ]
  },
  {
   "cell_type": "code",
   "execution_count": null,
   "id": "ff8876ff-51ce-4fe2-9b76-77cfc994c454",
   "metadata": {},
   "outputs": [],
   "source": [
    "Q3- GWhat is unsupKrvisKd lKarnin*? List somK K=amplKs of unsupKrvisKd lKarnin*.\n",
    "ans-Unsupervised learning is a type of machine learning in which the algorithm is trained on unlabeled data\n",
    "ans-eg:clustering, dimensionality reduction"
   ]
  },
  {
   "cell_type": "code",
   "execution_count": null,
   "id": "9ace7cc8-5da2-423e-8cd5-00fcd28ba583",
   "metadata": {},
   "outputs": [],
   "source": [
    "Q4- What is thK diffKrKncK bKtwKKn AI, ML, DL, and DS?\n",
    "ans-Artificial Intelligence (AI) is a broad field that focuses on creating intelligent machines that can perform tasks that typically require human intelligence, such as visual perception, speech recognition, decision-making, and natural language processing.\n",
    "Ml is  a subset of AI and DL is subset of ML.\n",
    "Data Science (DS) is a field that combines statistical and computational methods to extract insights and knowledge from data. It involves collecting, cleaning, analyzing, and interpreting large datasets to make data-driven decisions.\n",
    "\n"
   ]
  },
  {
   "cell_type": "code",
   "execution_count": null,
   "id": "f8a2b5eb-4e6b-4562-887c-5bb33ba3fc35",
   "metadata": {},
   "outputs": [],
   "source": [
    "Q5- What arK thK main diffKrKncKs bKtwKKn supKrvisKd, unsupKrvisKd, and sKmi-supKrvisKd lKarnin*?\n",
    "ans- Supervised learning takes labelled data, unsupervised one takes unlabelled data. And,semi supervised learning takes both labelled and unlablled."
   ]
  },
  {
   "cell_type": "code",
   "execution_count": 1,
   "id": "e4a6b8d8-f8f3-469b-8ea4-76fec5482b57",
   "metadata": {},
   "outputs": [
    {
     "ename": "SyntaxError",
     "evalue": "invalid syntax (3233344889.py, line 1)",
     "output_type": "error",
     "traceback": [
      "\u001b[0;36m  Cell \u001b[0;32mIn[1], line 1\u001b[0;36m\u001b[0m\n\u001b[0;31m    Q6- What is train, tKst and validation split? E=plain thK importancK of Kach tKrm.\u001b[0m\n\u001b[0m                                           ^\u001b[0m\n\u001b[0;31mSyntaxError\u001b[0m\u001b[0;31m:\u001b[0m invalid syntax\n"
     ]
    }
   ],
   "source": [
    "Q6- What is train, tKst and validation split? E=plain thK importancK of Kach tKrm.\n",
    "ans-Training set: This is the largest portion of the dataset, used to train the model\n",
    "Validation set: This is a smaller portion of the dataset used to tune the hyperparameters \n",
    "Test set: This is a portion of the dataset that the model has not seen before, used to evaluate the final performance of the model. "
   ]
  },
  {
   "cell_type": "code",
   "execution_count": null,
   "id": "c10ed252-5b35-465b-8c67-1dfb864582df",
   "metadata": {},
   "outputs": [],
   "source": [
    "Q7- How can unsupKrvisKd lKarnin* bK usKd in anomaly dKtKction?\n",
    "ans-anomalies can be identified as data points that are dissimilar to the majority of the data points in an unsupervised learning model."
   ]
  },
  {
   "cell_type": "code",
   "execution_count": null,
   "id": "a7e02ad7-b5e2-4e2a-bcf9-3ebfd32ce1d5",
   "metadata": {},
   "outputs": [],
   "source": [
    "Q8- List down somK commonly usKd supKrvisKd lKarnin* al*orithms and unsupKrvisKd lKarnin*\n",
    "al*orithms.\n",
    "ans-Supervised Learning Algorithms:\n",
    "\n",
    "Linear Regression\n",
    "Logistic Regression\n",
    "Unsupervised Learning Algorithms:\n",
    "\n",
    "Clustering: K-Means, Hierarchical Clustering, DBSCAN\n",
    "Dimensionality Reduction: Principal Component Analysis (PCA), t-SNE, Autoencoder"
   ]
  }
 ],
 "metadata": {
  "kernelspec": {
   "display_name": "Python 3 (ipykernel)",
   "language": "python",
   "name": "python3"
  },
  "language_info": {
   "codemirror_mode": {
    "name": "ipython",
    "version": 3
   },
   "file_extension": ".py",
   "mimetype": "text/x-python",
   "name": "python",
   "nbconvert_exporter": "python",
   "pygments_lexer": "ipython3",
   "version": "3.10.8"
  }
 },
 "nbformat": 4,
 "nbformat_minor": 5
}
