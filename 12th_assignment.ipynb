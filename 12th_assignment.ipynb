{
 "cells": [
  {
   "cell_type": "code",
   "execution_count": null,
   "id": "0055e45c-937a-4c4e-a166-7983c6d9b9a0",
   "metadata": {},
   "outputs": [],
   "source": [
    "#Q1. Explain why we have to use the Exception class while creating a Custom Exception.\n",
    "ans-In Python, all built-in exceptions inherit from the base Exception class. Similarly, when creating a custom exception, it is recommended to inherit from the base Exception class to ensure that the custom exception is compatible with the existing exception hierarchy."
   ]
  },
  {
   "cell_type": "code",
   "execution_count": null,
   "id": "ca97a49d-3432-44df-9f14-8540fe6cfc8c",
   "metadata": {},
   "outputs": [],
   "source": [
    "#Q2. Write a python program to print Python Exception Hierarchy.\n",
    "ans-help(Exception)\n",
    "    print(dir(Exception))"
   ]
  },
  {
   "cell_type": "code",
   "execution_count": null,
   "id": "c48d00b7-a693-415d-b563-7739d0f1e2bf",
   "metadata": {},
   "outputs": [],
   "source": [
    "#Q3. What errors are defined in the ArithmeticError class? Explain any two with an example.\n",
    "ans- It is the base class for all arithmetic-related exceptions in Python. \n",
    "ZeroDivisionError: This exception is raised when an operation attempts to divide by zero\n",
    "x = 5\n",
    "y = 0\n",
    "z = x / y  # raises ZeroDivisionError\n",
    "OverflowError: This error occurs when an arithmetic operation produces a result that is too large to be represented by the available memory or data type\n",
    "x = 2**1000\n",
    "y = 2**1000\n",
    "z = x * y  # raises OverflowError"
   ]
  },
  {
   "cell_type": "code",
   "execution_count": null,
   "id": "e161ae66-265d-4aa9-951f-3d5b23692549",
   "metadata": {},
   "outputs": [],
   "source": [
    "#Q4. Why LookupError class is used? Explain with an example KeyError and IndexError.\n",
    "ans-The LookupError class in Python is a built-in class that represents errors that occur when a key or index used to access a value is not found in a mapping or sequence.\n",
    "d = {'a': 1, 'b': 2}\n",
    "x = d['c']  # raises KeyError\n",
    "a = [1, 2, 3]\n",
    "x = a[3]  # raises IndexError"
   ]
  },
  {
   "cell_type": "code",
   "execution_count": null,
   "id": "ea9f8126-1130-4a2b-868c-41d7dc8819b7",
   "metadata": {},
   "outputs": [],
   "source": [
    "#Q5. Explain ImportError. What is ModuleNotFoundError?\n",
    "ans-In Python, ImportError is a built-in exception that is raised when a module, package, or object cannot be imported.\n",
    "ModuleNotFoundError is a subclass of ImportError that was introduced in Python 3.6. It is raised when the specified module or package cannot be found in the current search path."
   ]
  },
  {
   "cell_type": "code",
   "execution_count": null,
   "id": "ebf2e338-0935-4645-bd5f-23d8d475717d",
   "metadata": {},
   "outputs": [],
   "source": [
    "#Q6. List down some best practices for exception handling in python.\n",
    "ans-Be specific: Use specific exception classes whenever possible, rather than catching broad classes like Exception or BaseException. This makes your code more readable and helps ensure that you're handling only the errors you expect.\n",
    "\n",
    "Keep it simple: Don't use exceptions for normal control flow. Instead, use them to handle unexpected errors that can't be handled in any other way.\n",
    "\n",
    "Handle exceptions where they occur: Try to catch exceptions as close to their source as possible, rather than letting them propagate up the call stack. This makes your code more readable and helps ensure that you're handling the error in the right context."
   ]
  }
 ],
 "metadata": {
  "kernelspec": {
   "display_name": "Python 3 (ipykernel)",
   "language": "python",
   "name": "python3"
  },
  "language_info": {
   "codemirror_mode": {
    "name": "ipython",
    "version": 3
   },
   "file_extension": ".py",
   "mimetype": "text/x-python",
   "name": "python",
   "nbconvert_exporter": "python",
   "pygments_lexer": "ipython3",
   "version": "3.10.8"
  }
 },
 "nbformat": 4,
 "nbformat_minor": 5
}
