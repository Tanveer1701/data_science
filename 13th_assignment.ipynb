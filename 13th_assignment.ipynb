{
 "cells": [
  {
   "cell_type": "code",
   "execution_count": null,
   "id": "78cea4ec-6795-43a3-982c-4b027b987295",
   "metadata": {},
   "outputs": [],
   "source": [
    "#). what is multithreading in python? hy is it used? Name the module used to handle threads in python.\n",
    "ans-Multithreading in Python refers to the execution of multiple threads of control within a single process. Each thread runs concurrently with the others, and can execute independent code paths.\n",
    "Multithreading is used in Python (and other programming languages) to improve the performance of applications that can benefit from executing multiple tasks simultaneously. \n",
    "Python provides a built-in module called threading that can be used to handle threads in Python. The threading module provides a high-level API for creating and managing threads, and includes features such as locking and synchronization primitives, which can be used to manage shared resources and coordinate thread execution.\n",
    "\n"
   ]
  },
  {
   "cell_type": "code",
   "execution_count": null,
   "id": "2a0c11e3-024c-4fcb-ba9f-22ad1a40548e",
   "metadata": {},
   "outputs": [],
   "source": [
    "#. hy threading module used? rite the use of the following functions\n",
    "( activeCount\n",
    " currentThread\n",
    " enumerate)\n",
    "ans-\n",
    "The threading module is used in Python to provide a high-level API for creating and managing threads. It includes features such as locking and synchronization primitives, which can be used to manage shared resources and coordinate thread execution.\n",
    "activeCount(): This function returns the number of currently active Thread objects in the current thread's thread control block. It can be used to determine how many threads are currently executing in the program.\n",
    "\n",
    "currentThread(): This function returns a reference to the Thread object representing the current thread of execution. It can be used to get information about the current thread, such as its name, identification number, and whether it is a daemon thread.\n",
    "\n",
    "enumerate(): This function returns a list of all active Thread objects in the current thread's thread control block. It can be used to get information about all the threads currently executing in the program."
   ]
  },
  {
   "cell_type": "code",
   "execution_count": null,
   "id": "574b9d14-1f03-4a37-9a7a-1d073911e466",
   "metadata": {},
   "outputs": [],
   "source": [
    "#3. Explain the following functions\n",
    "( run\n",
    " start\n",
    " join\n",
    "' isAlive)\n",
    " ans-\n",
    " run(): This method is called when a thread starts executing. It defines the behavior of the thread, and typically contains a loop or other code that executes until the thread completes. You can define your own run() method in a subclass of Thread to customize the behavior of the thread.\n",
    "\n",
    "start(): This method starts the execution of a thread by calling its run() method. When you call start(), a new thread is created and starts executing in parallel with the main thread. You can only call start() once on a given Thread object; if you try to start it again, it will raise an exception.\n",
    "\n",
    "join(): This method waits for a thread to complete its execution. When you call join() on a thread, the current thread will block until the target thread completes. This is useful for coordinating the execution of multiple threads, or for waiting for a particular thread to complete before continuing with the rest of the program.\n",
    "\n",
    "isAlive(): This method returns a Boolean value indicating whether a thread is currently executing. If the thread is still running, it returns True; if it has completed its execution, it returns False. You can use this method to check whether a thread is still executing before calling join() on it."
   ]
  },
  {
   "cell_type": "code",
   "execution_count": null,
   "id": "c61a0537-9f12-4c73-97e8-beb3c9bd179a",
   "metadata": {},
   "outputs": [],
   "source": [
    "#4. rite a python program to create two threads. Thread one must print the list of squares and thread\n",
    "two must print the list of cubes\n",
    "ans-import threading\n",
    "\n",
    "def print_squares():\n",
    "    for i in range(1, 11):\n",
    "        print(f\"{i} squared is {i ** 2}\")\n",
    "\n",
    "def print_cubes():\n",
    "    for i in range(1, 11):\n",
    "        print(f\"{i} cubed is {i ** 3}\")\n",
    "\n",
    "t1 = threading.Thread(target=print_squares)\n",
    "t2 = threading.Thread(target=print_cubes)\n",
    "\n",
    "t1.start()\n",
    "t2.start()\n",
    "\n",
    "t1.join()\n",
    "t2.join()\n"
   ]
  },
  {
   "cell_type": "code",
   "execution_count": null,
   "id": "5b63f817-5e0a-4e7f-8efe-eef96ae09b88",
   "metadata": {},
   "outputs": [],
   "source": [
    "#5. State advantages and disadvantages of multithreading\n",
    "ans-Advantages of multithreading:\n",
    "\n",
    "Increased performance: Multithreading can increase the overall performance of a program by allowing multiple tasks to be executed simultaneously. This can lead to faster processing times and improved responsiveness.\n",
    "Efficient resource utilization: Multithreading can make efficient use of system resources, as threads can share memory and other system resources, reducing the overall resource usage of a program.\n",
    "\n",
    "Disadvantages of multithreading:\n",
    "\n",
    "Increased complexity: Multithreaded programs can be more complex than single-threaded programs, as they must manage multiple threads and ensure that they are synchronized correctly.\n",
    "Race conditions and synchronization issues: Multithreading can lead to race conditions and synchronization issues, where multiple threads access shared resources simultaneously, leading to unpredictable behavior or errors.\n"
   ]
  },
  {
   "cell_type": "code",
   "execution_count": null,
   "id": "ec6a21c1-f1aa-4b45-8832-d21c7bd3e275",
   "metadata": {},
   "outputs": [],
   "source": [
    "#6. Explain deadlocks and race conditions.\n",
    "ans-Deadlock occurs when two or more threads are blocked, waiting for each other to release a resource that they need in order to proceed. This can happen when each thread is holding a resource that the other thread needs to continue, resulting in a circular waiting pattern. Deadlocks can cause a program to hang or become unresponsive.\n",
    "\n",
    "Race condition occurs when two or more threads access a shared resource simultaneously, and the outcome depends on the order in which the threads execute. This can lead to unpredictable behavior or errors, as the program's behavior depends on timing and thread scheduling\n"
   ]
  }
 ],
 "metadata": {
  "kernelspec": {
   "display_name": "Python 3 (ipykernel)",
   "language": "python",
   "name": "python3"
  },
  "language_info": {
   "codemirror_mode": {
    "name": "ipython",
    "version": 3
   },
   "file_extension": ".py",
   "mimetype": "text/x-python",
   "name": "python",
   "nbconvert_exporter": "python",
   "pygments_lexer": "ipython3",
   "version": "3.10.8"
  }
 },
 "nbformat": 4,
 "nbformat_minor": 5
}
