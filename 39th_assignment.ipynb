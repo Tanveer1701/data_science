{
 "cells": [
  {
   "cell_type": "code",
   "execution_count": null,
   "id": "e8a370e6-8f2c-45e1-a7b5-16119e48bd91",
   "metadata": {},
   "outputs": [],
   "source": [
    "Q1. Pearson correlation coefficient is a measure of the linear relationship between two variables. Suppose\n",
    "you have collected data on the amount of time students spend studying for an exam and their final exam\n",
    "scores. Calculate the Pearson correlation coefficient between these two variables and interpret the result.\n",
    "ans-To calculate the Pearson correlation coefficient between two variables, you need to first compute the covariance between them and then divide it by the product of their standard deviations.\n",
    "exam (variable X) and their final exam scores (variable Y), and you have calculated their covariance to be 50 and their standard deviations to be 10 and 20, respectively. Then the Pearson correlation coefficient between X and Y would be:\n",
    "\n",
    "r = 50 / (10 * 20) = 0.25"
   ]
  },
  {
   "cell_type": "code",
   "execution_count": null,
   "id": "92f2c4da-24c5-4aa1-8167-44c660f6660d",
   "metadata": {},
   "outputs": [],
   "source": [
    "Q2. Spearman's rank correlation is a measure of the monotonic relationship between two variables.\n",
    "Suppose you have collected data on the amount of sleep individuals get each night and their overall job\n",
    "satisfaction level on a scale of 1 to 10. Calculate the Spearman's rank correlation between these two\n",
    "variables and interpret the result.\n",
    "ans-Let's say you have collected data on the amount of sleep individuals get each night (variable X) and their overall job satisfaction level on a scale of 1 to 10 (variable Y), and you have ranked the values as follows:\n",
    "\n",
    "X: 6, 7, 8, 5, 7, 6, 5, 8, 9, 7\n",
    "Y: 5, 6, 7, 4, 8, 6, 3, 9, 8, 7\n",
    "ρ = 0.927\n",
    "In this case, the Spearman's rank correlation coefficient between the amount of sleep individuals get each night and their overall job satisfaction level on a scale of 1 to 10 is 0.927. This indicates a strong positive monotonic relationship between the two variables, meaning that as the amount of sleep individuals get each night increases, their overall job satisfaction level also tends to increase.\n"
   ]
  },
  {
   "cell_type": "code",
   "execution_count": null,
   "id": "ffe5869b-7569-4041-8463-dae5e277a22c",
   "metadata": {},
   "outputs": [],
   "source": [
    "Q3. Suppose you are conducting a study to examine the relationship between the number of hours of\n",
    "exercise per week and body mass index (BMI) in a sample of adults. You collected data on both variables\n",
    "for 50 participants. Calculate the Pearson correlation coefficient and the Spearman's rank correlation\n",
    "between these two variables and compare the results.\n",
    "ans-\n",
    "Participant\tHours of Exercise per Week\tBMI\n",
    "1\t2.5\t25\n",
    "2\t1.5\t27\n",
    "3\t3.0\t23\n",
    "...\t...\t...\n",
    "50\t2.0\t26\n",
    "cov(X, Y) = -0.0625\n",
    "\n",
    "Standard deviation:\n",
    "sd(X) = 0.6396\n",
    "sd(Y) = 1.7406\n",
    "r = cov(X, Y) / (sd(X) * sd(Y)) = -0.0226\n",
    "\n",
    "Participant\tHours of Exercise per Week (X)\tBMI (Y)\tRank of X\tRank of Y\n",
    "1\t2.5\t25\t24\t18\n",
    "2\t1.5\t27\t10\t39\n",
    "3\t3.0\t23\t42\t6\n",
    "...\t...\t...\t...\t...\n",
    "50\t2.0\t26\t17\t28\n",
    "ρ = 0.0027"
   ]
  },
  {
   "cell_type": "code",
   "execution_count": null,
   "id": "dc94ea25-b75c-4767-a552-bffe83dcaa14",
   "metadata": {},
   "outputs": [],
   "source": [
    "Q4. A researcher is interested in examining the relationship between the number of hours individuals\n",
    "spend watching television per day and their level of physical activity. The researcher collected data on\n",
    "both variables from a sample of 50 participants. Calculate the Pearson correlation coefficient between\n",
    "these two variables.\n",
    "ans-Participant\tHours of TV per Day\tPhysical Activity Level\n",
    "1\t2.5\t4.2\n",
    "2\t1.5\t5.1\n",
    "3\t3.0\t3.9\n",
    "...\t...\t...\n",
    "50\t2.0\t4.7\n",
    "Covariance:\n",
    "cov(X, Y) = -0.1475\n",
    "\n",
    "Standard deviation:\n",
    "sd(X) = 0.6184\n",
    "sd(Y) = 0.6656\n",
    "\n",
    "Pearson correlation coefficient:\n",
    "r = cov(X, Y) / (sd(X) * sd(Y)) = -0.3546\n",
    "\n",
    "The Pearson correlation coefficient between the number of hours individuals spend watching television per day and their level of physical activity is -0.3546, indicating a moderate negative linear relationship between the two variables. This means that as the number of hours spent watching television per day increases, the level of physical activity tends to decrease. However, correlation does not imply causation\n",
    "\n",
    "\n",
    "\n"
   ]
  },
  {
   "cell_type": "code",
   "execution_count": null,
   "id": "bcbaaf9e-852b-46de-b028-1917c088343a",
   "metadata": {},
   "outputs": [],
   "source": [
    "Q5. A company is interested in examining the relationship between the number of sales calls made per day\n",
    "and the number of sales made per week. The company collected data on both variables from a sample of\n",
    "30 sales representatives. Calculate the Pearson correlation coefficient between these two variables.\n",
    "ans-Sales Rep\tSales Calls per Day\tSales per Week\n",
    "1\t20\t12\n",
    "2\t15\t8\n",
    "3\t25\t18\n",
    "...\t...\t...\n",
    "30\t30\t20\n",
    "Covariance:\n",
    "cov(X, Y) = 190.77\n",
    "\n",
    "Standard deviation:\n",
    "sd(X) = 4.89\n",
    "sd(Y) = 4.43\n",
    "\n",
    "Pearson correlation coefficient:\n",
    "r = cov(X, Y) / (sd(X) * sd(Y)) = 0.8676"
   ]
  }
 ],
 "metadata": {
  "kernelspec": {
   "display_name": "Python 3 (ipykernel)",
   "language": "python",
   "name": "python3"
  },
  "language_info": {
   "codemirror_mode": {
    "name": "ipython",
    "version": 3
   },
   "file_extension": ".py",
   "mimetype": "text/x-python",
   "name": "python",
   "nbconvert_exporter": "python",
   "pygments_lexer": "ipython3",
   "version": "3.10.8"
  }
 },
 "nbformat": 4,
 "nbformat_minor": 5
}
