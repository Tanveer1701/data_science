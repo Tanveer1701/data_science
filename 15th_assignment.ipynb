{
 "cells": [
  {
   "cell_type": "code",
   "execution_count": null,
   "id": "50b4eb13-a7bd-40ae-83a9-05796be48ac4",
   "metadata": {},
   "outputs": [],
   "source": [
    "#Q1. What is a database? Differentiate between SQL and NoSQL databases.\n",
    "ans-A database is a collection of data that is organized and stored in a way that allows for easy access, retrieval, and management of data.\n",
    "SQL and NoSQL are two types of database management systems that differ in their approach to data storage and retrieval.\n",
    "QL (Structured Query Language) databases are relational databases that store data in tables with predefined columns and data types. SQL databases use the SQL language to manipulate data and execute queries.\n",
    "NoSQL (Not Only SQL) databases, on the other hand, are non-relational databases that do not use the traditional table-based data storage model. Instead, NoSQL databases use various data models such as document-based, key-value, graph, and column-family models. "
   ]
  },
  {
   "cell_type": "code",
   "execution_count": null,
   "id": "b047c638-5640-430c-b492-cba1a0ff3614",
   "metadata": {},
   "outputs": [],
   "source": [
    "#Q2. What is DDL? Explain why CREATE, DROP, ALTER, and TRUNCATE are used with an example.\n",
    "ans-\n",
    "DDL stands for Data Definition Language, which is a subset of SQL (Structured Query Language) used to define and manage database structures and schema. DDL statements are used to create, modify, and delete database objects such as tables, indexes, views, and stored procedures.\n",
    "CREATE - used to create new database objects such as tables, views, indexes, and procedures. For example:\n",
    "    CREATE TABLE Customers (\n",
    "    CustomerID INT PRIMARY KEY,\n",
    "    FirstName VARCHAR(50),\n",
    "    LastName VARCHAR(50),\n",
    "    Email VARCHAR(100),\n",
    "    Phone VARCHAR(20)\n",
    ");\n",
    "DROP - used to remove a database object such as a table, view, or index. For example\n",
    "DROP TABLE Customers;\n",
    "ALTER - used to modify the structure of a database object such as a table, view, or index. For example:\n",
    "    ALTER TABLE Customers\n",
    "ADD Address VARCHAR(100);\n",
    "\n",
    "TRUNCATE - used to delete all data from a table. For example:\n",
    "TRUNCATE TABLE Customers;\n"
   ]
  },
  {
   "cell_type": "code",
   "execution_count": null,
   "id": "4b4460a0-f320-4218-8d97-fc5b8c3f7af3",
   "metadata": {},
   "outputs": [],
   "source": [
    "#Q3. What is DML? Explain INSERT, UPDATE, and DELETE with an example.\n",
    "ans-DML stands for Data Manipulation Language, which is a subset of SQL (Structured Query Language) used to manage and manipulate data within a database.\n",
    "INSERT - used to add new rows of data to a table. For example:\n",
    "    INSERT INTO Customers (CustomerID, FirstName, LastName, Email, Phone)\n",
    "VALUES (1, 'John', 'Doe', 'johndoe@email.com', '123-456-7890');\n",
    "UPDATE - used to modify existing data within a table. For example:\n",
    "UPDATE Customers\n",
    "SET Phone = '555-555-5555'\n",
    "WHERE CustomerID = 1;\n",
    "DELETE - used to delete existing data from a table. For example:\n",
    "    DELETE FROM Customers\n",
    "WHERE CustomerID = 1;\n"
   ]
  },
  {
   "cell_type": "code",
   "execution_count": null,
   "id": "a1d74297-4ea5-4ce4-a3d1-06995c14f7f9",
   "metadata": {},
   "outputs": [],
   "source": [
    "#Q4. What is DQL? Explain SELECT with an example.\n",
    "ans-DQL stands for Data Query Language, which is a subset of SQL (Structured Query Language) used to retrieve and query data from a database\n",
    "SELECT * FROM Customers;\n"
   ]
  },
  {
   "cell_type": "code",
   "execution_count": null,
   "id": "526e4286-56d6-4f37-aa3e-8140514ff365",
   "metadata": {},
   "outputs": [],
   "source": [
    "Q5. Explain Primary Key and Foreign Key.\n",
    "A Primary Key is a column or set of columns in a table that uniquely identifies each row of data in that table. Primary Keys are used to enforce data integrity, ensure that each row in a table is unique, and serve as a reference point for other tables\n",
    "A Foreign Key is a column or set of columns in a table that references the Primary Key column in another table."
   ]
  },
  {
   "cell_type": "code",
   "execution_count": null,
   "id": "60c681b2-def0-4872-a800-4c3ff2902e58",
   "metadata": {},
   "outputs": [],
   "source": [
    "Q6. Write a python code to connect MySQL to python. Explain the cursor() and execute() method.\n",
    "ans-import mysql.connector\n",
    "\n",
    "mydb = mysql.connector.connect(\n",
    "  host=\"localhost\",\n",
    "  user=\"yourusername\",\n",
    "  password=\"yourpassword\",\n",
    "  database=\"mydatabase\"\n",
    ")\n",
    "\n",
    "mycursor = mydb.cursor()\n",
    "\n",
    "mycursor.execute(\"SELECT * FROM customers\")\n",
    "\n",
    "myresult = mycursor.fetchall()\n",
    "\n",
    "for x in myresult:\n",
    "  print(x)\n",
    "\n"
   ]
  },
  {
   "cell_type": "code",
   "execution_count": null,
   "id": "ecd6d128-f694-49ad-b0f2-28fd7ecdf020",
   "metadata": {},
   "outputs": [],
   "source": [
    "Q7. Give the order of execution of SQL clauses in an SQL query.\n",
    "ans-FROM clause: The FROM clause specifies the table or tables from which data will be retrieved. This is the first clause executed in a query.\n",
    "\n",
    "WHERE clause: The WHERE clause is used to filter data based on specified conditions. This is executed after the FROM clause.\n",
    "\n",
    "GROUP BY clause: The GROUP BY clause is used to group data based on one or more columns. This is executed after the WHERE clause.\n",
    "\n",
    "HAVING clause: The HAVING clause is used to filter groups based on specified conditions. This is executed after the GROUP BY clause.\n",
    "\n",
    "SELECT clause: The SELECT clause is used to retrieve specific columns from the table or tables specified in the FROM clause. This is executed after the HAVING clause.\n",
    "\n",
    "ORDER BY clause: The ORDER BY clause is used to sort the result set based on one or more columns. This is executed after the SELECT clause.\n",
    "\n",
    "LIMIT/OFFSET clause: The LIMIT/OFFSET clause is used to limit the number of rows returned by the query. This is executed last, after all other clauses have been executed."
   ]
  }
 ],
 "metadata": {
  "kernelspec": {
   "display_name": "Python 3 (ipykernel)",
   "language": "python",
   "name": "python3"
  },
  "language_info": {
   "codemirror_mode": {
    "name": "ipython",
    "version": 3
   },
   "file_extension": ".py",
   "mimetype": "text/x-python",
   "name": "python",
   "nbconvert_exporter": "python",
   "pygments_lexer": "ipython3",
   "version": "3.10.8"
  }
 },
 "nbformat": 4,
 "nbformat_minor": 5
}
