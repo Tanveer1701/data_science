{
 "cells": [
  {
   "cell_type": "code",
   "execution_count": null,
   "id": "0abb7f76-67bd-43fe-b452-f1166fd899b3",
   "metadata": {},
   "outputs": [],
   "source": [
    "Q1: What are the Probability Mass Function (PMF) and Probability Density Function (PDF)? Explain with\n",
    "an example.\n",
    "ans-A probability mass function (PMF) is a function that gives the probability that a discrete random variable is exactly equal to a certain value\n",
    "eg: toss of coin\n",
    "A probability density function (PDF) is a function that describes the relative likelihood of a continuous random variable taking a certain value\n",
    "eg: height of a person"
   ]
  },
  {
   "cell_type": "code",
   "execution_count": null,
   "id": "99e73b0f-2c6e-47a9-a61b-61683ee0538e",
   "metadata": {},
   "outputs": [],
   "source": [
    "Q2: What is Cumulative Density Function (CDF)? Explain with an example. Why CDF is used?\n",
    "ans-CDF provides a cumulative distribution of probabilities from the lowest value to a given value of X.\n",
    "F(x) = P(X ≤ x)\n",
    "The CDF is used for several purposes in probability theory and statistics. It can be used to calculate the probability of a range of values of X, calculate the median and quartiles of the distribution"
   ]
  },
  {
   "cell_type": "code",
   "execution_count": null,
   "id": "b1d1e190-948f-4e55-b626-61ee94f727b9",
   "metadata": {},
   "outputs": [],
   "source": [
    "Q3: What are some examples of situations where the normal distribution might be used as a model?\n",
    "Explain how the parameters of the normal distribution relate to the shape of the distribution.\n",
    "ans-Some examples of situations where the normal distribution might be used as a model are:\n",
    "\n",
    "Height of people in a population\n",
    "Weights of manufactured products\n",
    "Errors in measurement or observations\n",
    "Scores on intelligence tests\n",
    "\n",
    "parameters are: mean,SD, variance"
   ]
  },
  {
   "cell_type": "code",
   "execution_count": null,
   "id": "88521c4b-6d6f-45f2-9521-97b6a3eac2ee",
   "metadata": {},
   "outputs": [],
   "source": [
    "Q4: Explain the importance of Normal Distribution. Give a few real-life examples of Normal\n",
    "Distribution.\n",
    "ans- It is used to model a wide variety of phenomena in many different fields, including finance, physics, biology, psychology, and more. Some examples of situations where the normal distribution might be used as a model are:\n",
    "\n",
    "Height of people in a population\n",
    "Weights of manufactured products"
   ]
  },
  {
   "cell_type": "code",
   "execution_count": null,
   "id": "070fec62-a2ba-43ee-b9c9-15f8c14195c3",
   "metadata": {},
   "outputs": [],
   "source": [
    "Q5: What is Bernaulli Distribution? Give an Example. What is the difference between Bernoulli\n",
    "Distribution and Binomial Distribution?\n",
    "ans-Bernoulli distribution is a discrete probability distribution that models a single experiment with two possible outcomes\n",
    "\n",
    "eg: toss of coin\n",
    "In Bernoulli n=1 but for binomail n can be anything"
   ]
  },
  {
   "cell_type": "code",
   "execution_count": null,
   "id": "563dff07-643f-49cc-955e-20a0d0ca0c87",
   "metadata": {},
   "outputs": [],
   "source": [
    "Q6. Consider a dataset with a mean of 50 and a standard deviation of 10. If we assume that the dataset\n",
    "is normally distributed, what is the probability that a randomly selected observation will be greater\n",
    "than 60? Use the appropriate formula and show your calculations.\n",
    "ans-for z=1\n",
    "p=0.15"
   ]
  },
  {
   "cell_type": "code",
   "execution_count": null,
   "id": "9b003a14-2698-41d5-9358-8928d7931d4a",
   "metadata": {},
   "outputs": [],
   "source": [
    "Q7: Explain uniform Distribution with an example.\n",
    "ans-Uniform distribution is a continuous probability distribution where every possible value within a given interval has an equal chance of occurring. \n",
    "eg:roll of dice"
   ]
  },
  {
   "cell_type": "code",
   "execution_count": null,
   "id": "17caafa4-aa6f-41cc-a791-583ee5d73a5c",
   "metadata": {},
   "outputs": [],
   "source": [
    "Q8: What is the z score? State the importance of the z score.\n",
    "ans-The z-score, also known as the standard score, is a measure of how many standard deviations an observation or data point is from the mean of a distribution\n",
    "The importance of the z-score lies in its ability to standardize different variables and data sets"
   ]
  },
  {
   "cell_type": "code",
   "execution_count": null,
   "id": "250c9849-cf02-4f1c-972c-c72a6431ebc3",
   "metadata": {},
   "outputs": [],
   "source": [
    "Q9: What is Central Limit Theorem? State the significance of the Central Limit Theorem.\n",
    "ans-CLT says that the distribution of the sample means from a large sample of independent and identically distributed random variables approaches a normal distribution, regardless of the shape of the population distribution.\n"
   ]
  },
  {
   "cell_type": "code",
   "execution_count": null,
   "id": "f210571e-a071-4039-a47c-58518eecd146",
   "metadata": {},
   "outputs": [],
   "source": [
    "Q10: State the assumptions of the Central Limit Theorem.\n",
    "ans-The Central Limit Theorem (CLT) is based on certain assumptions, which include:\n",
    "\n",
    "Independence: The sample values should be selected independently of each other.\n",
    "Random sampling: The sample values should be selected randomly from the population.\n",
    "Sample size: The sample size should be sufficiently large (usually n > 30), so that the sample means can be approximated to a normal distribution.\n",
    "Finite population: The population from which the sample is drawn should have a finite mean and variance.\n",
    "Identically distributed: The sample values should be drawn from a population that is identically distributed, i.e., the same distribution applies to all values in the population."
   ]
  }
 ],
 "metadata": {
  "kernelspec": {
   "display_name": "Python 3 (ipykernel)",
   "language": "python",
   "name": "python3"
  },
  "language_info": {
   "codemirror_mode": {
    "name": "ipython",
    "version": 3
   },
   "file_extension": ".py",
   "mimetype": "text/x-python",
   "name": "python",
   "nbconvert_exporter": "python",
   "pygments_lexer": "ipython3",
   "version": "3.10.8"
  }
 },
 "nbformat": 4,
 "nbformat_minor": 5
}
