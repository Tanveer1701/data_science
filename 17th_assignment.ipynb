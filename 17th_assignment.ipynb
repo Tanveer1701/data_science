{
 "cells": [
  {
   "cell_type": "code",
   "execution_count": null,
   "id": "fdc70554-1d21-4024-aa44-1046fff79f4d",
   "metadata": {},
   "outputs": [],
   "source": [
    "#Q1. What is an API? Give an example, where an API is used in real life.\n",
    "ans-An API (Application Programming Interface) is a set of rules, protocols, and tools for building software applications. APIs allow different software applications to communicate with each other, exchange data and functionality, and work together seamlessly.For example, the Uber app uses the Google Maps API to display real-time maps and provide users with accurate directions and estimated travel times."
   ]
  },
  {
   "cell_type": "code",
   "execution_count": null,
   "id": "0e8881d1-ad57-48dc-ae96-54c50630ef24",
   "metadata": {},
   "outputs": [],
   "source": [
    "#Q2. Give advantages and disadvantages of using API.\n",
    "ans-Advantages of using API:\n",
    "\n",
    "Easy Integration: APIs simplify the process of integrating different software applications and services, making it easier for developers to build new applications and services.\n",
    "Increased Efficiency: APIs can automate repetitive tasks, streamline workflows, and reduce manual errors, improving overall productivity and efficiency.\n",
    "Disadvantages of using API:\n",
    "\n",
    "Security Risks: APIs can create security vulnerabilities if not properly secured, leading to data breaches or unauthorized access to sensitive information.\n",
    "Complexity: APIs can be complex to design, build, and maintain, requiring specialized knowledge and expertise."
   ]
  },
  {
   "cell_type": "code",
   "execution_count": null,
   "id": "cabd297b-2940-4350-baf9-d80f745268b3",
   "metadata": {},
   "outputs": [],
   "source": [
    "#Q3. What is a Web API? Differentiate between API and Web API.\n",
    "ans-A Web API is an API that is designed specifically for use over the internet using HTTP (Hypertext Transfer Protocol) and other web technologies.\n",
    "A Web API is an API that is designed specifically for use over the internet using HTTP (Hypertext Transfer Protocol) and other web technologies."
   ]
  },
  {
   "cell_type": "code",
   "execution_count": null,
   "id": "32943aa8-b899-4573-a6af-e61cba5cdf92",
   "metadata": {},
   "outputs": [],
   "source": [
    "#Q4. Explain REST and SOAP Architecture. Mention shortcomings of SOAP.\n",
    "ans-REST (Representational State Transfer) and SOAP (Simple Object Access Protocol) are two popular architectural styles used for building web services.\n",
    "While SOAP has several advantages, including support for complex data structures and built-in security features, it also has some significant drawbacks, including:\n",
    "\n",
    "Complexity: SOAP-based APIs can be complex to design, build, and maintain, requiring specialized knowledge and expertise.\n",
    "\n",
    "Performance: SOAP-based APIs can be slower and less efficient than RESTful APIs due to the additional overhead associated with the XML-based messaging format."
   ]
  },
  {
   "cell_type": "code",
   "execution_count": null,
   "id": "61f55af0-c8d9-4202-9fa4-59a0abe57010",
   "metadata": {},
   "outputs": [],
   "source": [
    "#Q5. Differentiate between REST and SOAP.\n",
    "ans-REST (Representational State Transfer) and SOAP (Simple Object Access Protocol) are two popular architectural styles used for building web services. Here are the main differences between the two:\n",
    "\n",
    "Protocol: REST is an architectural style that is based on HTTP, while SOAP is a messaging protocol that can use various underlying transport protocols such as HTTP, SMTP, and others.\n",
    "\n",
    "Messaging Format: RESTful APIs typically use lightweight and easy-to-parse data formats such as JSON or XML, while SOAP-based APIs use XML for message formatting.\n",
    "\n",
    "Communication: RESTful APIs use standard HTTP methods such as GET, POST, PUT, and DELETE to communicate with resources, while SOAP-based APIs use the SOAP protocol for communication."
   ]
  }
 ],
 "metadata": {
  "kernelspec": {
   "display_name": "Python 3 (ipykernel)",
   "language": "python",
   "name": "python3"
  },
  "language_info": {
   "codemirror_mode": {
    "name": "ipython",
    "version": 3
   },
   "file_extension": ".py",
   "mimetype": "text/x-python",
   "name": "python",
   "nbconvert_exporter": "python",
   "pygments_lexer": "ipython3",
   "version": "3.10.8"
  }
 },
 "nbformat": 4,
 "nbformat_minor": 5
}
