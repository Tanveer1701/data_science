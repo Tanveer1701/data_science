{
 "cells": [
  {
   "cell_type": "code",
   "execution_count": null,
   "id": "81e6de7f-1810-4636-9ca7-701235cccbc5",
   "metadata": {},
   "outputs": [],
   "source": [
    "#Q1. What is multiprocessing in python? Why is it useful?\n",
    "ans-Multiprocessing in Python is a way to utilize multiple CPU cores to execute multiple tasks concurrently in separate processes. It allows the Python program to perform multiple tasks simultaneously, which can significantly improve the performance and reduce the execution time"
   ]
  },
  {
   "cell_type": "code",
   "execution_count": null,
   "id": "c668d9a8-542a-428d-86c0-3422fb18f2bd",
   "metadata": {},
   "outputs": [],
   "source": [
    "#Q2. What are the differences between multiprocessing and multithreading?\n",
    "ans-Multiprocessing and multithreading are two methods of achieving parallelism in computing. The main difference between the two is that multiprocessing allows multiple processes to run concurrently, while multithreading allows multiple threads within a single process to run concurrently\n"
   ]
  },
  {
   "cell_type": "code",
   "execution_count": null,
   "id": "df940729-d9bb-4419-99b7-68cc354e7b7a",
   "metadata": {},
   "outputs": [],
   "source": [
    "#Q3. Write a python code to create a process using the multiprocessing module.\n",
    "ans-import multiprocessing\n",
    "\n",
    "def worker():\n",
    "    \"\"\"This function defines the task to be run in the child process\"\"\"\n",
    "    print(\"Child process is running\")\n",
    "\n",
    "if __name__ == '__main__':\n",
    "    # Create a new process using the multiprocessing module\n",
    "    p = multiprocessing.Process(target=worker)\n",
    "    \n",
    "    # Start the process\n",
    "    p.start()\n",
    "    \n",
    "    # Wait for the process to finish\n",
    "    p.join()\n",
    "    \n",
    "    print(\"Parent process is running\")\n"
   ]
  },
  {
   "cell_type": "code",
   "execution_count": null,
   "id": "9646bb9d-250a-40f2-b90c-80af815df075",
   "metadata": {},
   "outputs": [],
   "source": [
    "#Q4. What is a multiprocessing pool in python? Why is it used?\n",
    "ans-In Python's multiprocessing module, a Pool is a way to create a group of worker processes that are all executing the same function or method.\n",
    "\n",
    "The Pool class provides a convenient way to parallelize the execution of a function across multiple input values, distributing the work across the worker processes in the pool."
   ]
  },
  {
   "cell_type": "code",
   "execution_count": null,
   "id": "cb047c3c-fb6d-49a7-ba6d-54b21e35640f",
   "metadata": {},
   "outputs": [],
   "source": [
    "#Q5. How can we create a pool of worker processes in python using the multiprocessing module?\n",
    "ans-We can create a pool of worker processes in Python using the multiprocessing module by instantiating a Pool object and calling its methods to execute tasks in parallel.\n"
   ]
  },
  {
   "cell_type": "code",
   "execution_count": null,
   "id": "cb58ec3e-c2fa-4eb0-9971-568564410ed4",
   "metadata": {},
   "outputs": [],
   "source": [
    "#Q6. Write a python program to create 4 processes, each process should print a different number using the\n",
    "multiprocessing module in python.\n",
    "ans-import multiprocessing\n",
    "\n",
    "def worker(num):\n",
    "    \"\"\"This function defines the task to be run in each child process\"\"\"\n",
    "    print(f\"Child process {num} is running\")\n",
    "\n",
    "if __name__ == '__main__':\n",
    "    # Create a list of process objects\n",
    "    processes = []\n",
    "    \n",
    "    # Create 4 processes\n",
    "    for i in range(4):\n",
    "        p = multiprocessing.Process(target=worker, args=(i,))\n",
    "        processes.append(p)\n",
    "        \n",
    "    # Start the processes\n",
    "    for p in processes:\n",
    "        p.start()\n",
    "    \n",
    "    # Wait for the processes to finish\n",
    "    for p in processes:\n",
    "        p.join()\n",
    "        \n",
    "    print(\"Parent process is running\")\n"
   ]
  }
 ],
 "metadata": {
  "kernelspec": {
   "display_name": "Python 3 (ipykernel)",
   "language": "python",
   "name": "python3"
  },
  "language_info": {
   "codemirror_mode": {
    "name": "ipython",
    "version": 3
   },
   "file_extension": ".py",
   "mimetype": "text/x-python",
   "name": "python",
   "nbconvert_exporter": "python",
   "pygments_lexer": "ipython3",
   "version": "3.10.8"
  }
 },
 "nbformat": 4,
 "nbformat_minor": 5
}
