{
 "cells": [
  {
   "cell_type": "code",
   "execution_count": null,
   "id": "b5a21abf-3769-4064-a5bb-9a0247d84329",
   "metadata": {},
   "outputs": [],
   "source": [
    "Q1. What is Bayes' theorem?\n",
    "ans-It describes how to update the probability of a hypothesis or event based on new evidence or information.\n",
    "P(A|B) = (P(B|A) * P(A)) / P(B)"
   ]
  },
  {
   "cell_type": "code",
   "execution_count": null,
   "id": "c842c6b8-3e56-4350-ba4a-b3d6999160fa",
   "metadata": {},
   "outputs": [],
   "source": [
    "Q2. What is the formula for Bayes' theorem?\n",
    "ans-P(A|B) = (P(B|A) * P(A)) / P(B)\n",
    "\n",
    "where:\n",
    "\n",
    "P(A|B) represents the conditional probability of event A given event B. It denotes the probability of event A occurring, given that event B has already occurred.\n",
    "P(B|A) is the conditional probability of event B given event A. It denotes the probability of event B occurring, given that event A has already occurred.\n",
    "P(A) and P(B) are the probabilities of events A and B occurring independently."
   ]
  },
  {
   "cell_type": "code",
   "execution_count": null,
   "id": "5ce182ee-6b39-4e66-839e-d1ce0bceac7f",
   "metadata": {},
   "outputs": [],
   "source": [
    "Q3. How is Bayes' theorem used in practice?\n",
    "ans- It has applications in spam filtering, medical diagnosis, pattern recognition, and many other areas where uncertainty and updating beliefs based on evidence are involved."
   ]
  },
  {
   "cell_type": "code",
   "execution_count": null,
   "id": "5eca27e2-8f62-4745-909f-a36c494f1003",
   "metadata": {},
   "outputs": [],
   "source": [
    "Q4. What is the relationship between Bayes' theorem and conditional probability?\n",
    "ans-Bayes' theorem and conditional probability are closely related concepts in probability theory. Bayes' theorem provides a way to calculate conditional probabilities by incorporating prior probabilities and new evidence."
   ]
  },
  {
   "cell_type": "code",
   "execution_count": null,
   "id": "6de157de-f8c9-4077-96e1-e1102e53e4d6",
   "metadata": {},
   "outputs": [],
   "source": [
    "Q5. How do you choose which type of Naive Bayes classifier to use for any given problem?\n",
    "ans-Nature of the features: The type of Naive Bayes classifier depends on the nature of the features in your dataset.\n",
    "\n",
    "Gaussian Naive Bayes: It assumes that the features follow a Gaussian (normal) distribution. If your features are continuous and approximately normally distributed, Gaussian Naive Bayes is a suitable choice.\n",
    "\n",
    "Multinomial Naive Bayes: It is typically used for discrete features, such as word counts or document frequencies. If your features are categorical or represent counts/frequencies, Multinomial Naive Bayes is often applied, such as in text classification problems.\n",
    "\n",
    "Bernoulli Naive Bayes: It is useful for binary features, where each feature represents the presence or absence of a particular characteristic. If your features are binary, such as yes/no or true/false variables, Bernoulli Naive Bayes is appropriate."
   ]
  },
  {
   "cell_type": "code",
   "execution_count": null,
   "id": "898f2194-20a2-46fa-bf10-c7c35930529c",
   "metadata": {},
   "outputs": [],
   "source": [
    "Q6. Assignment:\n",
    "You have a dataset with two features, X1 and X2, and two possible classes, A and B. You want to use Naive\n",
    "Bayes to classify a new instance with features X1 = 3 and X2 = 4. The following table shows the frequency of\n",
    "each feature value for each class:\n",
    "Class X1=1 X1=2 X1=3 X2=1 X2=2 X2=3 X2=4\n",
    "A 3 3 4 4 3 3 3\n",
    "B 2 2 1 2 2 2 3\n",
    "Assuming equal prior probabilities for each class, which class would Naive Bayes predict the new instance\n",
    "to belong to?\n",
    "ans-Naive Bayes would predict the new instance to belong to class B."
   ]
  }
 ],
 "metadata": {
  "kernelspec": {
   "display_name": "Python 3 (ipykernel)",
   "language": "python",
   "name": "python3"
  },
  "language_info": {
   "codemirror_mode": {
    "name": "ipython",
    "version": 3
   },
   "file_extension": ".py",
   "mimetype": "text/x-python",
   "name": "python",
   "nbconvert_exporter": "python",
   "pygments_lexer": "ipython3",
   "version": "3.10.8"
  }
 },
 "nbformat": 4,
 "nbformat_minor": 5
}
