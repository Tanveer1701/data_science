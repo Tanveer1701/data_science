{
 "cells": [
  {
   "cell_type": "code",
   "execution_count": null,
   "id": "52598016-a733-4bd6-8222-3622d6aef494",
   "metadata": {},
   "outputs": [],
   "source": [
    "Q1. What are Eigenvalues and Eigenvectors? How are they related to the Eigen-Decomposition approach?\n",
    "Explain with an example.\n",
    "ans-An eigenvector is a non-zero vector v such that when it is multiplied by a matrix A, the result is a scaled version of the original vector\n",
    "an eigenvector remains in the same direction or is only scaled by a factor (the eigenvalue) when multiplied by the matrix A.\n",
    "(A - λI) = [2-λ  1  ]\n",
    "            [1    3-λ]\n",
    "\n",
    "Determinant of (A - λI) = (2-λ)(3-λ) - 1*1 = λ^2 - 5λ + 5\n",
    "\n",
    "Setting the determinant equal to zero, we solve for the eigenvalues:\n",
    "\n",
    "λ^2 - 5λ + 5 = 0\n",
    "\n",
    "By solving this quadratic equation, we find two eigenvalues: λ₁ = 4.5615 and λ₂ = 0.4384.\n",
    "\n",
    "To find the eigenvectors, we substitute each eigenvalue back into the eigenvalue equation:\n",
    "\n",
    "For λ₁ = 4.5615:\n",
    "(A - λ₁I)v₁ = 0\n",
    "\n",
    "Substituting the values, we get:\n",
    "[2-4.5615  1  ] * [v₁₁] = [0]\n",
    "[1          3-4.5615]   [v₁₂]   [0]\n",
    "\n",
    "Solving the system of equations, we find the eigenvector v₁ = [0.8507, 0.5257].\n",
    "\n",
    "Similarly, for λ₂ = 0.4384:\n",
    "(A - λ₂I)v₂ = 0\n",
    "\n",
    "Substituting the values, we get:\n",
    "[2-0.4384  1  ] * [v₂₁] = [0]\n",
    "[1          3-0.4384]   [v₂₂]   [0]\n",
    "\n",
    "Solving the system of equations, we find the eigenvector v₂ = [-0.5257, 0.8507].\n",
    "\n",
    "So, in this example, the matrix A has two eigenvalues (λ₁ = 4.5615 and λ₂ = 0.4384) and their corresponding eigenvectors (v₁ = [0.8507, 0.5257] and v₂ = [-0.5257, 0.8507]).\n",
    "\n",
    "Eigen-decomposition is an approach that decomposes a matrix A into a product of eigenvectors and eigenvalues. It can be expressed as:\n",
    "\n",
    "A = VΛV^(-1)\n",
    "\n",
    "where V is a matrix whose columns are the eigenvectors of A, Λ is a diagonal matrix with eigenvalues on the diagonal, and V^(-1) is the inverse of V.\n",
    "\n",
    "In our example, the eigen-decomposition of matrix A would be:\n",
    "\n",
    "A = [0.8507 -0.5257]\n"
   ]
  },
  {
   "cell_type": "code",
   "execution_count": null,
   "id": "ba9bc740-1f1d-4528-890c-05a7664dfe53",
   "metadata": {},
   "outputs": [],
   "source": [
    "Q2. What is eigen decomposition and what is its significance in linear algebra?\n",
    "ans-Eigen decomposition, also known as eigendecomposition, is a fundamental concept in linear algebra that involves decomposing a matrix into a set of eigenvectors and eigenvalues. It has significant importance in various applications of linear algebra.\n"
   ]
  },
  {
   "cell_type": "code",
   "execution_count": null,
   "id": "55b8e640-9378-4e9f-91bc-511673d04027",
   "metadata": {},
   "outputs": [],
   "source": [
    "Q3. What are the conditions that must be satisfied for a square matrix to be diagonalizable using the\n",
    "Eigen-Decomposition approach? Provide a brief proof to support your answer.\n",
    "ans-A square matrix A can be diagonalizable using the eigen-decomposition approach if and only if the following conditions are satisfied:\n",
    "\n",
    "Algebraic multiplicity equals geometric multiplicity: For each eigenvalue λ, the algebraic multiplicity (the number of times it appears as a root of the characteristic equation) must be equal to its geometric multiplicity (the dimension of the eigenspace associated with that eigenvalue). In other words, the matrix must have enough linearly independent eigenvectors for each eigenvalue.\n",
    "\n",
    "Linearly independent eigenvectors: The eigenvectors associated with distinct eigenvalues must be linearly independent. This condition ensures that the eigenvectors form a basis for the vector space, allowing for diagonalization."
   ]
  },
  {
   "cell_type": "code",
   "execution_count": null,
   "id": "6b35298e-1b8e-440b-b43b-0763096a21ad",
   "metadata": {},
   "outputs": [],
   "source": [
    "Q4. What is the significance of the spectral theorem in the context of the Eigen-Decomposition approach?\n",
    "How is it related to the diagonalizability of a matrix? Explain with an example.\n",
    "ans-The spectral theorem states that for a real symmetric matrix A, there exists an orthogonal matrix P and a diagonal matrix D such that:\n",
    "\n",
    "A = PDP^T\n",
    "\n",
    "where P is an orthogonal matrix whose columns are the eigenvectors of A, and D is a diagonal matrix whose diagonal entries are the corresponding eigenvalues."
   ]
  },
  {
   "cell_type": "code",
   "execution_count": null,
   "id": "3f3cac57-86d3-4f90-b94d-9a87f3519326",
   "metadata": {},
   "outputs": [],
   "source": [
    "Q5. How do you find the eigenvalues of a matrix and what do they represent?\n",
    "ans-To find the eigenvalues of a matrix, you need to solve the characteristic equation associated with the matrix. Let's go through the steps to find the eigenvalues:\n",
    "\n",
    "Start with a square matrix A of size n x n.\n",
    "Set up the characteristic equation: det(A - λI) = 0, where λ is the eigenvalue, and I is the identity matrix of the same size as A.\n",
    "Expand the determinant and set it equal to zero.\n",
    "Solve the equation to find the values of λ, which are the eigenvalues."
   ]
  },
  {
   "cell_type": "code",
   "execution_count": null,
   "id": "d6de8080-68f0-4818-a001-0627b0ba1471",
   "metadata": {},
   "outputs": [],
   "source": [
    "Q6. What are eigenvectors and how are they related to eigenvalues?\n",
    "ans-Eigenvectors are non-zero vectors that, when multiplied by a square matrix, undergo only a scalar transformation. In other words, an eigenvector remains in the same direction but can be scaled by a scalar factor, which is called the eigenvalue."
   ]
  },
  {
   "cell_type": "code",
   "execution_count": null,
   "id": "487bb0ed-1c24-4c44-9923-af2aab3bb835",
   "metadata": {},
   "outputs": [],
   "source": [
    "Q7. Can you explain the geometric interpretation of eigenvectors and eigenvalues?\n",
    "ans-he geometric interpretation of eigenvectors and eigenvalues provides insight into their meaning and significance in the context of linear transformations and matrix operations.\n",
    "Eigenvectors represent the directions along which a linear transformation (represented by a matrix) has a simple effect. When an eigenvector is multiplied by the matrix, it only gets scaled by the corresponding eigenvalue, while its direction remains unchanged.\n",
    "Eigenvalues are scalar factors that determine the scaling or stretching effect of a linear transformation along the corresponding eigenvector directions. They represent the amount by which the eigenvector is stretched or shrunk."
   ]
  },
  {
   "cell_type": "code",
   "execution_count": null,
   "id": "60324aaa-9ca8-4902-85f9-c466ee0d903f",
   "metadata": {},
   "outputs": [],
   "source": [
    "Q8. What are some real-world applications of eigen decomposition?\n",
    "ans-PCA, image compression,data clustering"
   ]
  },
  {
   "cell_type": "code",
   "execution_count": null,
   "id": "d0705b7d-32a5-4eef-8431-a928fb0f4ca5",
   "metadata": {},
   "outputs": [],
   "source": [
    "Q9. Can a matrix have more than one set of eigenvectors and eigenvalues?\n",
    "ans-yes, a matrix can have more than one set of eigenvectors and eigenvalues under certain conditions"
   ]
  },
  {
   "cell_type": "code",
   "execution_count": null,
   "id": "bcf0c853-6f79-4447-b389-640a9b551bb9",
   "metadata": {},
   "outputs": [],
   "source": [
    "Q10. In what ways is the Eigen-Decomposition approach useful in data analysis and machine learning?\n",
    "Discuss at least three specific applications or techniques that rely on Eigen-Decomposition.\n",
    "ans-Eigen-decomposition, also known as eigendecomposition, is a valuable technique in data analysis and machine learning. It offers insights into the underlying structure of data and provides a basis for various algorithms and applications"
   ]
  }
 ],
 "metadata": {
  "kernelspec": {
   "display_name": "Python 3 (ipykernel)",
   "language": "python",
   "name": "python3"
  },
  "language_info": {
   "codemirror_mode": {
    "name": "ipython",
    "version": 3
   },
   "file_extension": ".py",
   "mimetype": "text/x-python",
   "name": "python",
   "nbconvert_exporter": "python",
   "pygments_lexer": "ipython3",
   "version": "3.10.8"
  }
 },
 "nbformat": 4,
 "nbformat_minor": 5
}
