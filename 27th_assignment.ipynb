{
 "cells": [
  {
   "cell_type": "code",
   "execution_count": null,
   "id": "f0258b18-57ac-42f9-b78b-d200d615411c",
   "metadata": {},
   "outputs": [],
   "source": [
    "Que 1: Name any five plots that we can plot using the Seaborn library. Also, state the uses of each plot.\n",
    "ans- The five plots that we can use in seaborn library are:\n",
    "    1. histplot- it used for finding frequency of each item\n",
    "    2.scatterplot- it is used for plotting two numerical variables\n",
    "    3.barplot- it is used to plot categorical variable vs numerical variable\n",
    "    4.boxplot- it used to to find min, max and quartiles of a data\n",
    "    5.lineplot-it displays trend over a time"
   ]
  },
  {
   "cell_type": "code",
   "execution_count": null,
   "id": "8973b698-d1c5-4618-998f-8dfb708d0b27",
   "metadata": {},
   "outputs": [],
   "source": [
    "Que 2: Load the \"fmri\" dataset using the load_dataset function of seaborn. Plot a line plot using x =\n",
    "\"timepoint\" and y = \"signal\" for different events and regions.\n",
    "ans-a=sns.load_dataset(\"fmri\")\n",
    "sns.lineplot(x=\"timepoint\",y=\"signal\",data=a,hue=\"event\",style=\"region\")"
   ]
  },
  {
   "cell_type": "code",
   "execution_count": 1,
   "id": "52ef2cb4-787d-4cba-822e-c564d349310d",
   "metadata": {},
   "outputs": [
    {
     "ename": "SyntaxError",
     "evalue": "invalid syntax (3038202757.py, line 1)",
     "output_type": "error",
     "traceback": [
      "\u001b[0;36m  Cell \u001b[0;32mIn[1], line 1\u001b[0;36m\u001b[0m\n\u001b[0;31m    Que 3: Load the \"titanic\" dataset using the load_dataset function of seaborn. Plot two box plots using x =\u001b[0m\n\u001b[0m        ^\u001b[0m\n\u001b[0;31mSyntaxError\u001b[0m\u001b[0;31m:\u001b[0m invalid syntax\n"
     ]
    }
   ],
   "source": [
    "Que 3: Load the \"titanic\" dataset using the load_dataset function of seaborn. Plot two box plots using x =\n",
    "'pclass', y = 'age' and y = 'fare'.\n",
    "Note: pclass, age, and fare are columns in the titanic dataset.\n",
    "ans-\n",
    "import matplotlib.pyplot as plt\n",
    "t=sns.load_dataset(\"titanic\")\n",
    "sns.boxplot(data=t, x='pclass', y='age')\n",
    "plt.title(\"Age Distribution by Passenger Class\")\n",
    "plt.xlabel(\"Passenger Class\")\n",
    "plt.ylabel(\"Age\")\n",
    "sns.boxplot(data=t, x='pclass', y='fare')\n",
    "plt.title(\"Fare Distribution by Passenger Class\")\n",
    "plt.xlabel(\"Passenger Class\")\n",
    "plt.ylabel(\"Fare\")"
   ]
  },
  {
   "cell_type": "code",
   "execution_count": null,
   "id": "49452633-7064-4865-96f3-2d406bf35ef8",
   "metadata": {},
   "outputs": [],
   "source": [
    "Que 4: Use the \"diamonds\" dataset from seaborn to plot a histogram for the 'price' column. Use the hue\n",
    "parameter for the 'cut' column of the diamonds dataset.\n",
    "ans-d=sns.load_dataset(\"diamonds\")\n",
    "sns.histplot(data=d,x='price',hue='cut')"
   ]
  },
  {
   "cell_type": "code",
   "execution_count": null,
   "id": "c13a4e75-c906-4a6b-8627-fc2d01b3b7f9",
   "metadata": {},
   "outputs": [],
   "source": [
    "Que 5: Use the \"iris\" dataset from seaborn to plot a pair plot. Use the hue parameter for the \"species\" column\n",
    "of the iris dataset.\n",
    "ans-sns.pairplot(data=iris,hue=\"species\")"
   ]
  },
  {
   "cell_type": "code",
   "execution_count": null,
   "id": "752a4e68-edb0-4c76-ad89-14d74b4f5bbf",
   "metadata": {},
   "outputs": [],
   "source": [
    "Que 6: Use the \"flights\" dataset from seaborn to plot a heatmap.\n",
    "ans-f=sns.load_dataset(\"flights\")\n",
    "f_pivot = f.pivot(\"month\", \"year\", \"passengers\")\n",
    "sns.heatmap(data=f_pivot)"
   ]
  }
 ],
 "metadata": {
  "kernelspec": {
   "display_name": "Python 3 (ipykernel)",
   "language": "python",
   "name": "python3"
  },
  "language_info": {
   "codemirror_mode": {
    "name": "ipython",
    "version": 3
   },
   "file_extension": ".py",
   "mimetype": "text/x-python",
   "name": "python",
   "nbconvert_exporter": "python",
   "pygments_lexer": "ipython3",
   "version": "3.10.8"
  }
 },
 "nbformat": 4,
 "nbformat_minor": 5
}
