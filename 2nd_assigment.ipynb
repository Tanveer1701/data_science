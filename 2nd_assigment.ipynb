{
 "cells": [
  {
   "cell_type": "code",
   "execution_count": null,
   "id": "ceb4b444-047b-4d2f-8fb2-8fc6eb05cb74",
   "metadata": {},
   "outputs": [],
   "source": [
    "Q1. Which keyword is used to create a function? Create a function to return a list of odd numbers in the\n",
    "range of 1 to 25.\n",
    "Ans- def keyword is used to create a function.\n",
    "     def odd():\n",
    "        l=[]\n",
    "        for i in range(1:26):\n",
    "            if(i%2)!=0:\n",
    "             l.append(i)\n",
    "        return l\n",
    "    odd()"
   ]
  },
  {
   "cell_type": "code",
   "execution_count": null,
   "id": "17b86734-1a24-4cef-a3b9-d82eb3e556d0",
   "metadata": {},
   "outputs": [],
   "source": [
    "Q2. Why *args and **kwargs is used in some functions? Create a function each for *args and **kwargs to\n",
    "demonstrate their use.\n",
    "Ans-*args and **kwargs is used when we are not sure about the number of parameters that we are going to pass in the function.\n",
    "   eg:\n",
    "        def sum(*args):\n",
    "            sum=0\n",
    "            for i in args:\n",
    "                sum=sum+i\n",
    "            return\n",
    "    **kwargs is used to pass a variable number of keyword arguments to the function, these arguments are received by the function as dictionary.\n",
    "eg:\n",
    "    def details(**kwargs):\n",
    "        for key,value in kwargs.items():\n",
    "            print(key+\":\",value)\n",
    "        "
   ]
  },
  {
   "cell_type": "code",
   "execution_count": null,
   "id": "905431f3-c270-4ba4-83a0-85f72f2710a8",
   "metadata": {},
   "outputs": [],
   "source": [
    "Q3. What is an iterator in python? Name the method used to initialise the iterator object and the method\n",
    "used for iteration. Use these methods to print the first five elements of the given list [2, 4, 6, 8, 10, 12, 14, 16,\n",
    "18, 20].\n",
    "ans-Iterator is an object that allows to iterate over a sequence of elements.\n",
    "to initialize we can use iter() method to take argument and use next() method to retrieve next value in sequence.\n",
    "l=[2,4,6,8,10,12,14,16]\n",
    "my_iterator=iter(l)\n",
    "print(next(my_iterator))\n",
    "print(next(my_iterator))\n",
    "print(next(my_iterator))\n",
    "print(next(my_iterator))\n",
    "print(next(my_iterator))\n",
    "\n",
    " "
   ]
  },
  {
   "cell_type": "code",
   "execution_count": null,
   "id": "0d055886-6ba6-4f91-9a6e-6e3fbdcbbf01",
   "metadata": {},
   "outputs": [],
   "source": [
    "Q4. What is a generator function in python? Why yield keyword is used? Give an example of a generator\n",
    "function.\n",
    "ans-It is a specail function that returns an iterator objcet.\n",
    "Yield keyword is used in a generator function to return a value from the function without actually exiting the function.\n",
    "eg:\n",
    "    def generate(n):\n",
    "        for i in range(n):\n",
    "            yeild i\n",
    "    m=generate(5)\n",
    "    for i in m:\n",
    "        print(m)"
   ]
  },
  {
   "cell_type": "code",
   "execution_count": null,
   "id": "9825fd15-3b9a-4679-8dca-0925cad7d4e9",
   "metadata": {},
   "outputs": [],
   "source": [
    "Q5. Create a generator function for prime numbers less than 1000. Use the next() method to print the\n",
    "first 20 prime numbers.\n",
    "Ans-def generate_primes():\n",
    "    num = 2\n",
    "    while True:\n",
    "        if all(num % i != 0 for i in range(2, int(num**0.5)+1)):\n",
    "            yield num\n",
    "        num += 1\n",
    "\n",
    "# Create a generator object for prime numbers\n",
    "prime_generator = generate_primes()\n",
    "\n",
    "# Print the first 20 prime numbers using the next() method\n",
    "for i in range(20):\n",
    "    print(next(prime_generator))\n"
   ]
  }
 ],
 "metadata": {
  "kernelspec": {
   "display_name": "Python 3 (ipykernel)",
   "language": "python",
   "name": "python3"
  },
  "language_info": {
   "codemirror_mode": {
    "name": "ipython",
    "version": 3
   },
   "file_extension": ".py",
   "mimetype": "text/x-python",
   "name": "python",
   "nbconvert_exporter": "python",
   "pygments_lexer": "ipython3",
   "version": "3.10.8"
  }
 },
 "nbformat": 4,
 "nbformat_minor": 5
}
