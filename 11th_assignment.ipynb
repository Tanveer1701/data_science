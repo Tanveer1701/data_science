{
 "cells": [
  {
   "cell_type": "code",
   "execution_count": null,
   "id": "20189157-aa1e-4fae-bf5e-70ee325aef2a",
   "metadata": {},
   "outputs": [],
   "source": [
    "#Q1. What is an exception in python?Difference between exception and syntax errors.\n",
    "ans- In Python, an exception is an error that occurs during the execution of a program.\n",
    "The main difference between exceptions and syntax errors in Python is that syntax errors occur during the parsing of the code, while exceptions occur during the execution of the code. "
   ]
  },
  {
   "cell_type": "code",
   "execution_count": null,
   "id": "f0ef3ef5-2f59-45c8-94f5-83749714dfd8",
   "metadata": {},
   "outputs": [],
   "source": [
    "#Q2. What happens when an exception is not handled? Give an example.\n",
    "ans-If an exception is not handled in a Python program, it will terminate the program and display an error message to the user, indicating the type of exception that occurred and where in the program it occurred. This is known as an unhandled exception.\n",
    "try:\n",
    "    x = 10 / 0\n",
    "except ValueError:\n",
    "    print(\"Oops! ValueError occurred.\")"
   ]
  },
  {
   "cell_type": "code",
   "execution_count": null,
   "id": "20a8176d-72e6-48cc-b915-9e27099e6c24",
   "metadata": {},
   "outputs": [],
   "source": [
    "#q3.which python statements are used to catch and handle exceptions?\n",
    "ans-In Python, exceptions can be handled using a try-except block.\n",
    "eg:\n",
    "    try:\n",
    "    x = int(input(\"Enter a number: \"))\n",
    "    y = 10 / x\n",
    "    print(y)\n",
    "except ZeroDivisionError:\n",
    "    print(\"Error: division by zero\")"
   ]
  },
  {
   "cell_type": "code",
   "execution_count": null,
   "id": "cd3443c2-7493-459e-a556-8c609b5c4379",
   "metadata": {},
   "outputs": [],
   "source": [
    "#q4.what are custom exceptions? why we need them? explain with example\n",
    "ans- Custom exceptions are user-defined exceptions that are created by the programmer to handle specific types of errors or unexpected conditions that are not covered by the built-in exceptions in Python.\n",
    "We need custom exceptions to make our programs more robust and maintainable\n",
    "class InvalidInputError(Exception):\n",
    "    \"\"\"Exception raised when the input is invalid.\"\"\"\n",
    "\n",
    "    def __init__(self, message):\n",
    "        self.message = message\n",
    "try:\n",
    "    x = int(input(\"Enter a positive number: \"))\n",
    "    if x < 0:\n",
    "        raise InvalidInputError(\"Error: the number must be positive\")\n",
    "    else:\n",
    "        print(\"You entered:\", x)\n",
    "except InvalidInputError as e:\n",
    "    print(e.message)\n",
    "In this example, we use the custom exception InvalidInputError to handle the case where the user enters a negative number. If the user enters a negative number, the program raises the InvalidInputError exception with a custom error message. The except block catches the exception and displays the error message to the user.\n",
    "\n",
    "By using custom exceptions, we can provide more descriptive error messages to the users and make it easier to identify and fix errors in our programs.\n",
    "\n",
    "\n",
    "\n",
    "\n",
    "\n"
   ]
  }
 ],
 "metadata": {
  "kernelspec": {
   "display_name": "Python 3 (ipykernel)",
   "language": "python",
   "name": "python3"
  },
  "language_info": {
   "codemirror_mode": {
    "name": "ipython",
    "version": 3
   },
   "file_extension": ".py",
   "mimetype": "text/x-python",
   "name": "python",
   "nbconvert_exporter": "python",
   "pygments_lexer": "ipython3",
   "version": "3.10.8"
  }
 },
 "nbformat": 4,
 "nbformat_minor": 5
}
