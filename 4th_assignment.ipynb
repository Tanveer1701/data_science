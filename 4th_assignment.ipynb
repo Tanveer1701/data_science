{
 "cells": [
  {
   "cell_type": "code",
   "execution_count": null,
   "id": "4788b7d5-984d-4972-94e9-6f565951dd80",
   "metadata": {},
   "outputs": [],
   "source": [
    "Q1. Explain Class and Object with respect to Object-Oriented Programming. Give a suitable example.\n",
    "Ans-Class is a template for creating objects, and Objects is an instance of the Class.\n",
    "    All the objects of a Class have same attribute\n",
    "    eg:class Person:\n",
    "           def __init__(self, name, age, address):\n",
    "              self.name = name\n",
    "              self.age = age\n",
    "              self.address = address\n",
    "\n",
    "           def walk(self):\n",
    "              print(f\"{self.name} is walking.\")\n",
    "        "
   ]
  },
  {
   "cell_type": "code",
   "execution_count": null,
   "id": "f8025675-85a9-40ec-8af9-e9155b855d04",
   "metadata": {},
   "outputs": [],
   "source": [
    "Q2. Name the four pillars of OOPs.\n",
    "Ans-The four pillars are:\n",
    "     1.Encapsulation\n",
    "     2.Inheritance\n",
    "     3.Abstraction\n",
    "     4.Polymorphism"
   ]
  },
  {
   "cell_type": "code",
   "execution_count": null,
   "id": "a2e9f1d4-fdc8-4277-83a4-7446b12ab927",
   "metadata": {},
   "outputs": [],
   "source": [
    "Q3. Explain why the __init__() function is used. Give a suitable example.\n",
    "Ans-the __init__() function is a special method in Python that is called when an object is created from a class. \n",
    "     Its purpose is to initialize the attributes of the object, and it takes at least one argument (self).\n",
    "    eg:\n",
    "        class Person:\n",
    "           def __init__(self, name, age, address):\n",
    "              self.name = name\n",
    "              self.age = age\n",
    "              self.address = address\n",
    "\n",
    "           def walk(self):\n",
    "              print(f\"{self.name} is walking.\")\n",
    "        "
   ]
  },
  {
   "cell_type": "code",
   "execution_count": null,
   "id": "dd46d05a-32f1-4e44-b8cd-533904644bbb",
   "metadata": {},
   "outputs": [],
   "source": [
    "Q4. Why self is used in OOPs?\n",
    "Ans-The self variable is used to represent the instance of the class which is often used in object-oriented programming"
   ]
  },
  {
   "cell_type": "code",
   "execution_count": null,
   "id": "102ce7a7-4f5a-493c-83c3-ef8a3f469889",
   "metadata": {},
   "outputs": [],
   "source": [
    "Q5. What is inheritance? Give an example for each type of inheritance.\n",
    "Ans-Inheritance allows us to create a new class by inheriting the attributes and methods of an existing class. The new class is called the subclass, and the existing class is called the superclass.\n",
    "   Inheritance promotes code reuse and helps to avoid code duplication.\n",
    "    various types of inheritance:\n",
    "        Single inheritance.\n",
    "        Multi-level inheritance.\n",
    "        Multiple inheritance.\n",
    "        Multipath inheritance.\n",
    "        Hierarchical Inheritance.\n",
    "        Hybrid Inheritance."
   ]
  }
 ],
 "metadata": {
  "kernelspec": {
   "display_name": "Python 3 (ipykernel)",
   "language": "python",
   "name": "python3"
  },
  "language_info": {
   "codemirror_mode": {
    "name": "ipython",
    "version": 3
   },
   "file_extension": ".py",
   "mimetype": "text/x-python",
   "name": "python",
   "nbconvert_exporter": "python",
   "pygments_lexer": "ipython3",
   "version": "3.10.8"
  }
 },
 "nbformat": 4,
 "nbformat_minor": 5
}
