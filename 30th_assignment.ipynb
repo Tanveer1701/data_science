{
 "cells": [
  {
   "cell_type": "code",
   "execution_count": null,
   "id": "874d8c86-3242-4654-9e02-2b86c2499934",
   "metadata": {},
   "outputs": [],
   "source": [
    "Q1. What is Statistics?\n",
    "ans- Statistics is the science of collecting, organizing and analyzing the data."
   ]
  },
  {
   "cell_type": "code",
   "execution_count": null,
   "id": "50bd9126-9a10-48bb-9f01-92492497f1da",
   "metadata": {},
   "outputs": [],
   "source": [
    "Q2. Define the different types of statistics and give an example of when each type might be used.\n",
    "ans-There are basically 2 types of statistics:\n",
    "    1.descriptive statistics- it basically with summarising the data\n",
    "    2.Inferential statistics- it deals with taking decisions based on data\n",
    "    eg:\n",
    "        for marks of 50 students in class, asking about mean is descriptive statistics and asking if the marks is similar to other classes is inferential"
   ]
  },
  {
   "cell_type": "code",
   "execution_count": null,
   "id": "319d41bb-b463-42de-bf7d-b027ed639046",
   "metadata": {},
   "outputs": [],
   "source": [
    "Q3. What are the different types of data and how do they differ from each other? Provide an example of\n",
    "each type of data.\n",
    "ans- The different types of data are as follows:\n",
    "    1.quantitative-deals with numerical values  eg:height of a person\n",
    "    2.qualitative-deals with categorical values eg: bloodgroup"
   ]
  },
  {
   "cell_type": "code",
   "execution_count": null,
   "id": "42fd7724-7030-48cb-bcd3-5c9c0f8de079",
   "metadata": {},
   "outputs": [],
   "source": [
    "Q4. Categorise the following datasets with respect to quantitative and qualitative data types:\n",
    "(i) Grading in exam: A+, A, B+, B, C+, C, D, E\n",
    "ans- qualitative\n",
    "(ii) Colour of mangoes: yellow, green, orange, red\n",
    "ans-qualitative\n",
    "(iii) Height data of a class: [178.9, 179, 179.5, 176, 177.2, 178.3, 175.8,...]\n",
    "ans-quantitative\n",
    "(iv) Number of mangoes exported by a farm: [500, 600, 478, 672, ...]\n",
    "ans-quantitative"
   ]
  },
  {
   "cell_type": "code",
   "execution_count": null,
   "id": "4491f6c8-f426-43b7-b47a-5c06f1df914a",
   "metadata": {},
   "outputs": [],
   "source": [
    "Q5. Explain the concept of levels of measurement and give an example of a variable for each level.\n",
    "ans- Level of measurement can be categorised into 4 types:\n",
    "    1.nominal- categorical eg: married/unmarried\n",
    "    2.ordinal- ranked and order matters eg: rank in class\n",
    "    3.interval- no absolute zero eg: temperature\n",
    "    4.ratio- has absolute zero eg: grades "
   ]
  },
  {
   "cell_type": "code",
   "execution_count": null,
   "id": "ea2090ea-0391-4375-8e28-eb12c99a080b",
   "metadata": {},
   "outputs": [],
   "source": [
    "Q6. Why is it important to understand the level of measurement when analyzing data? Provide an\n",
    "example to illustrate your answer.\n",
    "ans-It is important to understand the level of measurement because different statistical methods or tests can be applied depending on the type of the data.\n",
    "eg: taking reviews of a product is ordinal product"
   ]
  },
  {
   "cell_type": "code",
   "execution_count": null,
   "id": "616ba034-b5fd-4a66-9239-606c9a3bfec6",
   "metadata": {},
   "outputs": [],
   "source": [
    "Q7. How nominal data type is different from ordinal data type.\n",
    "ans- nominal data doesn't have any ordering"
   ]
  },
  {
   "cell_type": "code",
   "execution_count": null,
   "id": "dc2df9da-9ea2-4533-a90e-034a457eb19d",
   "metadata": {},
   "outputs": [],
   "source": [
    "Q8. Which type of plot can be used to display data in terms of range?\n",
    "ans- a box plot can be used"
   ]
  },
  {
   "cell_type": "code",
   "execution_count": null,
   "id": "4e149209-ca67-49fd-81da-1457dfc07cbc",
   "metadata": {},
   "outputs": [],
   "source": [
    "Q9. Describe the difference between descriptive and inferential statistics. Give an example of each\n",
    "type of statistics and explain how they are used.\n",
    "ans-1.descriptive statistics- it basically with summarising the data\n",
    "    2.Inferential statistics- it deals with taking decisions based on data\n",
    "    eg:\n",
    "        for marks of 50 students in class, asking about mean is descriptive statistics and asking if the marks is similar to other classes is inferential"
   ]
  },
  {
   "cell_type": "code",
   "execution_count": null,
   "id": "04460aee-7f41-404f-8c87-1e4d3bfba461",
   "metadata": {},
   "outputs": [],
   "source": [
    "Q10. What are some common measures of central tendency and variability used in statistics? Explain\n",
    "how each measure can be used to describe a dataset.\n",
    "ans- common measures of central tendency are: mean,median ,mode\n",
    "common measures of variability are : std, variance"
   ]
  },
  {
   "cell_type": "code",
   "execution_count": null,
   "id": "b6b3dc94-e4fe-42b3-877e-946a66457a0e",
   "metadata": {},
   "outputs": [],
   "source": []
  }
 ],
 "metadata": {
  "kernelspec": {
   "display_name": "Python 3 (ipykernel)",
   "language": "python",
   "name": "python3"
  },
  "language_info": {
   "codemirror_mode": {
    "name": "ipython",
    "version": 3
   },
   "file_extension": ".py",
   "mimetype": "text/x-python",
   "name": "python",
   "nbconvert_exporter": "python",
   "pygments_lexer": "ipython3",
   "version": "3.10.8"
  }
 },
 "nbformat": 4,
 "nbformat_minor": 5
}
