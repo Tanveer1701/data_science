{
 "cells": [
  {
   "cell_type": "code",
   "execution_count": null,
   "id": "3204efed-efea-4244-827f-fe74d84e6986",
   "metadata": {},
   "outputs": [],
   "source": [
    "Q1. What is the Probability density function?\n",
    "ans-PDF is a function which descirbes the probaility of a continuous random variable taking a certain value,within a given range."
   ]
  },
  {
   "cell_type": "code",
   "execution_count": null,
   "id": "50aad928-5d04-49c0-a631-d881f27e6c85",
   "metadata": {},
   "outputs": [],
   "source": [
    "Q2. What are the types of Probability distribution?\n",
    "ans-The different types of probability distribution are as follows:\n",
    "    1.discrete probability\n",
    "    2.continuous probability"
   ]
  },
  {
   "cell_type": "code",
   "execution_count": null,
   "id": "4d68acba-9f6c-4f37-9bc3-981d1ea39ac7",
   "metadata": {},
   "outputs": [],
   "source": [
    "Q3. Write a Python function to calculate the probability density function of a normal distribution with\n",
    "given mean and standard deviation at a given point.\n",
    "ans-import math\n",
    "\n",
    "def normal_pdf(x, mean, sd):\n",
    "    exponent = -((x-mean)**2)/(2*sd**2)\n",
    "    denominator = sd*math.sqrt(2*math.pi)\n",
    "    pdf_value = (1/denominator)*math.exp(exponent)\n",
    "    return pdf_value\n"
   ]
  },
  {
   "cell_type": "code",
   "execution_count": null,
   "id": "2d5428f1-5fc0-424a-ab17-1d454d927c3c",
   "metadata": {},
   "outputs": [],
   "source": [
    "Q4. What are the properties of Binomial distribution? Give two examples of events where binomial\n",
    "distribution can be applied.\n",
    "ans- Binomial distribution is a discrete probabilty distribution of the numbers of success or failures in a sequence of n independent experiments.\n",
    "eg:tossing of coin n number of times,testing a new drug\n",
    "    "
   ]
  },
  {
   "cell_type": "code",
   "execution_count": null,
   "id": "2faba230-d2f8-4ead-ae5f-6358b4bb292e",
   "metadata": {},
   "outputs": [],
   "source": [
    "Q5. Generate a random sample of size 1000 from a binomial distribution with probability of success 0.4\n",
    "and plot a histogram of the results using matplotlib.\n",
    "ans-import numpy as np\n",
    "import matplotlib.pyplot as plt\n",
    "\n",
    "\n",
    "n = 100\n",
    "p = 0.4\n",
    "\n",
    "sample = np.random.binomial(n, p, size=100)\n",
    "plt.hist(sample, bins=range(n+1))\n",
    "plt.title(\"Binomial Distribution with n=100, p=0.4\")\n",
    "plt.xlabel(\"Number of Successes\")\n",
    "plt.ylabel(\"Frequency\")\n",
    "plt.show()\n"
   ]
  },
  {
   "cell_type": "code",
   "execution_count": null,
   "id": "75d85f94-b097-4fd8-a517-a3adca5ddff6",
   "metadata": {},
   "outputs": [],
   "source": [
    "Q6. Write a Python function to calculate the cumulative distribution function of a Poisson distribution\n",
    "with given mean at a given point.\n",
    "ans-import math\n",
    "\n",
    "def poisson_cdf(mean, k):\n",
    "    \n",
    "    cdf = 0.0\n",
    "    for i in range(k+1):\n",
    "        cdf += math.exp(-mean) * (mean**i) / math.factorial(i)\n",
    "    return cdf\n"
   ]
  },
  {
   "cell_type": "code",
   "execution_count": null,
   "id": "2b48c673-37f9-4cbd-b72e-8e88c171b30c",
   "metadata": {},
   "outputs": [],
   "source": [
    "Q7. How Binomial distribution different from Poisson distribution?\n",
    "ans-The binomial distribution is used to model the number of successes in a fixed number of independent trials, while the Poisson distribution is used to model the number of events in a fixed interval of time or space."
   ]
  },
  {
   "cell_type": "code",
   "execution_count": null,
   "id": "c09cd9ea-807a-4c85-bbaf-ae2d8f934305",
   "metadata": {},
   "outputs": [],
   "source": [
    "Q8. Generate a random sample of size 1000 from a Poisson distribution with mean 5 and calculate the\n",
    "sample mean and variance.\n",
    "ans-import numpy as np\n",
    "\n",
    "np.random.seed(42)\n",
    "\n",
    "\n",
    "sample = np.random.poisson(lam=5, size=1000)\n",
    "\n",
    "\n",
    "sample_mean = np.mean(sample)\n",
    "sample_var = np.var(sample, ddof=1)  # Use ddof=1 for unbiased estimate of variance\n",
    "\n",
    "print(\"Sample mean:\", sample_mean)\n",
    "print(\"Sample variance:\", sample_var\n"
   ]
  },
  {
   "cell_type": "code",
   "execution_count": null,
   "id": "e8fb9ed2-658f-4435-88be-1de84bd0be0b",
   "metadata": {},
   "outputs": [],
   "source": [
    "Q9. How mean and variance are related in Binomial distribution and Poisson distribution?\n",
    "ans-in both the binomial and Poisson distributions, the variance is proportional to the mean. As the mean increases, so does the variance."
   ]
  },
  {
   "cell_type": "code",
   "execution_count": null,
   "id": "97eb8206-04bd-45c6-ad99-69fc1e8bcdf6",
   "metadata": {},
   "outputs": [],
   "source": [
    "Q10. In normal distribution with respect to mean position, where does the least frequent data appear?\n",
    "ans-In a normal distribution, the least frequent data appears in the tails of the distribution, which are the areas farthest away from the mean."
   ]
  }
 ],
 "metadata": {
  "kernelspec": {
   "display_name": "Python 3 (ipykernel)",
   "language": "python",
   "name": "python3"
  },
  "language_info": {
   "codemirror_mode": {
    "name": "ipython",
    "version": 3
   },
   "file_extension": ".py",
   "mimetype": "text/x-python",
   "name": "python",
   "nbconvert_exporter": "python",
   "pygments_lexer": "ipython3",
   "version": "3.10.8"
  }
 },
 "nbformat": 4,
 "nbformat_minor": 5
}
