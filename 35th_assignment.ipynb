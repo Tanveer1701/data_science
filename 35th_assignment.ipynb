{
 "cells": [
  {
   "cell_type": "code",
   "execution_count": null,
   "id": "77b10788-ede7-4d35-b160-6ff74e796d70",
   "metadata": {},
   "outputs": [],
   "source": [
    "Q1: What is the difference between a t-test and a z-test? Provide an example scenario where you would\n",
    "use each type of test.\n",
    "ans- T test is used when population SD is unknown and Z is used when it is known.\n",
    "if n>30 ,then z will be used."
   ]
  },
  {
   "cell_type": "code",
   "execution_count": null,
   "id": "25bb6cb9-0a46-45c8-9918-03c4f20c1eef",
   "metadata": {},
   "outputs": [],
   "source": [
    "Q2: Differentiate between one-tailed and two-tailed tests.\n",
    "ans when we have != in alternate hypothesis we use two tailed test, but we have inequality like < or > ne side tailed test is uesd"
   ]
  },
  {
   "cell_type": "code",
   "execution_count": null,
   "id": "62da2861-3baa-48f3-a6d9-81f92ff9b315",
   "metadata": {},
   "outputs": [],
   "source": [
    "Q3: Explain the concept of Type 1 and Type 2 errors in hypothesis testing. Provide an example scenario for\n",
    "each type of error.\n",
    "ans- Type 1 error occurs when we reject the null hypothesis even though it is true.\n",
    "   Type 2 error occurs when we acceot H0 even though it is false.\n",
    "    eg:\n",
    "        for testing the hypthosesis that average weight of a person is 50, we reject the H0"
   ]
  },
  {
   "cell_type": "code",
   "execution_count": null,
   "id": "beb9a259-ca37-4aac-95e2-b1bc2d47e12a",
   "metadata": {},
   "outputs": [],
   "source": [
    "Q4: Explain Bayes's theorem with an example.\n",
    "ans-Bayes's theorem is a mathematical formula that helps us update our beliefs or probabilities about an event based on new evidence or information. It is commonly used in statistics, probability theory, and machine learning.\n",
    "\n",
    "The formula for Bayes's theorem is:\n",
    "\n",
    "P(A|B) = P(B|A) * P(A) / P(B)\n",
    "eg: Suppose a medical test is designed to detect a certain disease, which has a prevalence rate of 1% in the population. The test is not perfect, and has a false positive rate of 5% (meaning that 5% of the time, it will give a positive result even if the person does not have the disease) and a false negative rate of 10% (meaning that 10% of the time, it will give a negative result even if the person does have the disease).\n"
   ]
  },
  {
   "cell_type": "code",
   "execution_count": null,
   "id": "c3bd2505-afc7-4ffe-9974-e80fe0fe965c",
   "metadata": {},
   "outputs": [],
   "source": [
    "Q5: What is a confidence interval? How to calculate the confidence interval, explain with an example.\n",
    "ans-A confidence interval is a range of values that we can be reasonably confident contains the true value of a population parameter, such as a population mean or proportion.\n",
    "standard error = standard deviation / sqrt(sample size)\n",
    "margin of error = critical value * standard error"
   ]
  },
  {
   "cell_type": "code",
   "execution_count": null,
   "id": "60d5f374-2b80-4ef8-af64-a9a595db8f55",
   "metadata": {},
   "outputs": [],
   "source": [
    "Q6. Use Bayes' Theorem to calculate the probability of an event occurring given prior knowledge of the\n",
    "event's probability and new evidence. Provide a sample problem and solution.\n",
    "ans-Suppose a medical test is designed to detect a certain disease, which has a prevalence rate of 1% in the population. The test is not perfect, and has a false positive rate of 5% (meaning that 5% of the time, it will give a positive result even if the person does not have the disease) and a false negative rate of 10% (meaning that 10% of the time, it will give a negative result even if the person does have the disease).\n",
    "\n",
    "Now suppose a person takes the test and gets a positive result. What is the probability that they actually have the disease?\n",
    "\n",
    "Using Bayes's theorem, we can calculate the conditional probability of having the disease given a positive test result:\n",
    "\n",
    "P(Disease|Positive) = P(Positive|Disease) * P(Disease) / P(Positive)\n",
    "\n",
    "P(Positive|Disease) = 1 - False Negative Rate = 0.9\n",
    "P(Disease) = Prevalence Rate = 0.01\n",
    "P(Positive) = P(Positive|Disease) * P(Disease) + P(Positive|No Disease) * P(No Disease)\n",
    "= 0.9 * 0.01 + 0.05 * 0.99\n",
    "= 0.0585\n",
    "So we have:\n",
    "\n",
    "P(Disease|Positive) = 0.9 * 0.01 / 0.0585\n",
    "\n",
    "P(Disease|Positive) = 0.154"
   ]
  },
  {
   "cell_type": "code",
   "execution_count": null,
   "id": "8584094f-3c37-45ea-b2be-7e79050bf773",
   "metadata": {},
   "outputs": [],
   "source": [
    "Q7. Calculate the 95% confidence interval for a sample of data with a mean of 50 and a standard deviation\n",
    "of 5. Interpret the results.\n",
    "ans-confidence interval = sample mean ± margin of error = 50 ± 9.8\n"
   ]
  },
  {
   "cell_type": "code",
   "execution_count": null,
   "id": "9a575a9b-b39a-46b1-8b7d-21b068937eae",
   "metadata": {},
   "outputs": [],
   "source": [
    "Q8. What is the margin of error in a confidence interval? How does sample size affect the margin of error?\n",
    "Provide an example of a scenario where a larger sample size would result in a smaller margin of error.\n",
    "ans-The margin of error is the range of values within which the true population parameter is likely to fall with a certain level of confidence. It is often used in statistical inference and is calculated using the standard error of the sample mean, the confidence level, and the sample size.\n",
    "A larger sample size generally results in a smaller margin of error because a larger sample size reduces the variability of the sample mean and increases the precision of the estimate. As the sample size increases, the standard error of the mean decreases, and therefore, the margin of error decreases as well."
   ]
  },
  {
   "cell_type": "code",
   "execution_count": null,
   "id": "e5f0d50e-f3a8-4c4a-aa15-790340498f42",
   "metadata": {},
   "outputs": [],
   "source": [
    "Q9. Calculate the z-score for a data point with a value of 75, a population mean of 70, and a population\n",
    "standard deviation of 5. Interpret the results.\n",
    "ans-The z-score for this data point is 1.\n",
    "\n",
    "Interpreting the results, a z-score of 1 indicates that the data point is 1 standard deviation above the population mean. This means that the data point of 75 is higher than the population mean of 70, by an amount of 1 standard deviation or 5 units, which is the population standard deviation"
   ]
  },
  {
   "cell_type": "code",
   "execution_count": null,
   "id": "f7ba7dd7-04c1-455f-8b23-253f3538b3b3",
   "metadata": {},
   "outputs": [],
   "source": [
    "Q10. In a study of the effectiveness of a new weight loss drug, a sample of 50 participants lost an average\n",
    "of 6 pounds with a standard deviation of 2.5 pounds. Conduct a hypothesis test to determine if the drug is\n",
    "significantly effective at a 95% confidence level using a t-test.\n",
    "ans-\n",
    "t = (6 - 0) / (2.5 / sqrt(50)) = 13.42"
   ]
  },
  {
   "cell_type": "code",
   "execution_count": null,
   "id": "f35ce335-60b7-4acc-afa0-b764f94b19db",
   "metadata": {},
   "outputs": [],
   "source": [
    "Q11. In a survey of 500 people, 65% reported being satisfied with their current job. Calculate the 95%\n",
    "confidence interval for the true proportion of people who are satisfied with their job.\n",
    "ans-CI = p̂ ± z*(√(p̂(1-p̂)/n))\n",
    "p̂ = 0.65\n",
    "z* = 1.96\n",
    "n = 500\n",
    "\n",
    "CI = 0.65 ± 1.96*(√(0.65*(1-0.65)/500))\n",
    "CI = 0.65 ± 0.048\n",
    "CI = (0.602, 0.698)"
   ]
  },
  {
   "cell_type": "code",
   "execution_count": null,
   "id": "aa055aaa-7cac-4095-ac9f-0ee96e9513a9",
   "metadata": {},
   "outputs": [],
   "source": [
    "Q12. A researcher is testing the effectiveness of two different teaching methods on student performance.\n",
    "Sample A has a mean score of 85 with a standard deviation of 6, while sample B has a mean score of 82\n",
    "with a standard deviation of 5. Conduct a hypothesis test to determine if the two teaching methods have a\n",
    "significant difference in student performance using a t-test with a significance level of 0.01.\n",
    "ans-Null Hypothesis (H0): There is no significant difference between the two teaching methods. The population mean difference (μ1 - μ2) is equal to or less than 0.\n",
    "Alternative Hypothesis (Ha): There is a significant difference between the two teaching methods. The population mean difference (μ1 - μ2) is greater than 0."
   ]
  }
 ],
 "metadata": {
  "kernelspec": {
   "display_name": "Python 3 (ipykernel)",
   "language": "python",
   "name": "python3"
  },
  "language_info": {
   "codemirror_mode": {
    "name": "ipython",
    "version": 3
   },
   "file_extension": ".py",
   "mimetype": "text/x-python",
   "name": "python",
   "nbconvert_exporter": "python",
   "pygments_lexer": "ipython3",
   "version": "3.10.8"
  }
 },
 "nbformat": 4,
 "nbformat_minor": 5
}
