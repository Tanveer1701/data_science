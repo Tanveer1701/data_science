{
 "cells": [
  {
   "cell_type": "code",
   "execution_count": null,
   "id": "74f1e310-11b8-4355-b2af-9014922544d5",
   "metadata": {},
   "outputs": [],
   "source": [
    "#Q1. Explain GET and POST methods.\n",
    "ans-The GET method is used to request data from the server. When a client sends a GET request, the server retrieves the specified resource and sends it back to the client in the response body. This method is typically used for retrieving data, such as web pages, images, and other resources. The data is sent as part of the URL in the form of a query string.\n",
    "The POST method is used to send data to the server to create or update a resource. When a client sends a POST request, the server processes the data in the request body and creates or updates the specified resource. This method is typically used for submitting forms, uploading files, and other actions that modify data on the server."
   ]
  },
  {
   "cell_type": "code",
   "execution_count": null,
   "id": "abacccf1-d12c-4bc3-922c-9956aa379912",
   "metadata": {},
   "outputs": [],
   "source": [
    "#Q2. Why is request used in Flask?\n",
    "ans-In Flask, the request module is used to access incoming request data in a Flask application. When a user makes a request to a Flask application, the data from that request can be accessed through the request object.\n"
   ]
  },
  {
   "cell_type": "code",
   "execution_count": null,
   "id": "7644c6ea-0493-4ab5-be02-a7e612b910bf",
   "metadata": {},
   "outputs": [],
   "source": [
    "#Q3. Why is redirect() used in Flask?\n",
    "ans-In Flask, the redirect() function is used to redirect the user to a different URL or route. When a user makes a request to a Flask application, the server processes the request and generates a response. By using the redirect() function, the server can send a special response to the client that instructs it to make a new request to a different URL.\n"
   ]
  },
  {
   "cell_type": "code",
   "execution_count": null,
   "id": "fd8c28d2-7c3c-4ec1-9e57-2be9778481ac",
   "metadata": {},
   "outputs": [],
   "source": [
    "#Q4. What are templates in Flask? Why is the render_template() function used?\n",
    "ans-In Flask, templates are files that contain static data and dynamic placeholders that are filled with data when a user requests a page. Flask templates are usually written in HTML and can include placeholders that are populated with data from the server."
   ]
  },
  {
   "cell_type": "code",
   "execution_count": null,
   "id": "054ce2ec-22b2-44b6-b28e-2ca11a55c3ac",
   "metadata": {},
   "outputs": [],
   "source": [
    "Q5. Create a simple API. Use Postman to test it. Attach the screenshot of the output in the Jupyter Notebook.\n",
    "ans-from flask import Flask, request, jsonify\n",
    "\n",
    "app = Flask(__name__)\n",
    "\n",
    "@app.route('/reverse', methods=['POST'])\n",
    "def reverse_string():\n",
    "    data = request.get_json()\n",
    "    input_str = data['input']\n",
    "    output_str = input_str[::-1]\n",
    "    return jsonify({'output': output_str})\n",
    "\n",
    "if __name__ == '__main__':\n",
    "    app.run(debug=True)\n"
   ]
  }
 ],
 "metadata": {
  "kernelspec": {
   "display_name": "Python 3 (ipykernel)",
   "language": "python",
   "name": "python3"
  },
  "language_info": {
   "codemirror_mode": {
    "name": "ipython",
    "version": 3
   },
   "file_extension": ".py",
   "mimetype": "text/x-python",
   "name": "python",
   "nbconvert_exporter": "python",
   "pygments_lexer": "ipython3",
   "version": "3.10.8"
  }
 },
 "nbformat": 4,
 "nbformat_minor": 5
}
