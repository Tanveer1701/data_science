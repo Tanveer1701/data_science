{
 "cells": [
  {
   "cell_type": "code",
   "execution_count": 1,
   "id": "dffdad46-0f3f-45fb-9649-7394f5ea4b1a",
   "metadata": {},
   "outputs": [
    {
     "name": "stdout",
     "output_type": "stream",
     "text": [
      "Video URLs: []\n",
      "Thumbnail URLs: []\n",
      "Titles: []\n",
      "Views: []\n",
      "Times: []\n"
     ]
    }
   ],
   "source": [
    "import requests\n",
    "from bs4 import BeautifulSoup\n",
    "\n",
    "url = 'https://www.youtube.com/@PW-Foundation/videos'\n",
    "\n",
    "# send a GET request to the URL\n",
    "response = requests.get(url)\n",
    "\n",
    "# parse the HTML content using Beautiful Soup\n",
    "soup = BeautifulSoup(response.content, 'html.parser')\n",
    "\n",
    "# extract video URLs of the first five videos\n",
    "video_urls = []\n",
    "for link in soup.find_all('a', {'class': 'yt-simple-endpoint style-scope ytd-grid-video-renderer'}):\n",
    "    video_url = 'https://www.youtube.com' + link.get('href')\n",
    "    video_urls.append(video_url)\n",
    "    if len(video_urls) == 5:\n",
    "        break\n",
    "\n",
    "# extract thumbnail URLs of the first five videos\n",
    "thumbnail_urls = []\n",
    "for thumbnail in soup.find_all('img', {'class': 'style-scope yt-img-shadow'}):\n",
    "    thumbnail_url = thumbnail.get('src')\n",
    "    thumbnail_urls.append(thumbnail_url)\n",
    "    if len(thumbnail_urls) == 5:\n",
    "        break\n",
    "\n",
    "# extract titles of the first five videos\n",
    "titles = []\n",
    "for title in soup.find_all('a', {'class': 'yt-simple-endpoint style-scope ytd-grid-video-renderer'}):\n",
    "    title_text = title.get('title')\n",
    "    titles.append(title_text)\n",
    "    if len(titles) == 5:\n",
    "        break\n",
    "\n",
    "# extract number of views of the first five videos\n",
    "views = []\n",
    "for view in soup.find_all('span', {'class': 'style-scope ytd-grid-video-renderer'}):\n",
    "    view_text = view.text\n",
    "    if 'views' in view_text:\n",
    "        views.append(view_text)\n",
    "    if len(views) == 5:\n",
    "        break\n",
    "\n",
    "# extract time of posting of video for the first five videos\n",
    "times = []\n",
    "for time in soup.find_all('span', {'class': 'style-scope ytd-grid-video-renderer'}):\n",
    "    time_text = time.text\n",
    "    if 'ago' in time_text:\n",
    "        times.append(time_text)\n",
    "    if len(times) == 5:\n",
    "        break\n",
    "\n",
    "# print the extracted data\n",
    "print('Video URLs:', video_urls)\n",
    "print('Thumbnail URLs:', thumbnail_urls)\n",
    "print('Titles:', titles)\n",
    "print('Views:', views)\n",
    "print('Times:', times)\n"
   ]
  },
  {
   "cell_type": "code",
   "execution_count": null,
   "id": "ff2e0968-6efe-4f0f-8124-30fecd363809",
   "metadata": {},
   "outputs": [],
   "source": []
  }
 ],
 "metadata": {
  "kernelspec": {
   "display_name": "Python 3 (ipykernel)",
   "language": "python",
   "name": "python3"
  },
  "language_info": {
   "codemirror_mode": {
    "name": "ipython",
    "version": 3
   },
   "file_extension": ".py",
   "mimetype": "text/x-python",
   "name": "python",
   "nbconvert_exporter": "python",
   "pygments_lexer": "ipython3",
   "version": "3.10.8"
  }
 },
 "nbformat": 4,
 "nbformat_minor": 5
}
