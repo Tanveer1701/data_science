{
 "cells": [
  {
   "cell_type": "code",
   "execution_count": null,
   "id": "9f61839e-f884-47cc-8693-191199bcffb3",
   "metadata": {},
   "outputs": [],
   "source": [
    "# Q1. Which function is used to open a file? What are the different modes of opening a file? Explain each mode\n",
    "# of file opening.\n",
    "ans-The function used to open a file in Python is the built-in function open().\n",
    "The open() function takes two arguments: the file name or path, and the mode in which the file should be opened\n",
    "Here are the different modes of opening a file in Python, along with a brief explanation of each:\n",
    "\n",
    "r (read mode): Opens a file for reading (default mode). If the file does not exist, a FileNotFoundError is raised.\n",
    "w (write mode): Opens a file for writing. If the file does not exist, it is created. If the file exists, it is truncated (i.e., all contents are deleted).\n",
    "x (exclusive creation mode): Opens a file for exclusive creation. If the file already exists, a FileExistsError is raised.\n",
    "a (append mode): Opens a file for appending data. If the file does not exist, it is created. If the file exists, new data is written to the end of the file.\n",
    "b (binary mode): Opens a file in binary mode, which is used for non-text files such as images or executable files.\n",
    "t (text mode): Opens a file in text mode, which is used for text files such as CSV or JSON files."
   ]
  },
  {
   "cell_type": "code",
   "execution_count": null,
   "id": "20b69510-f9b9-4b1c-88ae-f531f167a464",
   "metadata": {},
   "outputs": [],
   "source": [
    "#Q2. Why close() function is used? Why is it important to close a file?\n",
    "ans-The reason for this is that when you open a file, the operating system allocates system resources (such as memory or file descriptors) to the file, and these resources remain allocated until the file is closed. If you don't close the file, these resources can become exhausted, which can cause errors or performance problems in your program."
   ]
  },
  {
   "cell_type": "code",
   "execution_count": null,
   "id": "87807e23-952d-4670-bb9d-9011535b5e9f",
   "metadata": {},
   "outputs": [],
   "source": [
    "#Q3. Write a python program to create a text file. Write ‘I want to become a Data Scientist’ in that file. Then\n",
    "close the file. Open this file and read the content of the file.\n",
    "ans-\n",
    " file = open(\"mytextfile.txt\", \"w\")\n",
    "    file.write(\"I want to become a Data Scientist\")\n",
    "    file.close()"
   ]
  },
  {
   "cell_type": "code",
   "execution_count": null,
   "id": "d810c95a-1ba8-4723-9b93-d6de21b3276e",
   "metadata": {},
   "outputs": [],
   "source": [
    "#Q4. Explain the following with python code: read(), readline() and readlines().\n",
    "ans-read(): This method reads the entire contents of a file into a single string.\n",
    "readline(): This method reads a single line of text from a file and returns it as a string.\n",
    "readlines(): This method reads all of the lines of text from a file and returns them as a list of strings."
   ]
  },
  {
   "cell_type": "code",
   "execution_count": null,
   "id": "3efdf5b3-f63e-42c5-858c-3b9474de4e9e",
   "metadata": {},
   "outputs": [],
   "source": [
    "#5\n",
    "Q5. Explain why with statement is used with open(). What is the advantage of using with statement and\n",
    "open() together?\n",
    "\\ans-The with statement is used with the open() function in Python to open a file and ensure that it is automatically closed when the block of code under the with statement is exited. "
   ]
  }
 ],
 "metadata": {
  "kernelspec": {
   "display_name": "Python 3 (ipykernel)",
   "language": "python",
   "name": "python3"
  },
  "language_info": {
   "codemirror_mode": {
    "name": "ipython",
    "version": 3
   },
   "file_extension": ".py",
   "mimetype": "text/x-python",
   "name": "python",
   "nbconvert_exporter": "python",
   "pygments_lexer": "ipython3",
   "version": "3.10.8"
  }
 },
 "nbformat": 4,
 "nbformat_minor": 5
}
