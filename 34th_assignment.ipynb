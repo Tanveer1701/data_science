{
 "cells": [
  {
   "cell_type": "code",
   "execution_count": null,
   "id": "6ddc2ac4-e810-4810-8fd0-0a26e166ddb5",
   "metadata": {},
   "outputs": [],
   "source": [
    "Q1: What is Estimation Statistics? Explain point estimate and interval estimate.\n",
    "ans-Estimation statistics is a branch of statistics that involves estimating population parameters (such as mean, proportion, variance, etc.) based on a sample of data.\n",
    "A point estimate is a single value that is used to estimate a population paramete where as An interval estimate is a range of values that is likely to contain the true population parameter."
   ]
  },
  {
   "cell_type": "code",
   "execution_count": null,
   "id": "909264eb-00c4-495c-be51-7fd7a591b0e0",
   "metadata": {},
   "outputs": [],
   "source": [
    "Q2. Write a Python function to estimate the population mean using a sample mean and standard\n",
    "deviation.\n",
    "ans-def estimate_pop_mean(sample_mean, sample_std, sample_size):\n",
    "    import math\n",
    "    std_error = sample_std / math.sqrt(sample_size)\n",
    "    margin_error = 1.96 * std_error\n",
    "    \n",
    "    # Calculate the lower and upper bounds of the confidence interval\n",
    "    lower_bound = sample_mean - margin_error\n",
    "    upper_bound = sample_mean + margin_error\n",
    "    return (sample_mean, lower_bound, upper_bound)\n"
   ]
  },
  {
   "cell_type": "code",
   "execution_count": null,
   "id": "f5e048c7-bd90-4e86-a903-fd3fceca9c80",
   "metadata": {},
   "outputs": [],
   "source": [
    "Q3: What is Hypothesis testing? Why is it used? State the importance of Hypothesis testing.\n",
    "ans-Hypothesis testing is a statistical method used to test whether a hypothesis about a population parameter is supported by the sample data.\n",
    "The importance of hypothesis testing lies in its ability to help us make informed decisions based on data."
   ]
  },
  {
   "cell_type": "code",
   "execution_count": null,
   "id": "ed7282da-d8ac-459c-87a4-0db2052f0aa4",
   "metadata": {},
   "outputs": [],
   "source": [
    "Q4. Create a hypothesis that states whether the average weight of male college students is greater than\n",
    "the average weight of female college students.\n",
    "ans- H0: μ_male ≤ μ_female\n",
    "\n",
    "     Ha: μ_male > μ_female"
   ]
  },
  {
   "cell_type": "code",
   "execution_count": null,
   "id": "b03e1d76-871d-4bbe-8ca3-842964faf101",
   "metadata": {},
   "outputs": [],
   "source": [
    "Q5. Write a Python script to conduct a hypothesis test on the difference between two population means,\n",
    "given a sample from each population.\n",
    "ans-import numpy as np\n",
    "from scipy import stats\n",
    "\n",
    "alpha = 0.05\n",
    "\n",
    "sample1 = np.random.normal(loc=10, scale=2, size=50)\n",
    "sample2 = np.random.normal(loc=8, scale=3, size=50)\n",
    "\n",
    "# Calculate the sample means and standard deviations\n",
    "mean1 = np.mean(sample1)\n",
    "mean2 = np.mean(sample2)\n",
    "std1 = np.std(sample1, ddof=1)\n",
    "std2 = np.std(sample2, ddof=1)\n",
    "\n",
    "# Calculate the test statistic\n",
    "t_statistic, p_value = stats.ttest_ind(sample1, sample2, equal_var=False)\n",
    "\n",
    "df = len(sample1) + len(sample2) - 2\n",
    "t_critical = stats.t.ppf(alpha / 2, df)\n",
    "\n",
    "else:\n",
    "    print(\"Fail to reject the null hypothesis.\")\n",
    "\n",
    "# Print the test statistic, p-value, and critical value\n",
    "print(\"t statistic:\", t_statistic)\n",
    "print(\"p value:\", p_value)\n",
    "print(\"critical value:\", t_critical)\n"
   ]
  },
  {
   "cell_type": "code",
   "execution_count": null,
   "id": "14a6202e-7f5c-45f9-ad1d-8492b63e2a76",
   "metadata": {},
   "outputs": [],
   "source": [
    "Q6: What is a null and alternative hypothesis? Give some examples.\n",
    "ans-Null hypothesis is the statement that we are looking to test and alternate hypothesis is just the opposite of null.\n",
    "eg: for a group of 50 students, it is expected that average age is 18\n",
    "H0:mu=50\n",
    "H1:m!=50"
   ]
  },
  {
   "cell_type": "code",
   "execution_count": null,
   "id": "24be4d0e-2eba-45c2-9f13-df09171e4dad",
   "metadata": {},
   "outputs": [],
   "source": [
    "Q7: Write down the steps involved in hypothesis testing.\n",
    "ans-defining null and alternate hypothesis, determine level of significance,collect sample and calculate test static,find p value"
   ]
  },
  {
   "cell_type": "code",
   "execution_count": 1,
   "id": "1a0dbea1-08fd-4a99-9f82-f47cf80c827c",
   "metadata": {},
   "outputs": [
    {
     "ename": "SyntaxError",
     "evalue": "invalid syntax (1011763846.py, line 1)",
     "output_type": "error",
     "traceback": [
      "\u001b[0;36m  Cell \u001b[0;32mIn[1], line 1\u001b[0;36m\u001b[0m\n\u001b[0;31m    Q8. Define p-value and explain its significance in hypothesis testing.\u001b[0m\n\u001b[0m               ^\u001b[0m\n\u001b[0;31mSyntaxError\u001b[0m\u001b[0;31m:\u001b[0m invalid syntax\n"
     ]
    }
   ],
   "source": [
    "Q8. Define p-value and explain its significance in hypothesis testing.\n",
    "ans-In hypothesis testing, the p-value is the probability of observing a test statistic as extreme or more extreme than the observed value, assuming the null hypothesis is true\n",
    "it helps in determing whether to reject or accept null hypothesis"
   ]
  },
  {
   "cell_type": "code",
   "execution_count": null,
   "id": "224d19fc-1e46-44c5-bc93-2b7d54b28dd6",
   "metadata": {},
   "outputs": [],
   "source": [
    "Q9. Generate a Student's t-distribution plot using Python's matplotlib library, with the degrees of freedom\n",
    "parameter set to 10.\n",
    "ans-import numpy as np\n",
    "import matplotlib.pyplot as plt\n",
    "\n",
    "df = 10  # degrees of freedom\n",
    "\n",
    "x = np.linspace(-5, 5, num=1000)  # generate x-values\n",
    "\n",
    "t_dist = np.random.standard_t(df, size=10000)  # generate t-distributed random numbers\n",
    "\n",
    "plt.plot(x, stats.t.pdf(x, df), label='t-distribution')  # plot t-distribution PDF\n",
    "plt.hist(t_dist, bins=50, density=True, alpha=0.5, label='sample')  # plot histogram of sample\n",
    "plt.legend()\n",
    "plt.show()\n"
   ]
  },
  {
   "cell_type": "code",
   "execution_count": null,
   "id": "69af4d01-2d11-4d31-a488-b25b60ca6697",
   "metadata": {},
   "outputs": [],
   "source": [
    "Q10. Write a Python program to calculate the two-sample t-test for independent samples, given two\n",
    "random samples of equal size and a null hypothesis that the population means are equal.\n",
    "ans-import numpy as np\n",
    "from scipy.stats import ttest_ind\n",
    "\n",
    "# Generate two random samples of equal size\n",
    "sample1 = np.random.normal(loc=10, scale=2, size=100)\n",
    "sample2 = np.random.normal(loc=12, scale=2, size=100)\n",
    "\n",
    "# Calculate the sample means and standard deviations\n",
    "mean1, mean2 = np.mean(sample1), np.mean(sample2)\n",
    "std1, std2 = np.std(sample1, ddof=1), np.std(sample2, ddof=1)\n",
    "\n",
    "# Calculate the degrees of freedom\n",
    "df = len(sample1) + len(sample2) - 2\n",
    "\n",
    "# Calculate the pooled standard deviation\n",
    "s_pooled = np.sqrt(((len(sample1) - 1) * std1**2 + (len(sample2) - 1) * std2**2) / df)\n",
    "\n",
    "# Calculate the t-value\n",
    "t_value = (mean1 - mean2) / (s_pooled * np.sqrt(2 / len(sample1)))\n",
    "\n",
    "# Calculate the p-value\n",
    "p_value = 2 * (1 - ttest_ind(sample1, sample2)[1])\n",
    "\n",
    "# Print the results\n",
    "print(f\"Sample 1 Mean: {mean1:.2f}, Sample 1 Standard Deviation: {std1:.2f}\")\n",
    "print(f\"Sample 2 Mean: {mean2:.2f}, Sample 2 Standard Deviation: {std2:.2f}\")\n",
    "print(f\"Degrees of Freedom: {df}\")\n",
    "print(f\"Pooled Standard Deviation: {s_pooled:.2f}\")\n",
    "print(f\"T-value: {t_value:.2f}\")\n",
    "print(f\"P-value: {p_value:.2f}\")\n"
   ]
  },
  {
   "cell_type": "code",
   "execution_count": null,
   "id": "4d0d2a66-fd56-4431-a60b-f8a1c08abdc8",
   "metadata": {},
   "outputs": [],
   "source": [
    "Q11: What is Student’s t distribution? When to use the t-Distribution.\n",
    "ans- It is another test to comapre mean values. It is used when the population SD is not known."
   ]
  },
  {
   "cell_type": "code",
   "execution_count": null,
   "id": "c58c3cbf-2d13-4407-a354-7012f1fd3a2d",
   "metadata": {},
   "outputs": [],
   "source": [
    "Q12: What is t-statistic? State the formula for t-statistic.\n",
    "ans-The t-statistic is a measure of the difference between the sample mean and the hypothesized population mean, relative to the variability of the sample data.\n",
    "t = (x̄ - μ) / (s / √n)"
   ]
  },
  {
   "cell_type": "code",
   "execution_count": null,
   "id": "96d5e739-ea8f-4cde-96e1-6589dfe39616",
   "metadata": {},
   "outputs": [],
   "source": [
    "Q13. A coffee shop owner wants to estimate the average daily revenue for their shop. They take a random\n",
    "sample of 50 days and find the sample mean revenue to be $500 with a standard deviation of $50.\n",
    "Estimate the population mean revenue with a 95% confidence interval.\n",
    "ans- Confidence Interval = $500 ± (2.009 * ($50 / √50))\n",
    "= $500 ± $14.27\n",
    "= ($485.73, $514.27)"
   ]
  },
  {
   "cell_type": "code",
   "execution_count": null,
   "id": "4c874e4a-7b81-4f31-b263-488671e9b8f0",
   "metadata": {},
   "outputs": [],
   "source": [
    "Q14. A researcher hypothesizes that a new drug will decrease blood pressure by 10 mmHg. They conduct a\n",
    "clinical trial with 100 patients and find that the sample mean decrease in blood pressure is 8 mmHg with a\n",
    "standard deviation of 3 mmHg. Test the hypothesis with a significance level of 0.05.\n",
    "ans-"
   ]
  }
 ],
 "metadata": {
  "kernelspec": {
   "display_name": "Python 3 (ipykernel)",
   "language": "python",
   "name": "python3"
  },
  "language_info": {
   "codemirror_mode": {
    "name": "ipython",
    "version": 3
   },
   "file_extension": ".py",
   "mimetype": "text/x-python",
   "name": "python",
   "nbconvert_exporter": "python",
   "pygments_lexer": "ipython3",
   "version": "3.10.8"
  }
 },
 "nbformat": 4,
 "nbformat_minor": 5
}
