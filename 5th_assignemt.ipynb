{
 "cells": [
  {
   "cell_type": "code",
   "execution_count": null,
   "id": "f3a16a28-f805-4557-b48e-9fcdae13645e",
   "metadata": {},
   "outputs": [],
   "source": [
    "1.Who developed python programming language?\n",
    "Ans-Guido Van Rossum"
   ]
  },
  {
   "cell_type": "code",
   "execution_count": null,
   "id": "cf2f8e4c-ba7f-4cd0-83d4-0bf4295c8e5a",
   "metadata": {},
   "outputs": [],
   "source": [
    "2.which type of programming does Python support?\n",
    "Ans- Python supports multi-paradigm programming language.Both OOPs and structured programming is supported."
   ]
  },
  {
   "cell_type": "code",
   "execution_count": null,
   "id": "1bb54d6e-058c-49f4-a4f8-4d79be104baa",
   "metadata": {},
   "outputs": [],
   "source": [
    "3.Is python case sensitive when dealing with identifiers?\n",
    "Ans-Yes it is case sensitive."
   ]
  },
  {
   "cell_type": "code",
   "execution_count": null,
   "id": "ac17a1b8-fbde-45bf-83a7-0d3e703ef754",
   "metadata": {},
   "outputs": [],
   "source": [
    "4.what is the correct extension of a Python file?\n",
    "Ans-.py is the correct extension\n"
   ]
  },
  {
   "cell_type": "code",
   "execution_count": null,
   "id": "d6f0932a-32cb-4a50-9b28-73a67007950e",
   "metadata": {},
   "outputs": [],
   "source": [
    "5.Is python compiled or interpreted?\n",
    "Ans-It is an interpreted programming language."
   ]
  },
  {
   "cell_type": "code",
   "execution_count": null,
   "id": "55780d17-435e-45a9-bbd6-90432225d25d",
   "metadata": {},
   "outputs": [],
   "source": [
    "6.Name a few blocks of code used to define in python?\n",
    "Ans- Module,body of function,class\n"
   ]
  },
  {
   "cell_type": "code",
   "execution_count": null,
   "id": "550a0d01-2769-4d5b-b243-13838f229ebb",
   "metadata": {},
   "outputs": [],
   "source": [
    "7.State a character used to give single line comments.\n",
    "Ans- #"
   ]
  },
  {
   "cell_type": "code",
   "execution_count": null,
   "id": "fd472c38-8ad9-46ac-9192-e9c4e28b1200",
   "metadata": {},
   "outputs": [],
   "source": [
    "8.mention the function that help us to find out which version of python we are working on currently\n",
    "Ans-print(python_version())"
   ]
  },
  {
   "cell_type": "code",
   "execution_count": null,
   "id": "9ae0cf8f-cd04-4e95-bbdd-56c9df549ab0",
   "metadata": {},
   "outputs": [],
   "source": [
    "9.python supports the creation of anonymous function during the runtime using a construct called\n",
    "Ans-Lambda"
   ]
  },
  {
   "cell_type": "code",
   "execution_count": null,
   "id": "b6111f10-0c9f-48c4-953b-8c7b4fe8dbfc",
   "metadata": {},
   "outputs": [],
   "source": [
    "10.what does PIP stands for in Python?\n",
    "Ans-Pipnstalled packages"
   ]
  },
  {
   "cell_type": "code",
   "execution_count": null,
   "id": "4a00d32b-1932-427a-ad4e-f266f2f6f179",
   "metadata": {},
   "outputs": [],
   "source": [
    "11.mention few inbuilt functions in Python\n",
    "Ans-print(),type(),input()"
   ]
  },
  {
   "cell_type": "code",
   "execution_count": null,
   "id": "2b8a5a7d-abb1-4d6c-ad8f-1bbdb54ec173",
   "metadata": {},
   "outputs": [],
   "source": [
    "12.what is the maximum possible length of an identifier in Python?\n",
    "ans-79 characters"
   ]
  },
  {
   "cell_type": "code",
   "execution_count": null,
   "id": "81a94ce5-aa81-4edf-b840-5b4f8bba74e8",
   "metadata": {},
   "outputs": [],
   "source": [
    "13.what are the benefits of using python?\n",
    "Ans- various benefits are:\n",
    "    1.simple syntax so easy to learn\n",
    "    2.various libraries\n",
    "    3.Used in various fields\n",
    "    4.interpreted language, hence faster"
   ]
  },
  {
   "cell_type": "code",
   "execution_count": null,
   "id": "071374e0-409b-4fb4-82f0-16c8cb978707",
   "metadata": {},
   "outputs": [],
   "source": [
    "14.how is memory managed in python?\n",
    "Ans- it is done by python memory manager in forms of private heap"
   ]
  },
  {
   "cell_type": "code",
   "execution_count": null,
   "id": "22a57bfa-ab43-4d27-8494-8bcd81da160b",
   "metadata": {},
   "outputs": [],
   "source": [
    "15.how to install python on windows and set a path variable?\n",
    "ans-1. install python from the officila link\n",
    "2.find location where python is installed\n",
    "3.Then go to advanced system settings and add new variable and name it as PYTHON_NAME and paste the copied path.\n",
    "Then look for the path variable, select it's value and select edit\n",
    "Add a semicolon towards the end of the value if it's not present and then type %PYTHON_HOME%"
   ]
  },
  {
   "cell_type": "code",
   "execution_count": null,
   "id": "b1e3012a-e8f3-4669-b327-21489ed47a79",
   "metadata": {},
   "outputs": [],
   "source": [
    "16.is indentation required in Python?\n",
    "ans-yes"
   ]
  }
 ],
 "metadata": {
  "kernelspec": {
   "display_name": "Python 3 (ipykernel)",
   "language": "python",
   "name": "python3"
  },
  "language_info": {
   "codemirror_mode": {
    "name": "ipython",
    "version": 3
   },
   "file_extension": ".py",
   "mimetype": "text/x-python",
   "name": "python",
   "nbconvert_exporter": "python",
   "pygments_lexer": "ipython3",
   "version": "3.10.8"
  }
 },
 "nbformat": 4,
 "nbformat_minor": 5
}
