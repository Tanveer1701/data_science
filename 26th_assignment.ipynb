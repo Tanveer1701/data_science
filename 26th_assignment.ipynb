{
 "cells": [
  {
   "cell_type": "code",
   "execution_count": null,
   "id": "c3568056-fb46-46b4-b000-724284d378cc",
   "metadata": {},
   "outputs": [],
   "source": [
    "Q1: What is Matplotlib? Why is it used? Name five plots that can be plotted using the Pyplot module of\n",
    "Matplotlib.\n",
    "ans-Matplotlib is a libarary in python that is used for data visualization.It is used to create beautiful and meaningful charts of various shapes and sizes.\n",
    "5 plots that can be plotted using pyplot module are:\n",
    "    1.line\n",
    "    2.bar\n",
    "    3.scatter\n",
    "    4.histogram\n",
    "    5.box plot"
   ]
  },
  {
   "cell_type": "code",
   "execution_count": null,
   "id": "b4eba940-c1bc-41d3-93a4-f6c745e9786d",
   "metadata": {},
   "outputs": [],
   "source": [
    "Q2: What is a scatter plot? Use the following code to generate data for x and y. Using this generated data\n",
    "plot a scatter plot.\n",
    "import numpy as np\n",
    "np.random.seed(3)\n",
    "x = 3 + np.random.normal(0, 2, 50)\n",
    "y = 3 + np.random.normal(0, 2, len(x))\n",
    "Note: Also add title, xlabel, and ylabel to the plot.\n",
    "ans-A scatter plot is a plot that displays individual data points as points in a two-dimensional coordinate system.\n",
    "plt.scatter(x,y)\n",
    "plt.title(\"scatter plot\")\n",
    "plt.xlabel(\"x axis\")\n",
    "plt.ylable(\"y axis\")"
   ]
  },
  {
   "cell_type": "code",
   "execution_count": 2,
   "id": "cbb74423-ae8f-4bc9-8c2b-537a458dfb3a",
   "metadata": {},
   "outputs": [
    {
     "ename": "SyntaxError",
     "evalue": "invalid syntax (353488702.py, line 1)",
     "output_type": "error",
     "traceback": [
      "\u001b[0;36m  Cell \u001b[0;32mIn[2], line 1\u001b[0;36m\u001b[0m\n\u001b[0;31m    Q3: Why is the subplot() function used? Draw four line plots using the subplot() function.\u001b[0m\n\u001b[0m                   ^\u001b[0m\n\u001b[0;31mSyntaxError\u001b[0m\u001b[0;31m:\u001b[0m invalid syntax\n"
     ]
    }
   ],
   "source": [
    "Q3: Why is the subplot() function used? Draw four line plots using the subplot() function.\n",
    "Use the following data:\n",
    "import numpy as np\n",
    "For line 1: x = np.array([0, 1, 2, 3, 4, 5]) and y = np.array([0, 100, 200, 300, 400, 500])\n",
    "For line 2: x = np.array([0, 1, 2, 3, 4, 5]) and y = np.array([50, 20, 40, 20, 60, 70])\n",
    "For line 3: x = np.array([0, 1, 2, 3, 4, 5]) and y = np.array([10, 20, 30, 40, 50, 60])\n",
    "For line 4: x = np.array([0, 1, 2, 3, 4, 5]) and y = np.array([200, 350, 250, 550, 450, 150])\n",
    "ans-subplot () function is used to create multiple subplots within a figure.\n",
    "It takes three arguments:number of rows of subplots,number of columns of subplot,and the index of the subplot\n",
    "import numpy as np\n",
    "import matplotlib.pyplot as plt\n",
    "x1= np.array([0, 1, 2, 3, 4, 5]) \n",
    "y1 = np.array([0, 100, 200, 300, 400, 500])\n",
    "plt.figure(figsize=(10,8))\n",
    "plt.subplot(2,2,1)\n",
    "plt.plot(x1,y1)\n",
    "plt.title(\"line plot 1 \")\n",
    "x2= np.array([0, 1, 2, 3, 4, 5])\n",
    "y2= np.array([50, 20, 40, 20, 60, 70])\n",
    "plt.subplot(2,2,2)\n",
    "plt.plot(x2,y2)\n",
    "plt.title(\"line plot 2\")\n",
    "x3 = np.array([0, 1, 2, 3, 4, 5])\n",
    "y3= np.array([10, 20, 30, 40, 50, 60])\n",
    "plt.subplot(2,2,3)\n",
    "plt.plot(x3,y3)\n",
    "plt.title(\"line plot 3\")\n",
    "x4 = np.array([0, 1, 2, 3, 4, 5])\n",
    "y4= np.array([200, 350, 250, 550, 450, 150])\n",
    "plt.subplot(2,2,4)\n",
    "plt.plot(x4,y4)\n",
    "plt.title(\"line plot 4\")\n",
    "plt.show()"
   ]
  },
  {
   "cell_type": "code",
   "execution_count": null,
   "id": "01f34e0d-a2c1-4ef5-8294-04c2ca60daa1",
   "metadata": {},
   "outputs": [],
   "source": [
    "Q4: What is a bar plot? Why is it used? Using the following data plot a bar plot and a horizontal bar plot.\n",
    "import numpy as np\n",
    "company = np.array([\"Apple\", \"Microsoft\", \"Google\", \"AMD\"])\n",
    "profit = np.array([3000, 8000, 1000, 10000])\n",
    "ans- Bar plot is a type of chart that shows categorical data vs numerical figure\n",
    "import numpy as np\n",
    "company = np.array([\"Apple\", \"Microsoft\", \"Google\", \"AMD\"])\n",
    "profit = np.array([3000, 8000, 1000, 10000])\n",
    "plt.bar(company,profit)\n",
    "plt.barh(company,profit)"
   ]
  },
  {
   "cell_type": "code",
   "execution_count": null,
   "id": "7e471cad-880d-4f85-ba87-a3aba165a745",
   "metadata": {},
   "outputs": [],
   "source": [
    "Q5: What is a box plot? Why is it used? Using the following data plot a box plot.\n",
    "box1 = np.random.normal(100, 10, 200)\n",
    "box2 = np.random.normal(90, 20, 200)\n",
    "ans-A box plot is a plot that displays the distribution of a numeric variable using quartiles. It is useful for identifying outliers and visualizing the spread and central tendency of the data.\n",
    "data=(box1,box2)\n",
    "plt.boxplot(data)"
   ]
  },
  {
   "cell_type": "code",
   "execution_count": null,
   "id": "ff37398b-5557-4018-ba4b-22992275f78d",
   "metadata": {},
   "outputs": [],
   "source": []
  }
 ],
 "metadata": {
  "kernelspec": {
   "display_name": "Python 3 (ipykernel)",
   "language": "python",
   "name": "python3"
  },
  "language_info": {
   "codemirror_mode": {
    "name": "ipython",
    "version": 3
   },
   "file_extension": ".py",
   "mimetype": "text/x-python",
   "name": "python",
   "nbconvert_exporter": "python",
   "pygments_lexer": "ipython3",
   "version": "3.10.8"
  }
 },
 "nbformat": 4,
 "nbformat_minor": 5
}
