{
 "cells": [
  {
   "cell_type": "code",
   "execution_count": null,
   "id": "86d6688a-fb49-4057-929e-efe44e4d5fb9",
   "metadata": {},
   "outputs": [],
   "source": [
    "\"\"\"\n",
    "1.Q1. Create a function which will take a list as an argument and return the product of all the numbers\n",
    "after creating a flat list.\n",
    "Use the below-given list as an argument for your function.\n",
    "list1 = [1,2,3,4, [44,55,66, True], False, (34,56,78,89,34), {1,2,3,3,2,1}, {1:34, \"key2\": [55, 67, 78, 89], 4: (45,\n",
    "22, 61, 34)}, [56, 'data science'], 'Machine Learning']\n",
    "\"\"\""
   ]
  },
  {
   "cell_type": "code",
   "execution_count": null,
   "id": "f9383163-c3ba-48bf-bd54-bde875557b13",
   "metadata": {},
   "outputs": [],
   "source": [
    "list1=[1,2,3,4, [44,55,66, True], False, (34,56,78,89,34), {1,2,3,3,2,1}, {1:34, \"key2\": [55, 67, 78, 89], 4: (45,\n",
    "22, 61, 34)}, [56, 'data science'], 'Machine Learning']\n",
    "def product_of_numbers(lst):\n",
    "    flat_list = []\n",
    "    for element in lst:\n",
    "        if isinstance(element, (list, tuple, set)):\n",
    "            flat_list.extend(list(element))\n",
    "        elif isinstance(element, dict):\n",
    "            flat_list.extend(list(element.keys()))\n",
    "            flat_list.extend([val for sublist in element.values() for val in sublist])\n",
    "        else:\n",
    "            flat_list.append(element)\n",
    "    \n",
    "    product = 1\n",
    "    for num in flat_list:\n",
    "        if isinstance(num, (int, float)):\n",
    "            product *= num\n",
    "    \n",
    "    return product\n",
    "print(product_of_numbers)"
   ]
  },
  {
   "cell_type": "code",
   "execution_count": null,
   "id": "1ee8cf55-076e-4704-9759-9b9cc69adfc6",
   "metadata": {},
   "outputs": [],
   "source": [
    "\"\"\"\"\n",
    "2.Q2. Write a python program for encrypting a message sent to you by your friend. The logic of encryption\n",
    "should be such that, for a the output should be z. For b, the output should be y. For c, the output should\n",
    "be x respectively. Also, the whitespace should be replaced with a dollar sign. Keep the punctuation\n",
    "marks unchanged.\n",
    "Input Sentence: I want to become a Data Scientist.\n",
    "Encrypt the above input sentence using the program you just created.\n",
    "Note: Convert the given input sentence into lowercase before encrypting. The final output should be\n",
    "lowercase.\n",
    "\"\"\""
   ]
  },
  {
   "cell_type": "code",
   "execution_count": null,
   "id": "54393308-b273-4435-aa21-8d01516b243d",
   "metadata": {},
   "outputs": [],
   "source": [
    "def encrypt_message(message):\n",
    "    encrypted = ''\n",
    "    for char in message.lower():\n",
    "        if char.isalpha():\n",
    "            encrypted += chr(219 - ord(char)) \n",
    "        elif char.isspace():\n",
    "            encrypted += '$' \n",
    "        else:\n",
    "            encrypted += char \n",
    "    return encrypted.lower()\n",
    "\n",
    "input_sentence = 'I want to become a Data Scientist.'\n",
    "encrypted_sentence = encrypt_message(input_sentence)\n",
    "\n",
    "print(encrypted_sentence)"
   ]
  }
 ],
 "metadata": {
  "kernelspec": {
   "display_name": "Python 3 (ipykernel)",
   "language": "python",
   "name": "python3"
  },
  "language_info": {
   "codemirror_mode": {
    "name": "ipython",
    "version": 3
   },
   "file_extension": ".py",
   "mimetype": "text/x-python",
   "name": "python",
   "nbconvert_exporter": "python",
   "pygments_lexer": "ipython3",
   "version": "3.10.8"
  }
 },
 "nbformat": 4,
 "nbformat_minor": 5
}
