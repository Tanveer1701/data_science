{
 "cells": [
  {
   "cell_type": "code",
   "execution_count": null,
   "id": "71537972-3f64-4a6f-8f77-b11280cfd4e8",
   "metadata": {},
   "outputs": [],
   "source": [
    "Q1: What are missing values in a dataset? Why is it essential to handle missing values? Name some\n",
    "algorithms that are not affected by missing values.\n",
    "ans-Missing values in a dataset refer to the absence of data for certain observations or variables. \n",
    "Handling missing values is crucial because it can affect the accuracy and reliability of the analysis and models that we build using the dataset\n",
    "some algorithms which are not affected by missing values are:KNN, decision trees"
   ]
  },
  {
   "cell_type": "code",
   "execution_count": null,
   "id": "72fd302f-22ff-4ab2-91ec-cdf5966fd0ce",
   "metadata": {},
   "outputs": [],
   "source": [
    "Q2: List down techniques used to handle missing data. Give an example of each with python code.\n",
    "ans-\n",
    "Deleting Rows with Missing Values: One simple approach is to delete the entire row if it contains a missing value. \n",
    "import pandas as pd\n",
    "\n",
    "# Create a dataframe with missing values\n",
    "df = pd.DataFrame({'A': [1, 2, np.nan, 4], 'B': [5, np.nan, 7, 8]})\n",
    "\n",
    "# Drop rows with missing values\n",
    "df.dropna(inplace=True)\n",
    "\n",
    "print(df)\n",
    "Imputing Missing Values: Imputation involves filling in missing values with estimated values. One popular imputation method is to replace missing values with the mean or median of the available data.\n",
    "import pandas as pd\n",
    "import numpy as np\n",
    "\n",
    "# Create a dataframe with missing values\n",
    "df = pd.DataFrame({'A': [1, 2, np.nan, 4], 'B': [5, np.nan, 7, 8]})\n",
    "\n",
    "# Replace missing values with mean of column A\n",
    "df['A'].fillna(df['A'].mean(), inplace=True)\n",
    "\n",
    "print(df)\n"
   ]
  },
  {
   "cell_type": "code",
   "execution_count": null,
   "id": "63ca8f12-49e8-4635-b5ae-40c76b9d59aa",
   "metadata": {},
   "outputs": [],
   "source": [
    "Q3: Explain the imbalanced data. What will happen if imbalanced data is not handled?\n",
    "ans-Imbalanced data refers to a situation where the distribution of classes in the dataset is skewed, with one class having significantly fewer instances than the other(s)\n",
    "If imbalanced data is not handled appropriately, it can lead to biased and inaccurate model performance."
   ]
  },
  {
   "cell_type": "code",
   "execution_count": null,
   "id": "4846eae4-6ceb-4c07-8fec-468814cd3a33",
   "metadata": {},
   "outputs": [],
   "source": [
    "Q4: What are Up-sampling and Down-sampling? Explain with an example when up-sampling and down-\n",
    "sampling are required.\n",
    "ans-Up-sampling and down-sampling are two common techniques used to address imbalanced data by either increasing or decreasing the number of instances in the minority class.\n",
    "Up-sampling and down-sampling are two common techniques used to address imbalanced data by either increasing or decreasing the number of instances in the minority class.\n",
    "\n",
    "Up-sampling involves randomly duplicating instances from the minority class to increase its representation in the dataset\n",
    "Down-sampling, on the other hand, involves randomly removing instances from the majority class to decrease its representation in the dataset"
   ]
  },
  {
   "cell_type": "code",
   "execution_count": null,
   "id": "4fc32c99-8a19-4e12-91ae-f970439c0cd3",
   "metadata": {},
   "outputs": [],
   "source": [
    "Q5: What is data Augmentation? Explain SMOTE.\n",
    "ans-Data augmentation is a technique used to artificially increase the size of a dataset by generating new data points from the existing ones, often by applying transformations or modifications to the original data\n",
    "SMOTE (Synthetic Minority Over-sampling Technique) is a popular data augmentation technique used to address imbalanced data by generating synthetic samples of the minority class."
   ]
  },
  {
   "cell_type": "code",
   "execution_count": null,
   "id": "f906aa6c-9643-41a7-93ff-486c9bca4c66",
   "metadata": {},
   "outputs": [],
   "source": [
    "Q6: What are outliers in a dataset? Why is it essential to handle outliers?\n",
    "ans-Outliers are data points that are significantly different from other data points in the dataset, either in terms of their values or their distribution\n",
    "Handling outliers is essential because they can have a significant impact on the analysis and interpretation of the data."
   ]
  },
  {
   "cell_type": "code",
   "execution_count": null,
   "id": "4324ca38-e4b7-47d8-a177-e5e59966d4eb",
   "metadata": {},
   "outputs": [],
   "source": [
    "Q7: You are working on a project that requires analyzing customer data. However, you notice that some of\n",
    "the data is missing. What are some techniques you can use to handle the missing data in your analysis?\n",
    "ans-Delete rows with missing data, mean/median imputation,regression imputation"
   ]
  },
  {
   "cell_type": "code",
   "execution_count": null,
   "id": "5eaea8eb-fa87-4653-972b-1f65ddc60440",
   "metadata": {},
   "outputs": [],
   "source": [
    "Q8: You are working with a large dataset and find that a small percentage of the data is missing. What are\n",
    "some strategies you can use to determine if the missing data is missing at random or if there is a pattern\n",
    "to the missing data?\n",
    "ans-various methods are: visual inspection, statistical test, domain knowledge,ML algorithms"
   ]
  },
  {
   "cell_type": "code",
   "execution_count": null,
   "id": "882e67eb-bacd-410a-8e1a-fcede4abc497",
   "metadata": {},
   "outputs": [],
   "source": [
    "Q9: Suppose you are working on a medical diagnosis project and find that the majority of patients in the\n",
    "dataset do not have the condition of interest, while a small percentage do. What are some strategies you\n",
    "can use to evaluate the performance of your machine learning model on this imbalanced dataset?\n",
    "ans-confusion matrix, resampling techniques"
   ]
  },
  {
   "cell_type": "code",
   "execution_count": null,
   "id": "a190516a-03df-4cd9-b277-45fc68bc163f",
   "metadata": {},
   "outputs": [],
   "source": [
    "Q10: When attempting to estimate customer satisfaction for a project, you discover that the dataset is\n",
    "unbalanced, with the bulk of customers reporting being satisfied. What methods can you employ to\n",
    "balance the dataset and down-sample the majority class?\n",
    "ans-random under sampling"
   ]
  },
  {
   "cell_type": "code",
   "execution_count": null,
   "id": "7cca9480-fb16-436e-9975-734031ebe19b",
   "metadata": {},
   "outputs": [],
   "source": [
    "Q11: You discover that the dataset is unbalanced with a low percentage of occurrences while working on a\n",
    "project that requires you to estimate the occurrence of a rare event. What methods can you employ to\n",
    "balance the dataset and up-sample the minority class?\n",
    "ans-random over sampling, SMOTE"
   ]
  }
 ],
 "metadata": {
  "kernelspec": {
   "display_name": "Python 3 (ipykernel)",
   "language": "python",
   "name": "python3"
  },
  "language_info": {
   "codemirror_mode": {
    "name": "ipython",
    "version": 3
   },
   "file_extension": ".py",
   "mimetype": "text/x-python",
   "name": "python",
   "nbconvert_exporter": "python",
   "pygments_lexer": "ipython3",
   "version": "3.10.8"
  }
 },
 "nbformat": 4,
 "nbformat_minor": 5
}
