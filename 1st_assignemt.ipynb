{
 "cells": [
  {
   "cell_type": "code",
   "execution_count": 16,
   "id": "21b4fcf3-4640-47f7-9012-ccb19c82879b",
   "metadata": {},
   "outputs": [
    {
     "ename": "SyntaxError",
     "evalue": "invalid syntax (2847688063.py, line 3)",
     "output_type": "error",
     "traceback": [
      "\u001b[0;36m  Cell \u001b[0;32mIn[16], line 3\u001b[0;36m\u001b[0m\n\u001b[0;31m    Ans Tuples contain elements in parenthesis  and are indexed.They are immutable\u001b[0m\n\u001b[0m        ^\u001b[0m\n\u001b[0;31mSyntaxError\u001b[0m\u001b[0;31m:\u001b[0m invalid syntax\n"
     ]
    }
   ],
   "source": [
    "###\n",
    "Q1. What are the characteristics of the tuples? Is tuple immutable?\n",
    "Ans Tuples contain elements in parenthesis  and are indexed.They are immutable\n",
    "###"
   ]
  },
  {
   "cell_type": "code",
   "execution_count": null,
   "id": "791773a9-56db-45de-8103-505d734df8e9",
   "metadata": {},
   "outputs": [],
   "source": [
    "#Q2. What are the two tuple methods in python? Give an example of each method. Give a reason why\n",
    "   tuples have only two in-built methods as compared to Lists .They are index() and count().\n",
    "    eg:\n",
    "    a=(10,20,30)\n",
    "    a.index(10)- it will tell the position of 10\n",
    "    a.count(10)- it will tell the number of times 10 appear in "
   ]
  },
  {
   "cell_type": "code",
   "execution_count": null,
   "id": "e64703ab-2f67-45e2-b95b-e6fe9d510974",
   "metadata": {},
   "outputs": [],
   "source": [
    "# Q3. Which collection datatypes in python do not allow duplicate items? Write a code using a set to remove\n",
    "duplicates from the given list.\n",
    "List = [1, 1, 1, 2, 1, 3, 1, 4, 2, 1, 2, 2, 2, 3, 2, 4, 3, 1, 3, 2, 3, 3, 3, 4, 4, 1, 4, 2, 4, 3, 4, 4]\n",
    "Ans- Set does not allow duplicate items\n",
    "    set(List)"
   ]
  },
  {
   "cell_type": "code",
   "execution_count": null,
   "id": "5a9387bc-c61f-4686-baeb-65b00f3efbf8",
   "metadata": {},
   "outputs": [],
   "source": [
    "# Q4. Explain the difference between the union() and update() methods for a set. Give an example of\n",
    "each method.\n",
    "Ans- Both union() and update() are used for modifying sets, union() returns new set where as update() modifies the original set\n",
    " eg:\n",
    "        set1=(1,2,3,4,5)\n",
    "        set2=(10,15,35,56)\n",
    "        set3=set1.union(set2)\n",
    "        print(set3)\n",
    "        set1.update(set2)"
   ]
  },
  {
   "cell_type": "code",
   "execution_count": null,
   "id": "25f5bc5a-af0b-45ef-a0c5-c2f63e6e243f",
   "metadata": {},
   "outputs": [],
   "source": [
    "# Q5. What is a dictionary? Give an example. Also, state whether a dictionary is ordered or unordered.\n",
    "ans- A dictionary is a collection of key value pairs.\n",
    "eg:\n",
    "    record={\"name\":\"tanveer\",\"phone\":\"898382678\"}\n",
    "    print(record[\"name\"])\n",
    "    according to pthon 3.7, dictionaries are ordere.\n",
    "    \n",
    "    "
   ]
  },
  {
   "cell_type": "code",
   "execution_count": null,
   "id": "408b8333-906c-411b-9493-66ebb82cd9d5",
   "metadata": {},
   "outputs": [],
   "source": [
    "#Q6. Can we create a nested dictionary? If so, please give an example by creating a simple one-level\n",
    "nested dictionary.\n",
    "Ans- yes, we can create a nested dictionary.\n",
    "eg:\n",
    "    person={\"name\":\"david\",\"age\":\"25\",\"contact\":{\"email\":\"abc@hmail.com\",\"phone\":\"9484992938\"}}"
   ]
  },
  {
   "cell_type": "code",
   "execution_count": null,
   "id": "aa81b74d-fcbf-4da0-9c4a-0b9671e4af42",
   "metadata": {},
   "outputs": [],
   "source": [
    "# Q7. Using setdefault() method, create key named topics in the given dictionary and also add the value of\n",
    "the key as this list ['Python', 'Machine Learning’, 'Deep Learning']\n",
    "ans-dict1 = {'language' : 'Python', 'course': 'Data Science Masters'}\n",
    "    dict1.setdefault(\"topics\":[\"Python\",\"Machine Learning\",\"Deep Learninf\"])"
   ]
  },
  {
   "cell_type": "code",
   "execution_count": null,
   "id": "1ed70fc6-dd3b-4852-be2d-57e4eb8eb306",
   "metadata": {},
   "outputs": [],
   "source": [
    "# Q8. What are the three view objects in dictionaries? Use the three in-built methods in python to display\n",
    "these three view objects for the given dictionary.\n",
    "dict1 = {'Sport': 'Cricket' , 'Teams': ['India', 'Australia', 'England', 'South Africa', 'Sri Lanka', 'New Zealand']}\n",
    "ans-The three view objects in dictionaries are as follow:\n",
    "    1.dict_keys- for keys\n",
    "    2.dict_values- for values\n",
    "    3.dict_items- for key value pairs\n",
    "    keys_view = dict1.keys()\n",
    "    values_view = dict1.values()\n",
    "    items_view = dict1.items()\n",
    "    print(f\"Keys view: {keys_view}\")\n",
    "    print(f\"Values view: {values_view}\")\n",
    "    print(f\"Items view: {items_view}\")\n",
    "   "
   ]
  }
 ],
 "metadata": {
  "kernelspec": {
   "display_name": "Python 3 (ipykernel)",
   "language": "python",
   "name": "python3"
  },
  "language_info": {
   "codemirror_mode": {
    "name": "ipython",
    "version": 3
   },
   "file_extension": ".py",
   "mimetype": "text/x-python",
   "name": "python",
   "nbconvert_exporter": "python",
   "pygments_lexer": "ipython3",
   "version": "3.10.8"
  }
 },
 "nbformat": 4,
 "nbformat_minor": 5
}
