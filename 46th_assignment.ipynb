{
 "cells": [
  {
   "cell_type": "code",
   "execution_count": null,
   "id": "d4dda7c2-a7a3-4779-9d35-db507f5b3c7c",
   "metadata": {},
   "outputs": [],
   "source": [
    "Q1. What is a projection and how is it used in PCA?\n",
    "ans-a projection refers to the process of mapping data points from a high-dimensional space to a lower-dimensional subspace. It involves representing the data in terms of a reduced set of orthogonal axes called principal components.\n",
    "\n",
    "PCA aims to capture the most significant directions of variation in the data by finding a new coordinate system in which the axes are aligned with these directions.\n"
   ]
  },
  {
   "cell_type": "code",
   "execution_count": null,
   "id": "fe77fef6-ce37-48b5-b788-894bbb7cc2a1",
   "metadata": {},
   "outputs": [],
   "source": [
    "Q2. How does the optimization problem in PCA work, and what is it trying to achieve?\n",
    "ans-The optimization problem in PCA (Principal Component Analysis) aims to find the best representation of the data in terms of a reduced set of orthogonal axes called principal components. The goal is to maximize the retained variance while minimizing the reconstruction error."
   ]
  },
  {
   "cell_type": "code",
   "execution_count": null,
   "id": "684f84dc-1a9f-4f36-b934-dcb63e54e9bc",
   "metadata": {},
   "outputs": [],
   "source": [
    "Q3. What is the relationship between covariance matrices and PCA?\n",
    "ans- In PCA, the covariance matrix plays a central role in determining the principal components, which capture the most significant directions of variation in the data."
   ]
  },
  {
   "cell_type": "code",
   "execution_count": null,
   "id": "e75fbb65-0790-43f2-8536-e0e2e123c664",
   "metadata": {},
   "outputs": [],
   "source": [
    "Q4. How does the choice of number of principal components impact the performance of PCA?\n",
    "ans-If we select lesser number of principal components then dimensionality will be reduced more and the time complexity of the model will be less."
   ]
  },
  {
   "cell_type": "code",
   "execution_count": null,
   "id": "5b0263d7-c1b9-4a34-9241-607443c57b57",
   "metadata": {},
   "outputs": [],
   "source": [
    "Q5. How can PCA be used in feature selection, and what are the benefits of using it for this purpose?\n",
    "ans-PCA can be used as a feature selection technique, where it helps in identifying the most informative features and reducing the dimensionality of the dataset. \n"
   ]
  },
  {
   "cell_type": "code",
   "execution_count": null,
   "id": "c048bb68-ac99-4f27-9f9c-e86925b91506",
   "metadata": {},
   "outputs": [],
   "source": [
    "Q6. What are some common applications of PCA in data science and machine learning?\n",
    "ans-dimensionality reduction, data visualization, reduction in overfittinga are some common applications."
   ]
  },
  {
   "cell_type": "code",
   "execution_count": null,
   "id": "b7943630-c992-44df-9f61-1e7db7d9f733",
   "metadata": {},
   "outputs": [],
   "source": [
    "Q7.What is the relationship between spread and variance in PCA?\n",
    "ans-the spread of data along a principal component is directly related to the variance explained by that principal component."
   ]
  },
  {
   "cell_type": "code",
   "execution_count": null,
   "id": "8c79b9cb-c5e9-4385-907f-2a80c264b44c",
   "metadata": {},
   "outputs": [],
   "source": [
    "Q8. How does PCA use the spread and variance of the data to identify principal components?\n",
    "ans-If the spread of the data points along a principal component is large, it indicates that the corresponding principal component captures a significant amount of variance in the data. Conversely, if the spread is small, it implies that the principal component explains less variance in the data."
   ]
  },
  {
   "cell_type": "code",
   "execution_count": null,
   "id": "db10988d-633a-4ab4-8a92-14552984c65a",
   "metadata": {},
   "outputs": [],
   "source": [
    "Q9. How does PCA handle data with high variance in some dimensions but low variance in others?\n",
    "ans-By analyzing the spread and variance along the principal components, one can assess the importance of each component and determine the appropriate number of principal components to retain for dimensionality reduction or feature selection. The principal components with higher spread and variance are typically considered more informative, as they capture the most significant variations in the data."
   ]
  }
 ],
 "metadata": {
  "kernelspec": {
   "display_name": "Python 3 (ipykernel)",
   "language": "python",
   "name": "python3"
  },
  "language_info": {
   "codemirror_mode": {
    "name": "ipython",
    "version": 3
   },
   "file_extension": ".py",
   "mimetype": "text/x-python",
   "name": "python",
   "nbconvert_exporter": "python",
   "pygments_lexer": "ipython3",
   "version": "3.10.8"
  }
 },
 "nbformat": 4,
 "nbformat_minor": 5
}
