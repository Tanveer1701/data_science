{
 "cells": [
  {
   "cell_type": "code",
   "execution_count": null,
   "id": "fcfd50e5-2eb7-43b6-85a5-b676b6e86b1f",
   "metadata": {},
   "outputs": [],
   "source": [
    "\"\"\"\n",
    "Q1. You are writing code for a company. The requirement of the company is that you create a python\n",
    "function that will check whether the password entered by the user is correct or not. The function should\n",
    "take the password as input and return the string “Valid Password” if the entered password follows the\n",
    "below-given password guidelines else it should return “Invalid Password”.\n",
    " 1. The Password should contain at least two uppercase letters and at least two lowercase letters.\n",
    "2. The Password should contain at least a number and three special characters.\n",
    "3. The length of the password should be 10 characters long.\n",
    "\n",
    "\"\"\""
   ]
  },
  {
   "cell_type": "code",
   "execution_count": 6,
   "id": "16413694-dafc-4194-939f-f364b7873d77",
   "metadata": {},
   "outputs": [
    {
     "name": "stdin",
     "output_type": "stream",
     "text": [
      "Enter your password TanvEer@12\n"
     ]
    },
    {
     "name": "stdout",
     "output_type": "stream",
     "text": [
      "Valid Password\n"
     ]
    }
   ],
   "source": [
    "def password(p):\n",
    "    if len(p)!=10:\n",
    "        print( \"Invalid Password:The password should be atleast 10 characters long\")\n",
    "    elif sum(1 for c in p if c.isupper())<2 or sum(1 for c in p if c.islower())<2:\n",
    "        print( \"Invalid Password:It should contain atleast two lowercase and two uppercase letters\")\n",
    "    elif sum(1 for c in p if c.isdigit())<1 or sum(1 for c in p if \"!@#$%^&*()_+}{\\\":?><|.,';\")<3:\n",
    "        print( \"Invalid password: It should contain atleast one digit and 3 specaial characters\")\n",
    "    else:\n",
    "        print( \"Valid Password\")\n",
    "p=input(\"Enter your password\")\n",
    "password(p)"
   ]
  },
  {
   "cell_type": "code",
   "execution_count": null,
   "id": "14aed7ac-8fa5-447d-b941-1ad842d67dd9",
   "metadata": {},
   "outputs": [],
   "source": [
    "#2 \n"
   ]
  },
  {
   "cell_type": "code",
   "execution_count": null,
   "id": "22a2e876-45ff-4b32-b42b-ca328fb9b8c6",
   "metadata": {},
   "outputs": [],
   "source": [
    "starts_with = lambda x, letter: True if x.startswith(letter) else False\n",
    "print(starts_with(\"hello\", \"h\")) \n",
    "print(starts_with(\"world\", \"h\"))\n",
    "\n",
    "strings = [\"hello\", \"world\", \"hi\", \"hey\"]\n",
    "starts_with_h = [string for string in strings if string.startswith(\"h\")]\n",
    "print(starts_with_h) # [\"hello\", \"hi\", \"hey\"]\n",
    "\n",
    "is_numeric = lambda x: True if x.isnumeric() else False\n",
    "print(is_numeric(\"1234\")) \n",
    "print(is_numeric(\"abc123\")) \n",
    "\n",
    "fruits = [(\"mango\",99),(\"orange\",80), (\"grapes\", 1000)]\n",
    "sorted_fruits = sorted(fruits, key=lambda x: x[1])\n",
    "print(sorted_fruits) # [(\"orange\", 80), (\"mango\", 99), (\"grapes\", 1000)]\n",
    "\n",
    "squares = list(map(lambda x: x**2, range(1,11)))\n",
    "print(squares) # [1, 4, 9, 16, 25, 36, 49, 64, 81, 100]\n",
    "import math\n",
    "cube_roots = list(map(lambda x: math.pow(x, 1/3), range(1,11)))\n",
    "print(cube_roots) # [1.0, 1.2599210498948732, 1.4422495703074083, 1.5874010519681994, 1.7099759466766968, 1.8171205928321397, 1.912931182772389, 2.0, 2.080083823051904, 2.154434690031884]"
   ]
  }
 ],
 "metadata": {
  "kernelspec": {
   "display_name": "Python 3 (ipykernel)",
   "language": "python",
   "name": "python3"
  },
  "language_info": {
   "codemirror_mode": {
    "name": "ipython",
    "version": 3
   },
   "file_extension": ".py",
   "mimetype": "text/x-python",
   "name": "python",
   "nbconvert_exporter": "python",
   "pygments_lexer": "ipython3",
   "version": "3.10.8"
  }
 },
 "nbformat": 4,
 "nbformat_minor": 5
}
