{
 "cells": [
  {
   "cell_type": "code",
   "execution_count": null,
   "id": "8d8c5ab7-b680-42d7-b4df-c9fccf79f2ce",
   "metadata": {},
   "outputs": [],
   "source": [
    "Q1. How can you create a Bokeh plot using Python code?\n",
    "ans-from bokeh.plotting import figure, output_file, show\n",
    "p = figure(plot_width=400, plot_height=400)\n",
    "p.circle([1, 2, 3, 4, 5], [6, 7, 2, 4, 5], size=15)\n",
    "output_file(\"plot.html\")\n",
    "show(p)\n",
    "\n"
   ]
  },
  {
   "cell_type": "code",
   "execution_count": null,
   "id": "2c75e614-924d-4290-b971-c51feefc7f2a",
   "metadata": {},
   "outputs": [],
   "source": [
    "Q2. What are glyphs in Bokeh, and how can you add them to a Bokeh plot? Explain with an example.\n",
    "ans-In Bokeh, glyphs are visual markers such as circles, squares, lines, or text that can be added to a plot to display data. To add glyphs to a Bokeh plot, you can use the glyph method of the Figure class.\n",
    "from bokeh.plotting import figure, output_file, show\n",
    "\n",
    "# create a Figure object\n",
    "p = figure(plot_width=400, plot_height=400)\n",
    "\n",
    "# add a circle glyph to the figure\n",
    "p.circle([1, 2, 3, 4, 5], [6, 7, 2, 4, 5], size=15)\n",
    "\n",
    "# specify the output file\n",
    "output_file(\"scatter.html\")\n",
    "\n",
    "# display the plot\n",
    "show(p)\n"
   ]
  },
  {
   "cell_type": "code",
   "execution_count": null,
   "id": "1fe5322f-0885-42e9-a9d4-832a78bf0968",
   "metadata": {},
   "outputs": [],
   "source": [
    "Q3. How can you customize the appearance of a Bokeh plot, including the axes, title, and legend?\n",
    "ans-Bokeh allows for a high degree of customization in the appearance of plots. Here are some ways to customize the appearance of a Bokeh plot:\n",
    "\n",
    "Changing the title: To change the title of a plot, use the title property of the Figure object. For example, to set the title to \"My Plot\", you can do: p.title.text = \"My Plot\"\n",
    "\n",
    "Changing the axes labels: To change the labels of the x-axis and y-axis, use the xaxis "
   ]
  },
  {
   "cell_type": "code",
   "execution_count": 1,
   "id": "32a2a8e7-e86e-4c28-a6bc-197b497805ae",
   "metadata": {},
   "outputs": [
    {
     "ename": "SyntaxError",
     "evalue": "invalid syntax (264877870.py, line 1)",
     "output_type": "error",
     "traceback": [
      "\u001b[0;36m  Cell \u001b[0;32mIn[1], line 1\u001b[0;36m\u001b[0m\n\u001b[0;31m    Q4. What is a Bokeh server, and how can you use it to create interactive plots that can be updated in\u001b[0m\n\u001b[0m                  ^\u001b[0m\n\u001b[0;31mSyntaxError\u001b[0m\u001b[0;31m:\u001b[0m invalid syntax\n"
     ]
    }
   ],
   "source": [
    "Q4. What is a Bokeh server, and how can you use it to create interactive plots that can be updated in\n",
    "real time?\n",
    "ans-Bokeh server is a tool in the Bokeh library that enables the creation of interactive web applications with real-time streaming data. A Bokeh server can be used to create a web application with a Bokeh plot and a user interface that allows the user to interact with the plot by changing various parameters or updating the data."
   ]
  },
  {
   "cell_type": "code",
   "execution_count": null,
   "id": "315f413d-f7de-4d3f-949a-f023e5c1774b",
   "metadata": {},
   "outputs": [],
   "source": [
    "Q5. How can you embed a Bokeh plot into a web page or dashboard using Flask or Django?\n",
    "ans-o embed a Bokeh plot into a web page or dashboard using Flask or Django, you can follow these general steps:\n",
    "\n",
    "Create a Bokeh plot using Bokeh's plotting functions and tools.\n",
    "\n",
    "Define a Flask or Django view function that will render the HTML template containing the plot."
   ]
  }
 ],
 "metadata": {
  "kernelspec": {
   "display_name": "Python 3 (ipykernel)",
   "language": "python",
   "name": "python3"
  },
  "language_info": {
   "codemirror_mode": {
    "name": "ipython",
    "version": 3
   },
   "file_extension": ".py",
   "mimetype": "text/x-python",
   "name": "python",
   "nbconvert_exporter": "python",
   "pygments_lexer": "ipython3",
   "version": "3.10.8"
  }
 },
 "nbformat": 4,
 "nbformat_minor": 5
}
