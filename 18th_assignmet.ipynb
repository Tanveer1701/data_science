{
 "cells": [
  {
   "cell_type": "code",
   "execution_count": null,
   "id": "8c0a2ab7-c048-4a1d-8498-a0f2afc7931d",
   "metadata": {},
   "outputs": [],
   "source": [
    "#Q1. What is Flask Framework? What are the advantages of Flask Framework?\n",
    "ans-Flask is a micro web framework written in Python. It is designed to be lightweight and modular, making it easy to use for building small to medium-sized web applications\n",
    "Advantages of Flask Framework include:\n",
    "\n",
    "Lightweight and flexible: Flask is a lightweight framework that is easy to use and customize. It is not opinionated about how you structure your application, so you can use it to build applications in a variety of ways.\n",
    "\n",
    "Easy to get started: Flask has a simple and intuitive API that is easy to learn, even for beginners. The documentation is also excellent, making it easy to find answers to your questions.\n",
    "\n",
    "Modular: Flask is a modular framework, which means that you can use only the parts of the framework that you need. This makes it easy to build custom applications that meet your specific needs.\n"
   ]
  },
  {
   "cell_type": "code",
   "execution_count": null,
   "id": "710c3df2-fc18-43c3-8808-33b8dda008b1",
   "metadata": {},
   "outputs": [],
   "source": [
    "#Q2. Create a simple Flask application to display ‘Hello World!!’. Attach the screenshot of the output in\n",
    "Jupyter Notebook.\n",
    "ans-from flask import Flask\n",
    "\n",
    "app = Flask(__name__)\n",
    "\n",
    "@app.route('/')\n",
    "def hello():\n",
    "    return 'Hello World!!'\n",
    "\n",
    "if __name__ == '__main__':\n",
    "    app.run()\n",
    "    "
   ]
  },
  {
   "cell_type": "code",
   "execution_count": null,
   "id": "2e0dd322-ed91-4171-a1f0-8864ba045e95",
   "metadata": {},
   "outputs": [],
   "source": [
    "Q3. What is App routing in Flask? Why do we use app routes?\n",
    "ans-In Flask, app routing is the process of binding URL patterns to view functions. When a user requests a particular URL, Flask uses the app routing mechanism to determine which view function should handle the request and generate the appropriate response.\n",
    "\n",
    "The @app.route() decorator is used to define app routes in Flask. This decorator binds a URL pattern to a view function, which is responsible for generating the response for that URL. The URL pattern can include variables, which are used to capture dynamic parts of the URL and pass them as arguments to the view function."
   ]
  },
  {
   "cell_type": "code",
   "execution_count": null,
   "id": "a094ce02-906a-4b0a-ba5e-0bafd98c482d",
   "metadata": {},
   "outputs": [],
   "source": [
    "#Q4. Create a “/welcome” route to display the welcome message “Welcome to ABC Corporation” and a “/”\n",
    "route to show the following details:\n",
    "Company Name: ABC Corporation\n",
    "Location: India\n",
    "Contact Detail: 999-999-9999\n",
    "ans-from flask import Flask\n",
    "\n",
    "app = Flask(__name__)\n",
    "\n",
    "@app.route('/welcome')\n",
    "def welcome():\n",
    "    return 'Welcome to ABC Corporation'\n",
    "\n",
    "@app.route('/')\n",
    "def company_details():\n",
    "    return 'Company Name: ABC Corporation<br>Location: India<br>Contact Detail: 999-999-9999'\n",
    "\n",
    "if __name__ == '__main__':\n",
    "    app.run()\n",
    "\n",
    "    "
   ]
  },
  {
   "cell_type": "code",
   "execution_count": null,
   "id": "67524eb1-5159-4c3b-81be-87e65f933293",
   "metadata": {},
   "outputs": [],
   "source": [
    "#Q5. What function is used in Flask for URL Building? Write a Python code to demonstrate the working of the\n",
    "url_for() function.\n",
    "ans-In Flask, the url_for() function is used for URL building. This function generates a URL based on the name of a view function and any arguments that are passed to it. By using the url_for() function, developers can avoid hard-coding URLs in their templates or application code, which can make it easier to change the structure of the application in the future.\n",
    "from flask import Flask, url_for\n",
    "\n",
    "app = Flask(__name__)\n",
    "\n",
    "@app.route('/')\n",
    "def home():\n",
    "    return 'Welcome to the home page'\n",
    "\n",
    "@app.route('/user/<username>')\n",
    "def user_profile(username):\n",
    "    return f'Welcome to {username}\\'s profile page'\n",
    "\n",
    "if __name__ == '__main__':\n",
    "    with app.test_request_context():\n",
    "        print(url_for('home'))\n",
    "        print(url_for('user_profile', username='John Doe'))\n"
   ]
  }
 ],
 "metadata": {
  "kernelspec": {
   "display_name": "Python 3 (ipykernel)",
   "language": "python",
   "name": "python3"
  },
  "language_info": {
   "codemirror_mode": {
    "name": "ipython",
    "version": 3
   },
   "file_extension": ".py",
   "mimetype": "text/x-python",
   "name": "python",
   "nbconvert_exporter": "python",
   "pygments_lexer": "ipython3",
   "version": "3.10.8"
  }
 },
 "nbformat": 4,
 "nbformat_minor": 5
}
