{
 "cells": [
  {
   "cell_type": "code",
   "execution_count": null,
   "id": "14534ea4-e7da-4c2d-a1ce-f8f6ed6220de",
   "metadata": {},
   "outputs": [],
   "source": [
    "#Q1. Create a Pandas Series that contains the following data: 4, 8, 15, 16, 23, and 42. Then, print the series.\n",
    "ans-\n",
    "import pandas as pd\n",
    "\n",
    "# create a series with the given data\n",
    "my_series = pd.Series([4, 8, 15, 16, 23, 42])\n",
    "\n",
    "# print the series\n",
    "print(my_series)\n"
   ]
  },
  {
   "cell_type": "code",
   "execution_count": null,
   "id": "a1b8d77c-b0b4-487e-93a7-214075bc0cd1",
   "metadata": {},
   "outputs": [],
   "source": [
    "#Q2. Create a variable of list type containing 10 elements in it, and apply pandas.Series function on the\n",
    "variable print it.\n",
    "ans-my_list = [1, 2, 3, 4, 5, 6, 7, 8, 9, 10]\n",
    "\n",
    "# create a series using the list\n",
    "my_series = pd.Series(my_list)\n",
    "\n",
    "# print the series\n",
    "print(my_series)"
   ]
  },
  {
   "cell_type": "code",
   "execution_count": null,
   "id": "c2fd52b8-3314-4472-a937-f82aa2aeb536",
   "metadata": {},
   "outputs": [],
   "source": [
    "#Q3. Create a Pandas DataFrame that contains the following data:\n",
    "\n",
    "Then, print the DataFrame.\n",
    "\n",
    "\n",
    "\n",
    "\n",
    "Name\n",
    "Alice\n",
    "Bob\n",
    "Claire\n",
    "\n",
    "Age\n",
    "25\n",
    "30\n",
    "27\n",
    "\n",
    "Gender\n",
    "Female\n",
    "Male\n",
    "Female\n",
    "ans-\n",
    "import pandas as pd\n",
    "\n",
    "# create a dictionary with the data\n",
    "data = {'Name': ['Alice', 'Bob', 'Claire'], \n",
    "        'Age': [25, 30, 27], \n",
    "        'Gender': ['Female', 'Male', 'Female']}\n",
    "\n",
    "# create a dataframe from the dictionary\n",
    "df = pd.DataFrame(data)\n",
    "\n",
    "# print the dataframe\n",
    "print(df)\n"
   ]
  },
  {
   "cell_type": "code",
   "execution_count": null,
   "id": "4fac15f1-9e3b-4018-9de3-fd8796dd9f6c",
   "metadata": {},
   "outputs": [],
   "source": [
    "Q4. What is ‘DataFrame’ in pandas and how is it different from pandas.series? Explain with an example.\n",
    "ans-In Pandas, a DataFrame is a two-dimensional table-like data structure with rows and columns, similar to a spreadsheet or a SQL table. It can be thought of as a collection of Pandas Series, where each column is a Series, and each row represents a record or an observation."
   ]
  },
  {
   "cell_type": "code",
   "execution_count": null,
   "id": "6d69e409-e30a-47c5-a43f-66be3f3d2613",
   "metadata": {},
   "outputs": [],
   "source": [
    "Q5. What are some common functions you can use to manipulate data in a Pandas DataFrame? Can\n",
    "you give an example of when you might use one of these functions?\n",
    "ans-\n",
    "import pandas as pd\n",
    "\n",
    "# create a Series\n",
    "my_series = pd.Series([10, 20, 30, 40, 50])\n",
    "\n",
    "# create a DataFrame from the Series\n",
    "my_dataframe = pd.DataFrame(my_series, columns=['Values'])\n",
    "\n",
    "# print the Series and the DataFrame\n",
    "print(my_series)\n",
    "print(my_dataframe)\n"
   ]
  },
  {
   "cell_type": "code",
   "execution_count": null,
   "id": "6e108d33-1237-458b-8b7e-87b98abc2f4b",
   "metadata": {},
   "outputs": [],
   "source": [
    "Q6. Which of the following is mutable in nature Series, DataFrame, Panel?\n",
    "ans-In Pandas, both Series and DataFrame are mutable in nature, which means that we can modify their contents after they have been created."
   ]
  },
  {
   "cell_type": "code",
   "execution_count": null,
   "id": "78fa0529-58fd-4a72-a48d-3b0f05300594",
   "metadata": {},
   "outputs": [],
   "source": [
    "Q7. Create a DataFrame using multiple Series. Explain with an example.\n",
    "ans-import pandas as pd\n",
    "\n",
    "# create three Series with the same index\n",
    "names = pd.Series(['Alice', 'Bob', 'Claire'], index=[1, 2, 3])\n",
    "ages = pd.Series([25, 30, 27], index=[1, 2, 3])\n",
    "genders = pd.Series(['Female', 'Male', 'Female'], index=[1, 2, 3])\n",
    "\n",
    "# combine the Series into a DataFrame\n",
    "df = pd.concat([names, ages, genders], axis=1)\n",
    "df.columns = ['Name', 'Age', 'Gender']   # add column names\n",
    "\n",
    "# print the DataFrame\n",
    "print(df)\n"
   ]
  }
 ],
 "metadata": {
  "kernelspec": {
   "display_name": "Python 3 (ipykernel)",
   "language": "python",
   "name": "python3"
  },
  "language_info": {
   "codemirror_mode": {
    "name": "ipython",
    "version": 3
   },
   "file_extension": ".py",
   "mimetype": "text/x-python",
   "name": "python",
   "nbconvert_exporter": "python",
   "pygments_lexer": "ipython3",
   "version": "3.10.8"
  }
 },
 "nbformat": 4,
 "nbformat_minor": 5
}
