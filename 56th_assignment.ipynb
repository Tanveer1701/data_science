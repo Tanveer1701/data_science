{
 "cells": [
  {
   "cell_type": "code",
   "execution_count": null,
   "id": "5a3ecdef-1d27-4e93-9810-10c14a10d5d4",
   "metadata": {},
   "outputs": [],
   "source": [
    "Q1. A company conducted a survey of its employees and found that 70% of the employees use the\n",
    "company's health insurance plan, while 40% of the employees who use the plan are smokers. What is the\n",
    "probability that an employee is a smoker given that he/she uses the health insurance plan?\n",
    "ans-Data is incomplete"
   ]
  },
  {
   "cell_type": "code",
   "execution_count": null,
   "id": "2efd88bf-f091-446e-b0a7-0ff32b8162f3",
   "metadata": {},
   "outputs": [],
   "source": [
    "Q2. What is the difference between Bernoulli Naive Bayes and Multinomial Naive Bayes?\n",
    "ans-Bernoulli Naive Bayes and Multinomial Naive Bayes are two variants of the Naive Bayes algorithm that are commonly used in text classification tasks. The main difference between them lies in the type of data they are designed to handle and the assumptions they make about the features."
   ]
  },
  {
   "cell_type": "code",
   "execution_count": null,
   "id": "c175f009-35dc-4365-9ad5-b97b7bfcaed2",
   "metadata": {},
   "outputs": [],
   "source": [
    "Q3. How does Bernoulli Naive Bayes handle missing values?\n",
    "ans-Bernoulli Naive Bayes handles missing values by assuming that the missing values are a separate category or state of the feature. In other words, it treats missing values as another binary option, alongside the presence and absence of the feature."
   ]
  },
  {
   "cell_type": "code",
   "execution_count": null,
   "id": "669a37eb-59e9-48d0-bf02-2b6aa24d7783",
   "metadata": {},
   "outputs": [],
   "source": [
    "Q4. Can Gaussian Naive Bayes be used for multi-class classification?\n",
    "ans-Yes, Gaussian Naive Bayes can be used for multi-class classification tasks. Gaussian Naive Bayes is a variant of the Naive Bayes algorithm that assumes a Gaussian (normal) distribution for the continuous features in the dataset. It is commonly used for classification problems with continuous or real-valued features."
   ]
  },
  {
   "cell_type": "code",
   "execution_count": null,
   "id": "d001da6a-be1a-48f4-a6f5-cc61762cf891",
   "metadata": {},
   "outputs": [],
   "source": []
  }
 ],
 "metadata": {
  "kernelspec": {
   "display_name": "Python 3 (ipykernel)",
   "language": "python",
   "name": "python3"
  },
  "language_info": {
   "codemirror_mode": {
    "name": "ipython",
    "version": 3
   },
   "file_extension": ".py",
   "mimetype": "text/x-python",
   "name": "python",
   "nbconvert_exporter": "python",
   "pygments_lexer": "ipython3",
   "version": "3.10.8"
  }
 },
 "nbformat": 4,
 "nbformat_minor": 5
}
