{
 "cells": [
  {
   "cell_type": "code",
   "execution_count": null,
   "id": "fea89034-bfe0-4bfb-90d9-d84c5dbaebfc",
   "metadata": {},
   "outputs": [],
   "source": [
    "Q1. What are the three measures of central tendency?\n",
    "ans- Mean.median,mode"
   ]
  },
  {
   "cell_type": "code",
   "execution_count": null,
   "id": "e5b524fd-2a41-47ed-b853-dd576b715315",
   "metadata": {},
   "outputs": [],
   "source": [
    "Q2. What is the difference between the mean, median, and mode? How are they used to measure the\n",
    "central tendency of a dataset?\n",
    "ans- Mean tells the average value of the dataset\n",
    "     Median tells the value which lies in the middle of the sorted data\n",
    "     Mode tells which value appears the maximum number of time"
   ]
  },
  {
   "cell_type": "code",
   "execution_count": 5,
   "id": "e42f0e1f-cb5e-4019-b65a-8f7881693b8f",
   "metadata": {},
   "outputs": [
    {
     "name": "stderr",
     "output_type": "stream",
     "text": [
      "/tmp/ipykernel_3434/2276375988.py:10: FutureWarning: Unlike other reduction functions (e.g. `skew`, `kurtosis`), the default behavior of `mode` typically preserves the axis it acts along. In SciPy 1.11.0, this behavior will change: the default value of `keepdims` will become False, the `axis` over which the statistic is taken will be eliminated, and the value None will no longer be accepted. Set `keepdims` to True or False to avoid this warning.\n",
      "  stats.mode(a)\n"
     ]
    },
    {
     "data": {
      "text/plain": [
       "177.0"
      ]
     },
     "execution_count": 5,
     "metadata": {},
     "output_type": "execute_result"
    }
   ],
   "source": [
    "#Q3. Measure the three measures of central tendency for the given height data:\n",
    "#[178,177,176,177,178.2,178,175,179,180,175,178.9,176.2,177,172.5,178,176.5]\n",
    "#ans- \n",
    "import numpy as np\n",
    "a=[178,177,176,177,178.2,178,175,179,180,175,178.9,176.2,177,172.5,178,176.5]\n",
    "mean=np.mean(a)\n",
    "median=np.median(a)\n",
    "\n",
    "from scipy import stats\n",
    "stats.mode(a)\n",
    "mean\n",
    "median"
   ]
  },
  {
   "cell_type": "code",
   "execution_count": 7,
   "id": "ef3a2a38-dacf-4f61-a469-3f14be442424",
   "metadata": {},
   "outputs": [
    {
     "data": {
      "text/plain": [
       "1.7885814036548633"
      ]
     },
     "execution_count": 7,
     "metadata": {},
     "output_type": "execute_result"
    }
   ],
   "source": [
    "#Q4. Find the standard deviation for the given data:\n",
    "#[178,177,176,177,178.2,178,175,179,180,175,178.9,176.2,177,172.5,178,176.5]\n",
    "#ans- \n",
    "import numpy as np\n",
    "a=[178,177,176,177,178.2,178,175,179,180,175,178.9,176.2,177,172.5,178,176.5]\n",
    "np.std(a)"
   ]
  },
  {
   "cell_type": "code",
   "execution_count": null,
   "id": "3ce2a4da-ee32-43f1-9ba2-a66fda1757d1",
   "metadata": {},
   "outputs": [],
   "source": [
    "#Q5. How are measures of dispersion such as range, variance, and standard deviation used to describe\n",
    "the spread of a dataset? Provide an example.\n",
    "ans-\n",
    "Range tells us about the difference between the max and min value.\n",
    "variance tells about the spread of data\n",
    "and standard deviation is the square root of the variance and represents the typical distance between each data point and the mean\n",
    "For example, if a dataset of exam scores has a mean score of 75 and a standard deviation of 10, this means that most scores fall within 10 points of the mean."
   ]
  },
  {
   "cell_type": "code",
   "execution_count": null,
   "id": "e73a00f1-0404-49da-a49a-baa04f187fb0",
   "metadata": {},
   "outputs": [],
   "source": [
    "Q6. What is a Venn diagram?\n",
    "ans- It is the graphical reprsentation of various set operations"
   ]
  },
  {
   "cell_type": "code",
   "execution_count": null,
   "id": "1a0f7e4a-f399-4fc5-b2d5-ff2c6880c39a",
   "metadata": {},
   "outputs": [],
   "source": [
    "Q7. For the two given sets A = (2,3,4,5,6,7) & B = (0,2,6,8,10). Find:\n",
    "(i) A B\n",
    "(ii) A ⋃ B\n",
    "ans-i> (2,6)\n",
    "ii> (0,2,3,4,5,6,7,8,10)"
   ]
  },
  {
   "cell_type": "code",
   "execution_count": null,
   "id": "73f71c90-e4ac-4dff-944b-e1c0c23d7f5c",
   "metadata": {},
   "outputs": [],
   "source": [
    "Q8. What do you understand about skewness in data?\n",
    "ans- It is the measure of asymmetry of a distribution"
   ]
  },
  {
   "cell_type": "code",
   "execution_count": null,
   "id": "676ddf06-de18-4822-836b-eebcd2f21c0e",
   "metadata": {},
   "outputs": [],
   "source": [
    "Q9. If a data is right skewed then what will be the position of median with respect to mean?\n",
    "ans- Then median will be lesser than mean and it will towrards the right side"
   ]
  },
  {
   "cell_type": "code",
   "execution_count": null,
   "id": "9cb65f5a-4d19-4a71-852f-9ef49cc32d6f",
   "metadata": {},
   "outputs": [],
   "source": [
    "Q10. Explain the difference between covariance and correlation. How are these measures used in\n",
    "statistical analysis?\n",
    "ans- Both covariance and correlation tells the relation between two variables but, covariance only tells the relation where as correlation tells the magnitude of relation and its direction too."
   ]
  },
  {
   "cell_type": "code",
   "execution_count": null,
   "id": "8d3372db-9eed-4d4f-ad02-b3499b2ae360",
   "metadata": {},
   "outputs": [],
   "source": [
    "Q11. What is the formula for calculating the sample mean? Provide an example calculation for a\n",
    "dataset.\n",
    "Ans- sample mean is calculated by summation of all data sets by the n-1 \n",
    "eg:a=[1,2,4,8,9]\n",
    "s=6"
   ]
  },
  {
   "cell_type": "code",
   "execution_count": null,
   "id": "054466e1-d3e2-41ee-9c93-cb20cf0ba8b9",
   "metadata": {},
   "outputs": [],
   "source": [
    "Q12. For a normal distribution data what is the relationship between its measure of central tendency?\n",
    "ans- all the three measures are equal i.e mean=median=mode"
   ]
  },
  {
   "cell_type": "code",
   "execution_count": null,
   "id": "17d92b85-4a35-4e93-8ee8-dd037bccce9f",
   "metadata": {},
   "outputs": [],
   "source": [
    "Q13. How is covariance different from correlation?\n",
    "ans-Covariance measures the degree to which two variables are linearly associated with each other. It is a measure of how much the two variables change together. A positive covariance indicates that the two variables tend to increase or decrease together, while a negative covariance indicates that one variable tends to increase as the other decreases. However, covariance does not provide information about the strength or direction of the relationship, and the magnitude of the covariance depends on the scale of the variables.\n",
    "\n",
    "Correlation, on the other hand, measures the strength and direction of the linear relationship between two variables. It is a standardized measure that ranges from -1 to 1, with a value of 0 indicating no correlation and values closer to -1 or 1 indicating stronger correlations. A positive correlation indicates that the two variables tend to increase or decrease together, while a negative correlation indicates that one variable tends to increase as the other decreases.\n",
    "\n"
   ]
  },
  {
   "cell_type": "code",
   "execution_count": null,
   "id": "78a3289e-b254-4e7b-bab3-afc819f33ec2",
   "metadata": {},
   "outputs": [],
   "source": [
    "Q14. How do outliers affect measures of central tendency and dispersion? Provide an example.\n",
    "ans-Measures of central tendency, such as the mean and median, can be greatly affected by outliers. The mean is particularly sensitive to outliers, as it takes into account every value in the dataset. If there are one or more extreme values in the dataset, the mean will be pulled in the direction of the outliers, potentially skewing the entire distribution. The median, on the other hand, is less affected by outliers, as it is only influenced by the values at the center of the distribution.\n",
    "\n",
    "Measures of dispersion, such as the range, variance, and standard deviation, can also be affected by outliers. If there are one or more extreme values in the dataset, the range will be much larger than it would be without the outliers. Similarly, the variance and standard deviation will be inflated, as these measures are based on the distance of each value from the mean. If there are one or more extreme values, they will contribute more to the variance and standard deviation, leading to an overestimate of the true variability of the data.\n",
    "\n",
    "For example, consider a dataset of salaries at a company that includes an outlier for a CEO who earns significantly more than the other employees. The mean salary will be much higher than the median salary, as the CEO's salary is pulling the mean up. The range, variance, and standard deviation will also be much larger than they would be without the CEO's salary, as this extreme value is far from the rest of the data. In this case, it may be more appropriate to use the median or other robust measures of central tendency and dispersion that are less influenced by outliers."
   ]
  }
 ],
 "metadata": {
  "kernelspec": {
   "display_name": "Python 3 (ipykernel)",
   "language": "python",
   "name": "python3"
  },
  "language_info": {
   "codemirror_mode": {
    "name": "ipython",
    "version": 3
   },
   "file_extension": ".py",
   "mimetype": "text/x-python",
   "name": "python",
   "nbconvert_exporter": "python",
   "pygments_lexer": "ipython3",
   "version": "3.10.8"
  }
 },
 "nbformat": 4,
 "nbformat_minor": 5
}
