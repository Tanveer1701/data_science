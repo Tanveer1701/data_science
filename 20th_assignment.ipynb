{
 "cells": [
  {
   "cell_type": "code",
   "execution_count": null,
   "id": "e4934d5b-6d96-4ac6-a32b-6f12bed54bc4",
   "metadata": {},
   "outputs": [],
   "source": [
    "Q1. What is Web Scraping? Why is it Used? Give three areas where Web Scraping is used to get data.\n",
    "ans-Web scraping refers to the automated process of extracting data from websites.\n",
    "It is used for various purposes like data collection,business intelligence,marketing and lead generati\n",
    "three specific areas where web scraping is commonly used:\n",
    "    1.E-commerce\n",
    "    2.Finance\n",
    "    3.Research"
   ]
  },
  {
   "cell_type": "code",
   "execution_count": 1,
   "id": "307637ba-cf33-4deb-8487-c82bb201c9bd",
   "metadata": {},
   "outputs": [
    {
     "ename": "SyntaxError",
     "evalue": "invalid decimal literal (354242775.py, line 3)",
     "output_type": "error",
     "traceback": [
      "\u001b[0;36m  Cell \u001b[0;32mIn[1], line 3\u001b[0;36m\u001b[0m\n\u001b[0;31m    1.manual web scrapping\u001b[0m\n\u001b[0m     ^\u001b[0m\n\u001b[0;31mSyntaxError\u001b[0m\u001b[0;31m:\u001b[0m invalid decimal literal\n"
     ]
    }
   ],
   "source": [
    "Q2. What are the different methods used for Web Scraping?\n",
    "ans-Several methods are:\n",
    "    1.manual web scrapping\n",
    "    2.using browser extensions\n",
    "    3.using programming languages like python\n",
    "    4.API web scrapping"
   ]
  },
  {
   "cell_type": "code",
   "execution_count": null,
   "id": "bb0b885d-ac6b-4255-abfc-46d7d86dbe35",
   "metadata": {},
   "outputs": [],
   "source": [
    "Q3. What is Beautiful Soup? Why is it used?\n",
    "ans-Beautiful Soup is a Python library used for web scraping purposes. It allows developers to extract data from HTML and XML files by providing a set of methods and tools to navigate and search the structure of these documents.\n",
    "\n",
    "Beautiful Soup is used because it simplifies the process of parsing and extracting data from HTML and XML files."
   ]
  },
  {
   "cell_type": "code",
   "execution_count": null,
   "id": "20c77f65-d7fb-4fe3-9cf8-0ea913412e93",
   "metadata": {},
   "outputs": [],
   "source": [
    "Q4. Why is flask used in this Web Scraping project?\n",
    "ans-Flask is a popular Python web framework that is used for building web applications, APIs, and web services. Flask is often used in web scraping projects because it provides a lightweight and flexible framework for building custom web applications.\n"
   ]
  },
  {
   "cell_type": "code",
   "execution_count": null,
   "id": "3dfb7f3c-70b1-4831-be8a-8777bb3da7e7",
   "metadata": {},
   "outputs": [],
   "source": [
    "Q5. Write the names of AWS services used in this project. Also, explain the use of each service.\n",
    "The specific AWS services used in a web scraping project can vary depending on the project's requirements and architecture. However, some common AWS services that may be used in a web scraping project include:\n",
    "\n",
    "Amazon EC2: EC2 (Elastic Compute Cloud) is a web service that provides resizable compute capacity in the cloud. It is often used in web scraping projects to run web scraping scripts in a scalable and cost-effective manner.\n",
    "\n",
    "Amazon S3: S3 (Simple Storage Service) is a cloud storage service that is used to store and retrieve data. In a web scraping project, S3 can be used to store the scraped data and make it accessible to other parts of the application.\n",
    "\n",
    "Amazon RDS: RDS (Relational Database Service) is a managed database service that is used to create, scale, and manage relational databases in the cloud. In a web scraping project, RDS can be used to store the scraped data in a structured format and perform data analysis tasks."
   ]
  }
 ],
 "metadata": {
  "kernelspec": {
   "display_name": "Python 3 (ipykernel)",
   "language": "python",
   "name": "python3"
  },
  "language_info": {
   "codemirror_mode": {
    "name": "ipython",
    "version": 3
   },
   "file_extension": ".py",
   "mimetype": "text/x-python",
   "name": "python",
   "nbconvert_exporter": "python",
   "pygments_lexer": "ipython3",
   "version": "3.10.8"
  }
 },
 "nbformat": 4,
 "nbformat_minor": 5
}
