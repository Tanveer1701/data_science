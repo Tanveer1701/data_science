{
 "cells": [
  {
   "cell_type": "code",
   "execution_count": null,
   "id": "e6d8060b-fbc5-4845-8bcb-f624f5ef8ee9",
   "metadata": {},
   "outputs": [],
   "source": [
    "\"\"\"\n",
    "\n",
    "Q1, Create a vehicle class with an init method having instance variables as name_of_vehicle, max_speed\n",
    "and average_of_vehicle.\n",
    "\"\"\"\n"
   ]
  },
  {
   "cell_type": "code",
   "execution_count": null,
   "id": "441de9ea-748f-4b3b-a964-05c4b0c75825",
   "metadata": {},
   "outputs": [],
   "source": [
    "class Vehicle:\n",
    "    def __init__(self, name, max_speed, avg_speed):\n",
    "        self.name_of_vehicle = name\n",
    "        self.max_speed = max_speed\n",
    "        self.average_of_vehicle = avg_speed"
   ]
  },
  {
   "cell_type": "code",
   "execution_count": null,
   "id": "7dee0e0d-8721-444f-808f-874d1b96c436",
   "metadata": {},
   "outputs": [],
   "source": [
    "\"\"\"\n",
    "Q2. Create a child class car from the vehicle class created in Que 1, which will inherit the vehicle class.\n",
    "Create a method named seating_capacity which takes capacity as an argument and returns the name of\n",
    "the vehicle and its seating capacity.\n",
    "\"\"\""
   ]
  },
  {
   "cell_type": "code",
   "execution_count": null,
   "id": "f4c712b2-55d5-4b4d-b80f-e2dcdc2cf451",
   "metadata": {},
   "outputs": [],
   "source": [
    "class Car(Vehicle):\n",
    "    def __init__(self, name, max_speed, avg_speed):\n",
    "        super().__init__(name, max_speed, avg_speed)\n",
    "\n",
    "    def seating_capacity(self, capacity):\n",
    "        return f\"{self.name_of_vehicle} has a seating capacity of {capacity} people.\""
   ]
  },
  {
   "cell_type": "code",
   "execution_count": null,
   "id": "15d656fd-e73c-4cf8-81f0-fbb1040ad6d1",
   "metadata": {},
   "outputs": [],
   "source": [
    "# Q3. What is multiple inheritance? Write a python code to demonstrate multiple inheritance."
   ]
  },
  {
   "cell_type": "code",
   "execution_count": null,
   "id": "1c137a4f-0452-4d3c-8de1-313a70b0055e",
   "metadata": {},
   "outputs": [],
   "source": [
    "Multiple inheritance is a feature of object-oriented programming languages that allows a class to inherit properties and methods from more than one parent class. In Python, you can create a class that inherits from multiple parent classes by listing them in \n"
   ]
  },
  {
   "cell_type": "code",
   "execution_count": null,
   "id": "92b576a7-b085-4311-b9a4-ca99f25bad47",
   "metadata": {},
   "outputs": [],
   "source": [
    "Q4. What are getter and setter in python? Create a class and create a getter and a setter method in this\n",
    "class.\n",
    "Ans-In Python, getters and setters are methods that provide a way to access and modify class attributes. Getters are methods that retrieve the value of an attribute, and setters are methods that allow you to modify the value of an attribute.\n",
    "class Person:\n",
    "    def __init__(self, name):\n",
    "        self._name = name\n",
    "\n",
    "    # Getter method to retrieve the name\n",
    "    def get_name(self):\n",
    "        return self._name\n",
    "\n",
    "    # Setter method to modify the name\n",
    "    def set_name(self, name):\n",
    "        self._name = name\n"
   ]
  },
  {
   "cell_type": "code",
   "execution_count": null,
   "id": "d547ad10-5b4e-49e9-9632-4350938906b3",
   "metadata": {},
   "outputs": [],
   "source": [
    "5.Q5.What is method overriding in python? Write a python code to demonstrate method overriding.\n",
    "Ans-In Python, method overriding is a process where a subclass provides a different implementation for a method that is already defined in its superclass. This means that when the method is called on an instance of the subclass, the implementation in the subclass is used instead of the implementation in the superclass."
   ]
  }
 ],
 "metadata": {
  "kernelspec": {
   "display_name": "Python 3 (ipykernel)",
   "language": "python",
   "name": "python3"
  },
  "language_info": {
   "codemirror_mode": {
    "name": "ipython",
    "version": 3
   },
   "file_extension": ".py",
   "mimetype": "text/x-python",
   "name": "python",
   "nbconvert_exporter": "python",
   "pygments_lexer": "ipython3",
   "version": "3.10.8"
  }
 },
 "nbformat": 4,
 "nbformat_minor": 5
}
