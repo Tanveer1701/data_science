{
 "cells": [
  {
   "cell_type": "code",
   "execution_count": null,
   "id": "04e350b9-6067-4e12-a78f-e23ad96c22d7",
   "metadata": {},
   "outputs": [],
   "source": [
    "#Q1. List any five functions of the pandas library with execution.\n",
    "ans-Five functions are:\n",
    "    read_csv(),fillna(),groupby(),head(),tail()"
   ]
  },
  {
   "cell_type": "code",
   "execution_count": null,
   "id": "bf89bd29-2f27-46f6-b29d-73ed75c20448",
   "metadata": {},
   "outputs": [],
   "source": [
    "#Q2. Given a Pandas DataFrame df with columns 'A', 'B', and 'C', write a Python function to re-index the\n",
    "DataFrame with a new index that starts from 1 and increments by 2 for each row.\n",
    "ans-import pandas as pd\n",
    "\n",
    "def reindex_df(df):\n",
    "    # Create a new index that starts from 1 and increments by 2 for each row\n",
    "    new_index = pd.RangeIndex(start=1, step=2, stop=len(df)*2+1)\n",
    "    \n",
    "    # Assign the new index to the DataFrame\n",
    "    df.index = new_index\n",
    "    \n",
    "    return df\n"
   ]
  },
  {
   "cell_type": "code",
   "execution_count": null,
   "id": "1e6138e3-b771-4043-bb0c-d4abc3b52048",
   "metadata": {},
   "outputs": [],
   "source": [
    "Q3. You have a Pandas DataFrame df with a column named 'Values'. Write a Python function that\n",
    "iterates over the DataFrame and calculates the sum of the first three values in the 'Values' column. The\n",
    "function should print the sum to the console.\n",
    "ans-import pandas as pd\n",
    "\n",
    "def sum_first_three(df):\n",
    "    # Initialize a variable to store the sum\n",
    "    sum_values = 0\n",
    "    \n",
    "    # Iterate over the first three values in the 'Values' column\n",
    "    for value in df['Values'][:3]:\n",
    "        # Add each value to the sum\n",
    "        sum_values += value\n",
    "    \n",
    "    # Print the sum to the console\n",
    "    print(\"The sum of the first three values in the 'Values' column is:\", sum_values)\n"
   ]
  },
  {
   "cell_type": "code",
   "execution_count": null,
   "id": "675ba03e-7bb0-4fbc-9655-95de2283964f",
   "metadata": {},
   "outputs": [],
   "source": [
    "Q4. Given a Pandas DataFrame df with a column 'Text', write a Python function to create a new column\n",
    "'Word_Count' that contains the number of words in each row of the 'Text' column.\n",
    "ans-import pandas as pd\n",
    "\n",
    "def add_word_count(df):\n",
    "    # Split the 'Text' column into words using the split() method\n",
    "    words = df['Text'].str.split()\n",
    "    \n",
    "    # Count the number of words in each row using the len() function\n",
    "    word_counts = words.apply(len)\n",
    "    \n",
    "    # Add the 'Word_Count' column to the DataFrame\n",
    "    df['Word_Count'] = word_counts\n",
    "    \n",
    "    return df\n"
   ]
  },
  {
   "cell_type": "code",
   "execution_count": null,
   "id": "7048e04a-6496-47e9-89a4-f0584a597f17",
   "metadata": {},
   "outputs": [],
   "source": [
    "Q5. How are DataFrame.size() and DataFrame.shape() different?\n",
    "ans-DataFrame.size() returns the total number of elements in the DataFrame, which is equivalent to the number of rows times the number of columns. It returns a single integer value representing the size of the DataFrame.\n",
    "\n",
    "DataFrame.shape() returns a tuple containing the number of rows and columns in the DataFrame, in that order. It returns a tuple of two integers representing the shape of the DataFrame."
   ]
  },
  {
   "cell_type": "code",
   "execution_count": null,
   "id": "10002480-335f-4ea1-91b8-8470d44a4883",
   "metadata": {},
   "outputs": [],
   "source": [
    "Q6. Which function of pandas do we use to read an excel file?\n",
    "ans-we use read_excel() function"
   ]
  },
  {
   "cell_type": "code",
   "execution_count": null,
   "id": "cbcb7554-9896-44d5-aa2b-6c32f6acf92f",
   "metadata": {},
   "outputs": [],
   "source": [
    "Q7. You have a Pandas DataFrame df that contains a column named 'Email' that contains email\n",
    "addresses in the format 'username@domain.com'. Write a Python function that creates a new column\n",
    "'Username' in df that contains only the username part of each email address.\n",
    "ans-import pandas as pd\n",
    "\n",
    "def extract_username(df):\n",
    "    # split the 'Email' column into two parts: username and domain\n",
    "    df[['Username', 'Domain']] = df['Email'].str.split('@', expand=True)\n",
    "    \n",
    "    # drop the 'Email' column\n",
    "    df.drop('Email', axis=1, inplace=True)\n",
    "    \n",
    "    # return the updated DataFrame\n",
    "    return df\n"
   ]
  },
  {
   "cell_type": "code",
   "execution_count": null,
   "id": "4ac5238c-b763-45ef-92df-757e58902254",
   "metadata": {},
   "outputs": [],
   "source": [
    "Q8. You have a Pandas DataFrame df with columns 'A', 'B', and 'C'. Write a Python function that selects\n",
    "all rows where the value in column 'A' is greater than 5 and the value in column 'B' is less than 10. The\n",
    "function should return a new DataFrame that contains only the selected rows.\n",
    "ans-import pandas as pd\n",
    "\n",
    "def select_rows(df):\n",
    "    # create a boolean mask for the 'A' condition\n",
    "    mask_A = df['A'] > 5\n",
    "    \n",
    "    # create a boolean mask for the 'B' condition\n",
    "    mask_B = df['B'] < 10\n",
    "    \n",
    "    # combine the masks using the bitwise & operator\n",
    "    final_mask = mask_A & mask_B\n",
    "    \n",
    "    # select the rows that meet all conditions\n",
    "    selected_rows = df.loc[final_mask]\n",
    "    \n",
    "    # return the new DataFrame\n",
    "    return selected_rows\n"
   ]
  },
  {
   "cell_type": "code",
   "execution_count": null,
   "id": "d99c5617-8d77-46f8-ab62-8415ac40d0a9",
   "metadata": {},
   "outputs": [],
   "source": [
    "Q9. Given a Pandas DataFrame df with a column 'Values', write a Python function to calculate the mean,\n",
    "median, and standard deviation of the values in the 'Values' column.\n",
    "ans-import pandas as pd\n",
    "\n",
    "def calculate_statistics(df):\n",
    "    # calculate the mean of the 'Values' column\n",
    "    mean = df['Values'].mean()\n",
    "    \n",
    "    # calculate the median of the 'Values' column\n",
    "    median = df['Values'].median()\n",
    "    \n",
    "    # calculate the standard deviation of the 'Values' column\n",
    "    std = df['Values'].std()\n",
    "    \n",
    "    # print the results\n",
    "    print(\"Mean:\", mean)\n",
    "    print(\"Median:\", median)\n",
    "    print(\"Standard Deviation:\", std)\n"
   ]
  },
  {
   "cell_type": "code",
   "execution_count": null,
   "id": "d860d261-0e62-43fa-a685-9802d83b269a",
   "metadata": {},
   "outputs": [],
   "source": [
    "Q10. Given a Pandas DataFrame df with a column 'Sales' and a column 'Date', write a Python function to\n",
    "create a new column 'MovingAverage' that contains the moving average of the sales for the past 7 days\n",
    "for each row in the DataFrame. The moving average should be calculated using a window of size 7 and\n",
    "should include the current day.\n",
    "ans-import pandas as pd\n",
    "\n",
    "def calculate_moving_average(df):\n",
    "    # set the index of the DataFrame to the 'Date' column\n",
    "    df.set_index('Date', inplace=True)\n",
    "    \n",
    "    # calculate the moving average of the 'Sales' column using a rolling window of size 7\n",
    "    df['MovingAverage'] = df['Sales'].rolling(window=7, min_periods=1).mean()\n",
    "    \n",
    "    # reset the index of the DataFrame\n",
    "    df.reset_index(inplace=True)\n",
    "    \n",
    "    # return the DataFrame with the new 'MovingAverage' column\n",
    "    return df\n"
   ]
  },
  {
   "cell_type": "code",
   "execution_count": null,
   "id": "41a4d452-d57d-4454-a672-05ec16dfeef9",
   "metadata": {},
   "outputs": [],
   "source": [
    "Q11. You have a Pandas DataFrame df with a column 'Date'. Write a Python function that creates a new\n",
    "column 'Weekday' in the DataFrame. The 'Weekday' column should contain the weekday name (e.g.\n",
    "Monday, Tuesday) corresponding to each date in the 'Date' column.\n",
    "ans-import pandas as pd\n",
    "\n",
    "def add_weekday_column(df):\n",
    "    # convert the 'Date' column to a datetime format\n",
    "    df['Date'] = pd.to_datetime(df['Date'])\n",
    "    \n",
    "    # create a new column 'Weekday' containing the weekday name of each date\n",
    "    df['Weekday'] = df['Date'].dt.strftime('%A')\n",
    "    \n",
    "    # return the DataFrame with the new 'Weekday' column\n",
    "    return df\n"
   ]
  },
  {
   "cell_type": "code",
   "execution_count": null,
   "id": "0cbc8224-15c1-4324-a120-2324ae12c67a",
   "metadata": {},
   "outputs": [],
   "source": [
    "Q12. Given a Pandas DataFrame df with a column 'Date' that contains timestamps, write a Python\n",
    "function to select all rows where the date is between '2023-01-01' and '2023-01-31'.\n",
    "ans-import pandas as pd\n",
    "\n",
    "def select_rows_between_dates(df):\n",
    "    # convert the 'Date' column to a datetime format\n",
    "    df['Date'] = pd.to_datetime(df['Date'])\n",
    "    \n",
    "    # use boolean indexing to select rows where the date is between '2023-01-01' and '2023-01-31'\n",
    "    mask = (df['Date'].dt.date >= pd.to_datetime('2023-01-01').date()) & (df['Date'].dt.date <= pd.to_datetime('2023-01-31').date())\n",
    "    selected_rows = df.loc[mask]\n",
    "    \n",
    "    # return the selected rows\n",
    "    return selected_rows\n",
    "\n"
   ]
  },
  {
   "cell_type": "code",
   "execution_count": null,
   "id": "ad2c0d65-c738-4d44-b94a-20e978ce9720",
   "metadata": {},
   "outputs": [],
   "source": [
    "Q13. To use the basic functions of pandas, what is the first and foremost necessary library that needs to\n",
    "be imported?\n",
    "ans-import pandas as pd needs to be imported"
   ]
  }
 ],
 "metadata": {
  "kernelspec": {
   "display_name": "Python 3 (ipykernel)",
   "language": "python",
   "name": "python3"
  },
  "language_info": {
   "codemirror_mode": {
    "name": "ipython",
    "version": 3
   },
   "file_extension": ".py",
   "mimetype": "text/x-python",
   "name": "python",
   "nbconvert_exporter": "python",
   "pygments_lexer": "ipython3",
   "version": "3.10.8"
  }
 },
 "nbformat": 4,
 "nbformat_minor": 5
}
