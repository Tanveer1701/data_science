{
 "cells": [
  {
   "cell_type": "code",
   "execution_count": 1,
   "id": "288301d8-f360-448b-bbd1-d55f76049488",
   "metadata": {},
   "outputs": [
    {
     "data": {
      "text/plain": [
       "'\\n#1 followung criteria \\n   >90 grade=A\\n   >80 and <=90 B\\n   >=60 and <80 C\\n    below 60 D\\n'"
      ]
     },
     "execution_count": 1,
     "metadata": {},
     "output_type": "execute_result"
    }
   ],
   "source": [
    "\"\"\"\n",
    "#1 followung criteria \n",
    "   >90 grade=A\n",
    "   >80 and <=90 B\n",
    "   >=60 and <80 C\n",
    "    below 60 D\n",
    "\"\"\""
   ]
  },
  {
   "cell_type": "code",
   "execution_count": 5,
   "id": "17ba824f-0ffe-4404-a52b-97061f13f9e4",
   "metadata": {},
   "outputs": [
    {
     "name": "stdin",
     "output_type": "stream",
     "text": [
      "enter your percentage 87\n"
     ]
    },
    {
     "name": "stdout",
     "output_type": "stream",
     "text": [
      "You have secured B grade as ur percentage is 87\n"
     ]
    }
   ],
   "source": [
    "def percentage(p):\n",
    "    if p>90:\n",
    "        print(f\"You have secured A grade as ur percentage is {p}\")\n",
    "    elif p>80 and p<=90:\n",
    "        print(f\"You have secured B grade as ur percentage is {p}\")\n",
    "    elif p>=60 and p<80:\n",
    "        print(f\"You have secured C grade as ur percentage is {p}\")\n",
    "    else:\n",
    "        print(f\"You have secured D grade as ur percentage is {p}\")\n",
    "a=int(input(\"enter your percentage\"))\n",
    "percentage(a)"
   ]
  },
  {
   "cell_type": "code",
   "execution_count": null,
   "id": "73c0458d-8554-4b08-bf27-2f4829e86b34",
   "metadata": {},
   "outputs": [],
   "source": [
    "\"\"\"\n",
    " 2. Tax                      cost\n",
    "     15%                       >100000\n",
    "     10%                       <=100000 and >50000\n",
    "     5%                        <=50000\n",
    "\"\"\"\n"
   ]
  },
  {
   "cell_type": "code",
   "execution_count": 9,
   "id": "87c4fa56-4d68-4e21-be15-76350844ef5e",
   "metadata": {},
   "outputs": [
    {
     "name": "stdin",
     "output_type": "stream",
     "text": [
      "Enter your amount 10000\n"
     ]
    },
    {
     "name": "stdout",
     "output_type": "stream",
     "text": [
      "The tax is 500.0 as your entered amount is 10000\n"
     ]
    }
   ],
   "source": [
    "def tax(t):\n",
    "    \n",
    "    if t>100000:\n",
    "        print(f\"The tax is {0.15*t} as your entered amount is {t}\")\n",
    "    if t>50000 and t<=100000:\n",
    "        print(f\"The tax is {0.10*t} as your entered amount is {t}\")\n",
    "    if t<=50000:\n",
    "        print(f\"The tax is {0.05*t} as your entered amount is {t}\")\n",
    "        \n",
    "amount=int(input(\"Enter your amount\"))\n",
    "tax(amount)\n"
   ]
  },
  {
   "cell_type": "code",
   "execution_count": null,
   "id": "a1cf9eb3-0442-4f0e-a637-2272721544e4",
   "metadata": {},
   "outputs": [],
   "source": [
    "\"\"\"\n",
    "  3 city                     monument\n",
    "  Agra                     Taj Mahal\n",
    "  Delhi                    Red Fort\n",
    "  Jaipur                    Jal Mahal\n",
    "  \"\"\"\"\n"
   ]
  },
  {
   "cell_type": "code",
   "execution_count": 13,
   "id": "9dcc9e7e-2a4b-42ef-bd95-90c54fa0a102",
   "metadata": {},
   "outputs": [
    {
     "name": "stdin",
     "output_type": "stream",
     "text": [
      "Enter the name of a city(in proper case):  Jaipur\n"
     ]
    },
    {
     "name": "stdout",
     "output_type": "stream",
     "text": [
      "The monument of Jaipur is Jal Mahal.\n"
     ]
    }
   ],
   "source": [
    "city_to_monument = {\n",
    "    \"Agra\": \"Taj Mahal\",\n",
    "    \"Delhi\": \"Red Fort\",\n",
    "    \"Jaipur\": \"Jal Mahal\"\n",
    "}\n",
    "\n",
    "city = input(\"Enter the name of a city(in proper case): \")\n",
    "\n",
    "if city in city_to_monument:\n",
    "    monument = city_to_monument[city]\n",
    "    print(f\"The monument of {city} is {monument}.\")\n",
    "else:\n",
    "    print(f\"Sorry, the monument of {city} is not found.\")"
   ]
  },
  {
   "cell_type": "code",
   "execution_count": null,
   "id": "690864b0-4667-4a4d-9b17-56439ab9f222",
   "metadata": {},
   "outputs": [],
   "source": [
    "\"\"\"\"\n",
    "##5. Why and when to use while loop in python? Give an example.\n",
    "Ans-\n",
    "while loop is used to run a block code until a certain condition is met\n",
    "eg:while True:\n",
    "    user_input = input(\"Please enter a positive integer: \")\n",
    "    if user_input.isdigit() and int(user_input) > 0:\n",
    "        break\n",
    "    else:\n",
    "        print(\"Invalid input, please try again.\")\n",
    "\n",
    "print(f\"Thank you, you entered the number {user_input}.\")\n",
    "\"\"\""
   ]
  },
  {
   "cell_type": "code",
   "execution_count": null,
   "id": "185c7165-3321-4371-9bd8-318b411ee235",
   "metadata": {},
   "outputs": [],
   "source": [
    "\"\"\"\n",
    "6.use nested while loop in three different pattern\n",
    "Ans- \n",
    "size = 5\n",
    "row = 1\n",
    "\n",
    "while row <= size:\n",
    "    col = 1\n",
    "    while col <= size:\n",
    "        print(\"*\", end=\" \")\n",
    "        col += 1\n",
    "    print()\n",
    "    row += 1\n",
    "    \n",
    "size = 5\n",
    "row = 1\n",
    "\n",
    "while row <= size:\n",
    "    col = 1\n",
    "    while col <= row:\n",
    "        print(\"*\", end=\" \")\n",
    "        col += 1\n",
    "    print()\n",
    "    row += 1\n",
    "\"\"\"\n"
   ]
  },
  {
   "cell_type": "code",
   "execution_count": null,
   "id": "a5daf2aa-0210-4549-9302-4ebcb69a52cc",
   "metadata": {},
   "outputs": [],
   "source": [
    "\"\"\"\"\n",
    "7.\n",
    "reverse a while loop to display numbers from 10 to 1\n",
    "ans-\n",
    "num = 10\n",
    "\n",
    "while num >= 1:\n",
    "    print(num)\n",
    "    num -= 1\n",
    "\"\"\""
   ]
  },
  {
   "cell_type": "code",
   "execution_count": null,
   "id": "62992134-727f-410c-8c07-122de9f95177",
   "metadata": {},
   "outputs": [],
   "source": [
    "\"\"\"\n",
    "8.reverse a while loop to display numbers from 1 to 10:\n",
    "ans-num = 1\n",
    "\n",
    "while num <= 10:\n",
    "    print(num)\n",
    "    num += 1\n",
    "\"\"\""
   ]
  }
 ],
 "metadata": {
  "kernelspec": {
   "display_name": "Python 3 (ipykernel)",
   "language": "python",
   "name": "python3"
  },
  "language_info": {
   "codemirror_mode": {
    "name": "ipython",
    "version": 3
   },
   "file_extension": ".py",
   "mimetype": "text/x-python",
   "name": "python",
   "nbconvert_exporter": "python",
   "pygments_lexer": "ipython3",
   "version": "3.10.8"
  }
 },
 "nbformat": 4,
 "nbformat_minor": 5
}
