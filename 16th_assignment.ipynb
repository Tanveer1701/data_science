{
 "cells": [
  {
   "cell_type": "code",
   "execution_count": null,
   "id": "ea1fd824-31d8-4b6e-9977-60145e862ce7",
   "metadata": {},
   "outputs": [],
   "source": [
    "Q1. What is MongoDB? Explain non-relational databases in short. In which scenarios it is preferred to use\n",
    "MongoDB over SQL databases?\n",
    "ans-\n",
    "MongoDB is a popular open-source document-oriented database system that uses a non-relational, or NoSQL, data model. MongoDB stores data as collections of documents, rather than in tables with rows and columns, which allows for more flexible and dynamic data structures.\n",
    "Non-relational databases, or NoSQL databases, are databases that don't use a traditional relational data model, where data is stored in tables with fixed schemas.\n",
    "MongoDB is often preferred over SQL databases in scenarios where flexibility and scalability are key requirements."
   ]
  },
  {
   "cell_type": "code",
   "execution_count": null,
   "id": "fd93d6b3-4c94-4b84-a1a1-2b025b65bf2b",
   "metadata": {},
   "outputs": [],
   "source": [
    "#Q2. State and Explain the features of MongoDB.\n",
    "ans-MongoDB is a powerful and flexible NoSQL database system that offers a wide range of features to support dynamic and scalable data storage and processing. Some of the key features of MongoDB include:\n",
    "\n",
    "Document-oriented: MongoDB stores data as JSON-like documents, rather than in tables with fixed schemas. This allows for more flexible and dynamic data structures, and enables faster development and iteration.\n",
    "\n",
    "Dynamic schema: MongoDB's flexible schema allows for easy and rapid development, as changes to the data model can be made without affecting the entire database schema. This also makes it easier to handle unstructured and semi-structured data.\n",
    "\n",
    "Scalability: MongoDB supports horizontal scaling across multiple nodes, making it well-suited for big data scenarios where data volumes and velocity are high."
   ]
  },
  {
   "cell_type": "code",
   "execution_count": null,
   "id": "033245d6-da7f-4afd-97ee-fcc180c6af9c",
   "metadata": {},
   "outputs": [],
   "source": [
    "Q3. Write a code to connect MongoDB to Python. Also, create a database and a collection in MongoDB.\n",
    "ans-# Import the MongoClient class from the PyMongo library\n",
    "from pymongo import MongoClient\n",
    "\n",
    "# Connect to the local MongoDB instance\n",
    "client = MongoClient('localhost', 27017)\n",
    "\n",
    "# Create a new database called 'mydatabase'\n",
    "mydb = client['mydatabase']\n",
    "\n",
    "# Create a new collection called 'mycollection'\n",
    "mycol = mydb['mycollection']\n",
    "\n",
    "# Insert a new document into the collection\n",
    "mydict = { \"name\": \"John\", \"age\": 30, \"city\": \"New York\" }\n",
    "x = mycol.insert_one(mydict)\n",
    "\n",
    "# Print the inserted document's ID\n",
    "print(x.inserted_id)\n"
   ]
  },
  {
   "cell_type": "code",
   "execution_count": null,
   "id": "71408138-bf1b-4c37-8270-7a32e6b00e71",
   "metadata": {},
   "outputs": [],
   "source": [
    "Q4. Using the database and the collection created in question number 3, write a code to insert one record,\n",
    "and insert many records. Use the find() and find_one() methods to print the inserted record.\n",
    "ans-# Import the MongoClient class from the PyMongo library\n",
    "from pymongo import MongoClient\n",
    "\n",
    "# Connect to the local MongoDB instance\n",
    "client = MongoClient('localhost', 27017)\n",
    "\n",
    "# Access the 'mydatabase' database\n",
    "mydb = client['mydatabase']\n",
    "\n",
    "# Access the 'mycollection' collection\n",
    "mycol = mydb['mycollection']\n",
    "\n",
    "# Insert one record\n",
    "mydict = { \"name\": \"Sarah\", \"age\": 25, \"city\": \"Los Angeles\" }\n",
    "x = mycol.insert_one(mydict)\n",
    "\n",
    "# Insert many records\n",
    "mylist = [\n",
    "  { \"name\": \"Bob\", \"age\": 35, \"city\": \"San Francisco\" },\n",
    "  { \"name\": \"Alice\", \"age\": 28, \"city\": \"Chicago\" },\n",
    "  { \"name\": \"Tom\", \"age\": 42, \"city\": \"Boston\" }\n",
    "]\n",
    "x = mycol.insert_many(mylist)\n",
    "\n",
    "# Print the inserted record using find_one()\n",
    "print(mycol.find_one())\n",
    "\n",
    "# Print all the inserted records using find()\n",
    "for record in mycol.find():\n",
    "    print(record)\n"
   ]
  },
  {
   "cell_type": "code",
   "execution_count": null,
   "id": "7a3f0807-d0bd-4312-8e92-342ccdc832cd",
   "metadata": {},
   "outputs": [],
   "source": [
    "Q5. Explain how you can use the find() method to query the MongoDB database. Write a simple code to\n",
    "demonstrate this.\n",
    "ans-The find() method is used in MongoDB to query the database for documents that match a certain set of criteria.\n",
    "# import the MongoClient class from the PyMongo library\n",
    "from pymongo import MongoClient\n",
    "\n",
    "# create a new MongoClient instance and connect to the local MongoDB server\n",
    "client = MongoClient()\n",
    "\n",
    "# get a reference to the 'test' database\n",
    "db = client.test\n",
    "\n",
    "# get a reference to the 'users' collection\n",
    "users = db.users\n",
    "\n",
    "# use the find() method to query for all documents in the 'users' collection\n",
    "results = users.find()\n",
    "\n",
    "# loop through the results and print each document\n",
    "for result in results:\n",
    "    print(result)\n"
   ]
  },
  {
   "cell_type": "code",
   "execution_count": null,
   "id": "c2442af6-b6a4-43c3-b0d3-ea4c3e8d9e16",
   "metadata": {},
   "outputs": [],
   "source": [
    "Q6. Explain the sort() method. Give an example to demonstrate sorting in MongoDB.\n",
    "ans-The sort() method in MongoDB is used to sort the results of a query in ascending or descending order based on one or more fields.\n",
    "# import the MongoClient class from the PyMongo library\n",
    "from pymongo import MongoClient\n",
    "\n",
    "# create a new MongoClient instance and connect to the local MongoDB server\n",
    "client = MongoClient()\n",
    "\n",
    "# get a reference to the 'test' database\n",
    "db = client.test\n",
    "\n",
    "# get a reference to the 'books' collection\n",
    "books = db.books\n",
    "\n",
    "# use the sort() method to sort the books by the published_date field in ascending order\n",
    "results = books.find().sort(\"published_date\", 1)\n",
    "\n",
    "# loop through the sorted results and print each book's title and published date\n",
    "for result in results:\n",
    "    print(result[\"title\"], result[\"published_date\"])\n"
   ]
  },
  {
   "cell_type": "code",
   "execution_count": null,
   "id": "b8918771-6eab-4ada-b9c2-6f9eddda17f6",
   "metadata": {},
   "outputs": [],
   "source": []
  }
 ],
 "metadata": {
  "kernelspec": {
   "display_name": "Python 3 (ipykernel)",
   "language": "python",
   "name": "python3"
  },
  "language_info": {
   "codemirror_mode": {
    "name": "ipython",
    "version": 3
   },
   "file_extension": ".py",
   "mimetype": "text/x-python",
   "name": "python",
   "nbconvert_exporter": "python",
   "pygments_lexer": "ipython3",
   "version": "3.10.8"
  }
 },
 "nbformat": 4,
 "nbformat_minor": 5
}
